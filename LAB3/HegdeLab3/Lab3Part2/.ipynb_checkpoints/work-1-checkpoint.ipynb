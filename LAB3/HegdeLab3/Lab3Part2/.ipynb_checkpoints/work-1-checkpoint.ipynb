{
 "cells": [
  {
   "cell_type": "code",
   "execution_count": null,
   "metadata": {},
   "outputs": [],
   "source": [
    "#Name - Pranav Girish Sankhe\n",
    "#Name - Srivatsa Manjunath Hegde"
   ]
  },
  {
   "cell_type": "code",
   "execution_count": 1,
   "metadata": {},
   "outputs": [],
   "source": [
    "# importing all the libraries needed.\n",
    "# initializing spark\n",
    "import findspark\n",
    "findspark.init()\n",
    "from pyspark.sql import SQLContext\n",
    "from pyspark import SparkContext\n",
    "sc =SparkContext()\n",
    "sqlContext = SQLContext(sc)\n",
    "\n"
   ]
  },
  {
   "cell_type": "code",
   "execution_count": 2,
   "metadata": {},
   "outputs": [],
   "source": [
    "# importing pyspark for some visualisation  \n",
    "import pyspark as spark "
   ]
  },
  {
   "cell_type": "code",
   "execution_count": 3,
   "metadata": {},
   "outputs": [],
   "source": [
    "from pyspark.sql import SparkSession \n",
    "spark = SparkSession \\\n",
    "    .builder \\\n",
    "    .appName('Python Spark Basic example')\\\n",
    "    .config('spark.some.config.option', 'some-value')\\\n",
    "    .getOrCreate()"
   ]
  },
  {
   "cell_type": "code",
   "execution_count": 4,
   "metadata": {},
   "outputs": [],
   "source": [
    "# reading the data.csv file.\n",
    "df = spark.read.csv(\"data.csv\", header = 'true')"
   ]
  },
  {
   "cell_type": "code",
   "execution_count": 5,
   "metadata": {},
   "outputs": [
    {
     "name": "stdout",
     "output_type": "stream",
     "text": [
      "root\n",
      " |-- Category: string (nullable = true)\n",
      " |-- Descript: string (nullable = true)\n",
      "\n",
      "<class 'pyspark.sql.dataframe.DataFrame'>\n"
     ]
    }
   ],
   "source": [
    "# trying some basic pyspark SQL commands\n",
    "df.printSchema()\n",
    "print(type(df))"
   ]
  },
  {
   "cell_type": "code",
   "execution_count": 6,
   "metadata": {},
   "outputs": [
    {
     "data": {
      "text/plain": [
       "Row(Category='sports', Descript='If you’ve never had your heart broken or your nerves thoroughly frayed by a sporting event, you know someone who has. As a young journalist at the Los Angeles Times in the 1990s, George Dohrmann would field late-night phone calls from rabid fans. He wondered, being a fan himself, why the depth of their devotion mystified him. “My blindness to the root causes of their thinking and conduct was also ignorance about myself,” he writes in his new book, “Superfans: Into the Heart of Obsessive Sports Fandom.” Dohrmann, who spent time as an investigative reporter at Sports Illustrated and is now a senior editor at The Athletic, spoke to everyday fans, academics and scientists about what it is that drives our vicarious competitive mania. Below, he talks about whether kids should be fans, his admiration for the soccer player Clint Dempsey and more.When did you first get the idea to write this book?It’s long been a curiosity of mine, why people were so intense about their favorite team. I certainly had my favorites throughout my life. As a young person, it was Notre Dame football; and growing up in California, the Giants in baseball and the Warriors in basketball. Most of those teams fell away, but what became my one true obsession was the United States men’s national soccer team.But never on the level that I would see from people both as a young journalist and then later, when I was doing investigative journalism on colleges, getting death threats from fans who were upset. What is it that makes people this passionate? I love sports too, but how did they get there?Then I had kids — I have an eight-year-old and a five-year-old — and started asking myself about fandom and how to introduce it to them. It all came together three or four years ago. It felt like the moment, professionally and personally, for me to dive into this book. There are so many books that explore someone’s individual fandom, but those aren’t that accessible. If I’m not a Red Sox fan, I’m not going to read a book about a Red Sox fan. I thought, if you wrote something that introduced different people from around the country, that was a more approachable way to analyze fandom.What’s the most surprising thing you learned while writing it?I talked to Susan Harter, a renowned child psychologist, about how kids receive their parents’ fandom. She told me that we shouldn’t be introducing our kids to fandom until adolescence. This runs contrary to what we do. We put a baby in a Green Bay Packers onesie. This is what we see all the time, and we celebrate it, posting pictures of it and saying how cute it is. But a kid I wrote about, an Eagles fan, was just melting down in YouTube videos while the Patriots were beating his team.Harter said kids want to see the world in black and white. They want to divide the world into good and bad. And sports does that. But the kids don’t understand that the fact that their teacher is an Auburn fan doesn’t make them a bad person. They don’t understand that daddy’s going to be O.K. when his team loses. They lack perspective. They can’t say, “Well, it’s been a good season even though we lost this game.”Sometimes now I watch a game outside the home so my kids don’t see me yelling at the TV and see that it’s important to me. I don’t want them to make it important right now.In what way is the book you wrote different from the book you set out to write?Initially I wanted to have more fan-athlete engagement in the book, more opportunities for athletes to confront the fans who often say critical things about them. I thought that would make for good reading. And I did reach out to some athletes, but ultimately I concluded that part of fandom — “blazing” is what they call it, that troll behavior — while it exists, it felt like falling into a trap, just looking at the worst of fans. There is some bad behavior in the book, but it felt too voyeuristic to keep highlighting these really extreme negative fans.Who is a creative person (not a writer) who has influenced you and your work?For a long time, my favorite U.S. national team player was Clint Dempsey. I liked him because he was successful, but I loved how he was successful, and why. I loved that he grew up poor, and had to go outside the traditional soccer development system. He wasn’t put on the conveyor belt to greatness. That’s inspiring, someone who works outside the system and still gets to the top of it. He would take risks on the field. It was like he was saying, “I’m going to try for greatness, and I might look foolish sometimes, and it might not work out, but I’m going to shoot for greatness here.” That was something to love and admire about him, and something that anyone can bring into their own work. We have to take shots here.Persuade someone to read “Superfans” in 50 words or less.A lot of people wonder about sports fans’ behavior. They might be husbands, wives, brothers, sisters, roommates, girlfriends, boyfriends. These people ask: “Why are they like that?” This book will open your eyes so wide to that behavior, and you’ll be able to tick off the reasons.This interview has been condensed and edited.If you’ve never had your heart broken or your nerves thoroughly frayed by a sporting event, you know someone who has. As a young journalist at the Los Angeles Times in the 1990s, George Dohrmann would field late-night phone calls from rabid fans. He wondered, being a fan himself, why the depth of their devotion mystified him. “My blindness to the root causes of their thinking and conduct was also ignorance about myself,” he writes in his new book, “Superfans: Into the Heart of Obsessive Sports Fandom.” Dohrmann, who spent time as an investigative reporter at Sports Illustrated and is now a senior editor at The Athletic, spoke to everyday fans, academics and scientists about what it is that drives our vicarious competitive mania. Below, he talks about whether kids should be fans, his admiration for the soccer player Clint Dempsey and more.When did you first get the idea to write this book?It’s long been a curiosity of mine, why people were so intense about their favorite team. I certainly had my favorites throughout my life. As a young person, it was Notre Dame football; and growing up in California, the Giants in baseball and the Warriors in basketball. Most of those teams fell away, but what became my one true obsession was the United States men’s national soccer team.But never on the level that I would see from people both as a young journalist and then later, when I was doing investigative journalism on colleges, getting death threats from fans who were upset. What is it that makes people this passionate? I love sports too, but how did they get there?Then I had kids — I have an eight-year-old and a five-year-old — and started asking myself about fandom and how to introduce it to them. It all came together three or four years ago. It felt like the moment, professionally and personally, for me to dive into this book. There are so many books that explore someone’s individual fandom, but those aren’t that accessible. If I’m not a Red Sox fan, I’m not going to read a book about a Red Sox fan. I thought, if you wrote something that introduced different people from around the country, that was a more approachable way to analyze fandom.What’s the most surprising thing you learned while writing it?I talked to Susan Harter, a renowned child psychologist, about how kids receive their parents’ fandom. She told me that we shouldn’t be introducing our kids to fandom until adolescence. This runs contrary to what we do. We put a baby in a Green Bay Packers onesie. This is what we see all the time, and we celebrate it, posting pictures of it and saying how cute it is. But a kid I wrote about, an Eagles fan, was just melting down in YouTube videos while the Patriots were beating his team.Harter said kids want to see the world in black and white. They want to divide the world into good and bad. And sports does that. But the kids don’t understand that the fact that their teacher is an Auburn fan doesn’t make them a bad person. They don’t understand that daddy’s going to be O.K. when his team loses. They lack perspective. They can’t say, “Well, it’s been a good season even though we lost this game.”Sometimes now I watch a game outside the home so my kids don’t see me yelling at the TV and see that it’s important to me. I don’t want them to make it important right now.In what way is the book you wrote different from the book you set out to write?Initially I wanted to have more fan-athlete engagement in the book, more opportunities for athletes to confront the fans who often say critical things about them. I thought that would make for good reading. And I did reach out to some athletes, but ultimately I concluded that part of fandom — “blazing” is what they call it, that troll behavior — while it exists, it felt like falling into a trap, just looking at the worst of fans. There is some bad behavior in the book, but it felt too voyeuristic to keep highlighting these really extreme negative fans.Who is a creative person (not a writer) who has influenced you and your work?For a long time, my favorite U.S. national team player was Clint Dempsey. I liked him because he was successful, but I loved how he was successful, and why. I loved that he grew up poor, and had to go outside the traditional soccer development system. He wasn’t put on the conveyor belt to greatness. That’s inspiring, someone who works outside the system and still gets to the top of it. He would take risks on the field. It was like he was saying, “I’m going to try for greatness, and I might look foolish sometimes, and it might not work out, but I’m going to shoot for greatness here.” That was something to love and admire about him, and something that anyone can bring into their own work. We have to take shots here.Persuade someone to read “Superfans” in 50 words or less.A lot of people wonder about sports fans’ behavior. They might be husbands, wives, brothers, sisters, roommates, girlfriends, boyfriends. These people ask: “Why are they like that?” This book will open your eyes so wide to that behavior, and you’ll be able to tick off the reasons.This interview has been condensed and edited.')"
      ]
     },
     "execution_count": 6,
     "metadata": {},
     "output_type": "execute_result"
    }
   ],
   "source": [
    "df.head()"
   ]
  },
  {
   "cell_type": "code",
   "execution_count": 7,
   "metadata": {},
   "outputs": [
    {
     "name": "stdout",
     "output_type": "stream",
     "text": [
      "+--------+--------------------+\n",
      "|Category|            Descript|\n",
      "+--------+--------------------+\n",
      "|  sports|If you’ve never h...|\n",
      "+--------+--------------------+\n",
      "only showing top 1 row\n",
      "\n"
     ]
    }
   ],
   "source": [
    "df.show(1)"
   ]
  },
  {
   "cell_type": "code",
   "execution_count": 8,
   "metadata": {},
   "outputs": [
    {
     "name": "stdout",
     "output_type": "stream",
     "text": [
      "+---------+-----+\n",
      "| Category|count|\n",
      "+---------+-----+\n",
      "| business|   29|\n",
      "|education|   28|\n",
      "| politics|   19|\n",
      "|   sports|   16|\n",
      "+---------+-----+\n",
      "\n"
     ]
    }
   ],
   "source": [
    "from pyspark.sql.functions import col\n",
    "\n",
    "df.groupBy('Category') \\\n",
    "    .count() \\\n",
    "    .orderBy(col(\"count\").desc()) \\\n",
    "    .show()"
   ]
  },
  {
   "cell_type": "code",
   "execution_count": 9,
   "metadata": {},
   "outputs": [
    {
     "name": "stdout",
     "output_type": "stream",
     "text": [
      "+--------------------+-----+\n",
      "|            Descript|count|\n",
      "+--------------------+-----+\n",
      "|EDUCATED A Memoir...|    2|\n",
      "|THE NEWCOMERS Fin...|    2|\n",
      "|MILAN — In the pr...|    1|\n",
      "|With an important...|    1|\n",
      "|H. Wayne Huizenga...|    1|\n",
      "|WASHINGTON — The ...|    1|\n",
      "|Since the Meredit...|    1|\n",
      "|In your opinion, ...|    1|\n",
      "|With its faux-mar...|    1|\n",
      "|A bucket list is ...|    1|\n",
      "|This fall, the Tr...|    1|\n",
      "|New York Universi...|    1|\n",
      "|It is arguably th...|    1|\n",
      "|THE GOLDEN PASSPO...|    1|\n",
      "|GANGNEUNG, South ...|    1|\n",
      "|United States pro...|    1|\n",
      "|GUADALAJARA, Mexi...|    1|\n",
      "|On Wednesday, tho...|    1|\n",
      "|Good Wednesday. H...|    1|\n",
      "|The admissions pr...|    1|\n",
      "+--------------------+-----+\n",
      "only showing top 20 rows\n",
      "\n"
     ]
    }
   ],
   "source": [
    "df.groupBy(\"Descript\") \\\n",
    "    .count() \\\n",
    "    .orderBy(col(\"count\").desc()) \\\n",
    "    .show()"
   ]
  },
  {
   "cell_type": "code",
   "execution_count": 10,
   "metadata": {},
   "outputs": [],
   "source": [
    "# starting actual ML using PySpark for the data.csv \n",
    "# defining Pileline stages\n",
    "\n",
    "# reference: https://spark.apache.org/docs/2.1.0/ml-features.html \n",
    "# referred this official documentation for syntax, accepted argument and function use.\n",
    "\n",
    "from pyspark.ml.feature import RegexTokenizer, StopWordsRemover, CountVectorizer\n",
    "from pyspark.ml.classification import LogisticRegression\n",
    "\n",
    "# regular expression tokenizer \n",
    "regexTokenizer = RegexTokenizer(inputCol=\"Descript\", outputCol=\"words\", pattern=\"\\\\W\")\n",
    "\n",
    "# stop words to count out the words that appear very frequently but do not contribute to the bag of words.\n",
    "add_stopwords = [\"a\",\"an\", \"as\",\"amp\", \"be\", \"but\",\"by\",\"c\",\"http\",\"https\",\"he\",\"her\",\"I\",\"to\",\"rt\",\"t\",\"the\"] \n",
    "stopwordsRemover = StopWordsRemover(inputCol=\"words\", outputCol=\"filtered\").setStopWords(add_stopwords)\n",
    "\n",
    "# counting bag of words\n",
    "countVectors = CountVectorizer(inputCol=\"filtered\", outputCol=\"features\", vocabSize=10000, minDF=5)"
   ]
  },
  {
   "cell_type": "code",
   "execution_count": 11,
   "metadata": {},
   "outputs": [
    {
     "name": "stdout",
     "output_type": "stream",
     "text": [
      "+--------+--------------------+--------------------+--------------------+--------------------+-----+\n",
      "|Category|            Descript|               words|            filtered|            features|label|\n",
      "+--------+--------------------+--------------------+--------------------+--------------------+-----+\n",
      "|  sports|If you’ve never h...|[if, you, ve, nev...|[if, you, ve, nev...|(2520,[0,1,2,3,4,...|  3.0|\n",
      "|  sports|Since the Meredit...|[since, the, mere...|[since, meredith,...|(2520,[0,1,2,3,4,...|  3.0|\n",
      "|  sports|New York Universi...|[new, york, unive...|[new, york, unive...|(2520,[0,1,2,3,4,...|  3.0|\n",
      "|  sports|Between living al...|[between, living,...|[between, living,...|(2520,[0,1,2,3,4,...|  3.0|\n",
      "|  sports|Emitting a high-d...|[emitting, a, hig...|[emitting, high, ...|(2520,[0,1,2,3,5,...|  3.0|\n",
      "|  sports|There were more n...|[there, were, mor...|[there, were, mor...|(2520,[0,1,2,3,4,...|  3.0|\n",
      "|  sports|WASHINGTON — In r...|[washington, in, ...|[washington, in, ...|(2520,[0,1,2,3,4,...|  3.0|\n",
      "|  sports|GANGNEUNG, South ...|[gangneung, south...|[gangneung, south...|(2520,[0,1,2,3,4,...|  3.0|\n",
      "|  sports|PYEONGCHANG, Sout...|[pyeongchang, sou...|[pyeongchang, sou...|(2520,[0,1,2,3,4,...|  3.0|\n",
      "|  sports|When a 35-year-ol...|[when, a, 35, yea...|[when, 35, year, ...|(2520,[0,1,2,3,4,...|  3.0|\n",
      "|  sports|The sentencing he...|[the, sentencing,...|[sentencing, hear...|(2520,[0,1,2,3,4,...|  3.0|\n",
      "|  sports|MADISON, Ind. — A...|[madison, ind, an...|[madison, ind, ho...|(2520,[0,1,2,3,4,...|  3.0|\n",
      "|  sports|Are you watching ...|[are, you, watchi...|[are, you, watchi...|(2520,[0,1,2,3,4,...|  3.0|\n",
      "|  sports|As president of E...|[as, president, o...|[president, of, e...|(2520,[0,1,2,3,4,...|  3.0|\n",
      "|  sports|United States pro...|[united, states, ...|[united, states, ...|(2520,[0,1,2,3,4,...|  3.0|\n",
      "+--------+--------------------+--------------------+--------------------+--------------------+-----+\n",
      "only showing top 15 rows\n",
      "\n"
     ]
    }
   ],
   "source": [
    "from pyspark.ml import Pipeline\n",
    "from pyspark.ml.feature import OneHotEncoder, StringIndexer, VectorAssembler\n",
    "\n",
    "# reference: https://spark.apache.org/docs/2.1.0/ml-pipeline.html\n",
    "# referred this official documentation for syntax, accepted argument and function use.\n",
    "\n",
    "# stage for getting the string index for the category column\n",
    "label_stringIdx = StringIndexer(inputCol = \"Category\", outputCol = \"label\")\n",
    "\n",
    "#creating pipeline from the above defined stages \n",
    "pipeline = Pipeline(stages=[regexTokenizer, stopwordsRemover, countVectors, label_stringIdx])\n",
    "\n",
    "# Fit the pipeline to training documents.\n",
    "pipelineFit = pipeline.fit(df)\n",
    "dataset = pipelineFit.transform(df)\n",
    "\n",
    "#visualising \n",
    "dataset.show(15)"
   ]
  },
  {
   "cell_type": "code",
   "execution_count": 12,
   "metadata": {},
   "outputs": [
    {
     "name": "stdout",
     "output_type": "stream",
     "text": [
      "Training Data Size: 61\n",
      "Test Data Size: 31\n"
     ]
    }
   ],
   "source": [
    "# splitting the data set into training and testing in 70:30 ratio.\n",
    "\n",
    "(training, test) = dataset.randomSplit([0.7, 0.3], seed = 100)\n",
    "\n",
    "print(\"Training Data Size: {}\".format(training.count()))\n",
    "print(\"Test Data Size: {}\".format(test.count()))"
   ]
  },
  {
   "cell_type": "code",
   "execution_count": null,
   "metadata": {},
   "outputs": [],
   "source": [
    "# function to evaluate accuracy \n",
    "\n",
    "from pyspark.ml.evaluation import MulticlassClassificationEvaluator\n",
    "\n",
    "def evaluate():    \n",
    "    evaluator = MulticlassClassificationEvaluator(predictionCol=\"prediction\")\n",
    "    return evaluator.evaluate(predictions)"
   ]
  },
  {
   "cell_type": "code",
   "execution_count": 22,
   "metadata": {
    "scrolled": true
   },
   "outputs": [
    {
     "name": "stdout",
     "output_type": "stream",
     "text": [
      "Printing a part of the resultant table\n",
      "+------------------------------+--------+------------------------------+-----+----------+\n",
      "|                      Descript|Category|                   probability|label|prediction|\n",
      "+------------------------------+--------+------------------------------+-----+----------+\n",
      "|The investigation into Russ...|business|[0.9104856472580957,0.03093...|  0.0|       0.0|\n",
      "|Within hours of announcing ...|business|[0.7565440038754787,0.19558...|  0.0|       0.0|\n",
      "|In July, David J. Pecker, t...|business|[0.6287520504679609,0.07481...|  0.0|       0.0|\n",
      "|SAN JUAN, P.R. — The messag...|business|[0.527104032198107,0.384314...|  0.0|       0.0|\n",
      "|WASHINGTON — Few places hav...|politics|[0.4979607796561227,0.32447...|  2.0|       0.0|\n",
      "|United States prosecutors h...|  sports|[0.47884750219749006,0.1688...|  3.0|       0.0|\n",
      "|WASHINGTON — In recent mont...|  sports|[0.4557180541422677,0.11525...|  3.0|       0.0|\n",
      "|The most surprising thing a...|business|[0.44561041544771984,0.3811...|  0.0|       0.0|\n",
      "|Every few weeks, an email a...|politics|[0.4249281467129624,0.17995...|  2.0|       0.0|\n",
      "|PLAINVILLE, Conn. — When Wi...|politics|[0.38231486892012545,0.1833...|  2.0|       0.0|\n",
      "|This fall, the Trump admini...|business|[0.3366421095979908,0.15615...|  0.0|       0.0|\n",
      "+------------------------------+--------+------------------------------+-----+----------+\n",
      "\n",
      "Accuracy is: 0.6019271051529116\n"
     ]
    }
   ],
   "source": [
    "# Performing Logistic Regression for classification\n",
    "# Referrence: https://spark.apache.org/docs/2.1.0/ml-classification-regression.html\n",
    "\n",
    "lr = LogisticRegression(maxIter=20, regParam=0.3, elasticNetParam=0)\n",
    "lrModel = lr.fit(training)\n",
    "print(\"Printing a part of the resultant table\")\n",
    "predictions = lrModel.transform(test)\n",
    "predictions.filter(predictions['prediction'] == 0) \\\n",
    "        .select(\"Descript\",\"Category\",\"probability\",\"label\",\"prediction\") \\\n",
    "        .orderBy(\"probability\", ascending=False) \\\n",
    "    .show(n = 15, truncate = 30)\n",
    "\n",
    "print(\"Accuracy is: {}\".format(evaluate()))"
   ]
  },
  {
   "cell_type": "code",
   "execution_count": 25,
   "metadata": {},
   "outputs": [
    {
     "name": "stdout",
     "output_type": "stream",
     "text": [
      "Printing a part of the resultant table\n",
      "+------------------------------+--------+------------------------------+-----+----------+\n",
      "|                      Descript|Category|                   probability|label|prediction|\n",
      "+------------------------------+--------+------------------------------+-----+----------+\n",
      "|WASHINGTON — Few places hav...|politics|[1.0,1.140444494655158E-63,...|  2.0|       0.0|\n",
      "|The most surprising thing a...|business|[1.0,1.6795386469208958E-77...|  0.0|       0.0|\n",
      "|SAN JUAN, P.R. — The messag...|business|[1.0,2.056758764889174E-93,...|  0.0|       0.0|\n",
      "|I didn’t mean to do it. It ...|business|[1.0,4.799941982738162E-121...|  0.0|       0.0|\n",
      "|Within hours of announcing ...|business|[1.0,1.883509811154267E-135...|  0.0|       0.0|\n",
      "|Every few weeks, an email a...|politics|[1.0,3.734264647499227E-139...|  2.0|       0.0|\n",
      "|This fall, the Trump admini...|business|[1.0,6.0691876890222755E-14...|  0.0|       0.0|\n",
      "|H. Wayne Huizenga, the entr...|business|[1.0,1.0289677732528239E-18...|  0.0|       0.0|\n",
      "|In July, David J. Pecker, t...|business|[1.0,0.0,4.5120020282960347...|  0.0|       0.0|\n",
      "|The investigation into Russ...|business| [1.0,0.0,7.91408422E-316,0.0]|  0.0|       0.0|\n",
      "|United States prosecutors h...|  sports|[0.9999999999999996,8.51955...|  3.0|       0.0|\n",
      "+------------------------------+--------+------------------------------+-----+----------+\n",
      "\n",
      "Accuracy is: 0.7380197285320625\n"
     ]
    }
   ],
   "source": [
    "# Performing Naive Bayes classification. \n",
    "# referrence: https://spark.apache.org/docs/2.1.0/ml-classification-regression.html#naive-bayes\n",
    "\n",
    "from pyspark.ml.classification import NaiveBayes\n",
    "\n",
    "nb = NaiveBayes(smoothing=1)\n",
    "model = nb.fit(training)\n",
    "\n",
    "predictions = model.transform(test)\n",
    "print(\"Printing a part of the resultant table\")\n",
    "predictions.filter(predictions['prediction'] == 0) \\\n",
    "    .select(\"Descript\",\"Category\",\"probability\",\"label\",\"prediction\") \\\n",
    "    .orderBy(\"probability\", ascending=False) \\\n",
    "    .show(n = 15, truncate = 30)\n",
    "\n",
    "print(\"Accuracy is: {}\".format(evaluate()))"
   ]
  },
  {
   "cell_type": "code",
   "execution_count": 27,
   "metadata": {},
   "outputs": [
    {
     "name": "stdout",
     "output_type": "stream",
     "text": [
      "Printing a part of the resultant table\n",
      "+------------------------------+--------+------------------------------+-----+----------+\n",
      "|                      Descript|Category|                   probability|label|prediction|\n",
      "+------------------------------+--------+------------------------------+-----+----------+\n",
      "|The investigation into Russ...|business|[0.4587742153394832,0.21153...|  0.0|       0.0|\n",
      "|H. Wayne Huizenga, the entr...|business|[0.43846124708624706,0.1811...|  0.0|       0.0|\n",
      "|SAN JUAN, P.R. — The messag...|business|[0.43686789719941893,0.2899...|  0.0|       0.0|\n",
      "|In July, David J. Pecker, t...|business|[0.4346132705014285,0.17830...|  0.0|       0.0|\n",
      "|PLAINVILLE, Conn. — When Wi...|politics|[0.4207154709792683,0.15753...|  2.0|       0.0|\n",
      "|Within hours of announcing ...|business|[0.4030883560883561,0.37318...|  0.0|       0.0|\n",
      "|The most surprising thing a...|business|[0.39240909090909093,0.2755...|  0.0|       0.0|\n",
      "|This fall, the Trump admini...|business|[0.33861808736872673,0.2194...|  0.0|       0.0|\n",
      "|WASHINGTON — In recent mont...|  sports|[0.33355803407119194,0.2494...|  3.0|       0.0|\n",
      "|I didn’t mean to do it. It ...|business|[0.3328032257597475,0.28721...|  0.0|       0.0|\n",
      "|Every few weeks, an email a...|politics|[0.2969360223110223,0.26319...|  2.0|       0.0|\n",
      "+------------------------------+--------+------------------------------+-----+----------+\n",
      "\n",
      "Accuracy is: 0.578494623655914\n"
     ]
    }
   ],
   "source": [
    "# Performing Random Forest Classifier\n",
    "# Referrence: https://spark.apache.org/docs/2.1.0/ml-classification-regression.html#random-forest-classifier\n",
    "\n",
    "from pyspark.ml.classification import RandomForestClassifier\n",
    "\n",
    "rf = RandomForestClassifier(labelCol=\"label\", \\\n",
    "                            featuresCol=\"features\", \\\n",
    "                            numTrees = 100, \\\n",
    "                            maxDepth = 6, \\\n",
    "                            maxBins = 32)\n",
    "\n",
    "# Train model with Training Data\n",
    "rfModel = rf.fit(training)\n",
    "\n",
    "predictions = rfModel.transform(test)\n",
    "print(\"Printing a part of the resultant table\")\n",
    "\n",
    "predictions.filter(predictions['prediction'] == 0) \\\n",
    "    .select(\"Descript\",\"Category\",\"probability\",\"label\",\"prediction\") \\\n",
    "    .orderBy(\"probability\", ascending=False) \\\n",
    "    .show(n = 15, truncate = 30)\n",
    "    \n",
    "print(\"Accuracy is: {}\".format(evaluate()))"
   ]
  },
  {
   "cell_type": "code",
   "execution_count": 21,
   "metadata": {},
   "outputs": [],
   "source": []
  },
  {
   "cell_type": "code",
   "execution_count": null,
   "metadata": {},
   "outputs": [],
   "source": []
  }
 ],
 "metadata": {
  "kernelspec": {
   "display_name": "Python 3",
   "language": "python",
   "name": "python3"
  },
  "language_info": {
   "codemirror_mode": {
    "name": "ipython",
    "version": 2
   },
   "file_extension": ".py",
   "mimetype": "text/x-python",
   "name": "python",
   "nbconvert_exporter": "python",
   "pygments_lexer": "ipython2",
   "version": "2.7.14"
  }
 },
 "nbformat": 4,
 "nbformat_minor": 2
}
