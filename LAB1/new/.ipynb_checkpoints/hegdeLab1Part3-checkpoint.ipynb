{
 "cells": [
  {
   "cell_type": "code",
   "execution_count": null,
   "metadata": {
    "collapsed": true
   },
   "outputs": [],
   "source": [
    "#Name - Srivatsa Manjunath Hegde"
   ]
  },
  {
   "cell_type": "code",
   "execution_count": null,
   "metadata": {
    "collapsed": true
   },
   "outputs": [],
   "source": [
    "#Name - Pranav Girish Sankhe"
   ]
  },
  {
   "cell_type": "code",
   "execution_count": 20,
   "metadata": {},
   "outputs": [
    {
     "name": "stderr",
     "output_type": "stream",
     "text": [
      "Loading required package: twitteR\n",
      "Loading required package: RCurl\n",
      "Loading required package: bitops\n"
     ]
    },
    {
     "name": "stdout",
     "output_type": "stream",
     "text": [
      "[1] \"Using direct authentication\"\n"
     ]
    }
   ],
   "source": [
    "# hashed out the lsst two character of the keys for security purpose.\n",
    "require(twitteR)\n",
    "require(RCurl)\n",
    "consumer_key = \"Gsf3MdvIsgx2X9ZSNuVYM2w**\"\n",
    "consumer_secret = \"tK2OgGAM5jXLhkDELJ2LOP6RupdN93utvakGOeJIt5owdZFC**\"\n",
    "access_token = \"963131506880368640-TvnbAHKGfES3kc01Rvc0cbH2DW7t5**\"\n",
    "access_secret = \"MgTHUyl3ikL7w6Vf5RSn9HiV7SuRn3LmAW9nBKRvpzi**\"\n",
    "setup_twitter_oauth(consumer_key, consumer_secret, access_token, access_secret)\n",
    "# temp is a variable that carries te\\he tweets that are caputered from the twitter API stored in data file.\n",
    "# we got 20000 tweets.\n",
    "temp = as.data.frame(read.csv('/Users/pranavsankhe/Downloads/data.csv'))\n",
    "usernames = temp$screenName\n",
    "usernames = unique(usernames)"
   ]
  },
  {
   "cell_type": "code",
   "execution_count": 23,
   "metadata": {
    "scrolled": true
   },
   "outputs": [
    {
     "name": "stderr",
     "output_type": "stream",
     "text": [
      "Warning message in twInterfaceObj$doAPICall(paste(\"users\", \"show\", sep = \"/\"), params = params, :\n",
      "“Rate limit encountered & retry limit reached - returning partial results”"
     ]
    },
    {
     "ename": "ERROR",
     "evalue": "Error in if (users$location != \"\") {: argument is of length zero\n",
     "output_type": "error",
     "traceback": [
      "Error in if (users$location != \"\") {: argument is of length zero\nTraceback:\n"
     ]
    }
   ],
   "source": [
    "locations = c()\n",
    "j = 0\n",
    "# using 2000 tweets to gain the location values\n",
    "# the code might fail due to the limit on getUser in the twitteR package. \n",
    "for(i in 1:2000){\n",
    "    users = getUser(usernames[i])\n",
    "    if(users$location != \"\"){\n",
    "        locations[j] = users$location\n",
    "        j = j+1\n",
    "    }\n",
    "    }"
   ]
  },
  {
   "cell_type": "code",
   "execution_count": null,
   "metadata": {
    "collapsed": true
   },
   "outputs": [],
   "source": [
    "#write.csv(locations, file = \"./location.csv\")"
   ]
  },
  {
   "cell_type": "code",
   "execution_count": 24,
   "metadata": {
    "collapsed": true
   },
   "outputs": [],
   "source": [
    "# after multiple attemps we manage to get the 700 or so user locations and. saved it into a file\n",
    "# using this csv file to work hence forth.\n",
    "loc = read.csv(\"/Users/pranavsankhe/Lab1EDA/loc2.csv\", stringsAsFactors = FALSE)\n",
    "geocoded <- data.frame(stringsAsFactors = FALSE)"
   ]
  },
  {
   "cell_type": "code",
   "execution_count": 25,
   "metadata": {},
   "outputs": [
    {
     "name": "stderr",
     "output_type": "stream",
     "text": [
      "Information from URL : http://maps.googleapis.com/maps/api/geocode/json?address=Bothell,%20WA&sensor=false\n",
      "Warning message:\n",
      "“geocode failed with status OVER_QUERY_LIMIT, location = \"Bothell, WA\"”Information from URL : http://maps.googleapis.com/maps/api/geocode/json?address=Durham,%20NC&sensor=false\n",
      "Information from URL : http://maps.googleapis.com/maps/api/geocode/json?address=Huntington%20Beach,%20CA&sensor=false\n",
      "Information from URL : http://maps.googleapis.com/maps/api/geocode/json?address=SAN%20DIEGO&sensor=false\n",
      "Warning message:\n",
      "“geocode failed with status OVER_QUERY_LIMIT, location = \"SAN DIEGO\"”Information from URL : http://maps.googleapis.com/maps/api/geocode/json?address=Bilthoven%20and%20Rotterdam&sensor=false\n",
      "Warning message:\n",
      "“geocode failed with status ZERO_RESULTS, location = \"Bilthoven and Rotterdam\"”Information from URL : http://maps.googleapis.com/maps/api/geocode/json?address=Texas&sensor=false\n",
      "Information from URL : http://maps.googleapis.com/maps/api/geocode/json?address=Ho%20Chi%20Minh,%20Vietnam&sensor=false\n",
      "Information from URL : http://maps.googleapis.com/maps/api/geocode/json?address=United%20States&sensor=false\n",
      "Information from URL : http://maps.googleapis.com/maps/api/geocode/json?address=BowlingGreen%20Ky.&sensor=false\n",
      "Warning message:\n",
      "“geocode failed with status OVER_QUERY_LIMIT, location = \"BowlingGreen Ky.\"”Information from URL : http://maps.googleapis.com/maps/api/geocode/json?address=Syracuse,%20NY&sensor=false\n",
      "Warning message:\n",
      "“geocode failed with status OVER_QUERY_LIMIT, location = \"Syracuse, NY\"”.Information from URL : http://maps.googleapis.com/maps/api/geocode/json?address=#IDPRN&sensor=false\n",
      "Warning message in readLines(connect, warn = FALSE):\n",
      "“cannot open URL 'http://maps.googleapis.com/maps/api/geocode/json?address=': HTTP status was '400 Bad Request'”Warning message in geocode(loc$x[i], output = \"latlona\", source = \"google\"):\n",
      "“  geocoding failed for \"#IDPRN\".\n",
      "  if accompanied by 500 Internal Server Error with using dsk, try google.”.Information from URL : http://maps.googleapis.com/maps/api/geocode/json?address=Philadelphia,%20PA&sensor=false\n",
      ".Information from URL : http://maps.googleapis.com/maps/api/geocode/json?address=Florida,%20USA&sensor=false\n",
      ".Information from URL : http://maps.googleapis.com/maps/api/geocode/json?address=Traverse%20City,%20MI&sensor=false\n",
      ".Information from URL : http://maps.googleapis.com/maps/api/geocode/json?address=Minot,%20ND&sensor=false\n",
      ".Information from URL : http://maps.googleapis.com/maps/api/geocode/json?address=Subscribe%20here%20%E2%A4%B5%E2%A4%B5&sensor=false\n",
      "Warning message:\n",
      "“geocode failed with status ZERO_RESULTS, location = \"Subscribe here ⤵⤵\"”Information from URL : http://maps.googleapis.com/maps/api/geocode/json?address=Texas,%20USA&sensor=false\n",
      "Warning message:\n",
      "“geocode failed with status OVER_QUERY_LIMIT, location = \"Texas, USA\"”.Information from URL : http://maps.googleapis.com/maps/api/geocode/json?address=Hawthorne,FL&sensor=false\n",
      "Information from URL : http://maps.googleapis.com/maps/api/geocode/json?address=Port%20St%20Lucie,%20FL&sensor=false\n",
      "Information from URL : http://maps.googleapis.com/maps/api/geocode/json?address=chicago%20area&sensor=false\n",
      "Information from URL : http://maps.googleapis.com/maps/api/geocode/json?address=New%20York&sensor=false\n",
      "Information from URL : http://maps.googleapis.com/maps/api/geocode/json?address=Reno,%20NV&sensor=false\n",
      ".Information from URL : http://maps.googleapis.com/maps/api/geocode/json?address=Blue%20Springs,%20MO&sensor=false\n",
      ".Information from URL : http://maps.googleapis.com/maps/api/geocode/json?address=The%20Sanctuary&sensor=false\n",
      ".Information from URL : http://maps.googleapis.com/maps/api/geocode/json?address=Louisville,%20KY&sensor=false\n",
      ".Information from URL : http://maps.googleapis.com/maps/api/geocode/json?address=San%20Francisco,%20CA&sensor=false\n",
      "Information from URL : http://maps.googleapis.com/maps/api/geocode/json?address=Edmonton,%20Alberta,%20Canada&sensor=false\n",
      ".Information from URL : http://maps.googleapis.com/maps/api/geocode/json?address=United%20States&sensor=false\n",
      "Information from URL : http://maps.googleapis.com/maps/api/geocode/json?address=TexUS%20%20BigTEX%20TEXASConnectsUS&sensor=false\n",
      "Information from URL : http://maps.googleapis.com/maps/api/geocode/json?address=London&sensor=false\n",
      "Warning message:\n",
      "“geocode failed with status OVER_QUERY_LIMIT, location = \"London\"”Information from URL : http://maps.googleapis.com/maps/api/geocode/json?address=Corvallis,%20OR&sensor=false\n",
      "Information from URL : http://maps.googleapis.com/maps/api/geocode/json?address=NSW%20South%20Coast&sensor=false\n",
      ".Information from URL : http://maps.googleapis.com/maps/api/geocode/json?address=Texas,%20USA&sensor=false\n",
      ".Information from URL : http://maps.googleapis.com/maps/api/geocode/json?address=ciudad%20de%20mexico&sensor=false\n",
      ".Information from URL : http://maps.googleapis.com/maps/api/geocode/json?address=Kota%20Banda%20Aceh&sensor=false\n",
      "Warning message:\n",
      "“geocode failed with status OVER_QUERY_LIMIT, location = \"Kota Banda Aceh\"”.Information from URL : http://maps.googleapis.com/maps/api/geocode/json?address=United%20States&sensor=false\n",
      ".Information from URL : http://maps.googleapis.com/maps/api/geocode/json?address=Singapore&sensor=false\n",
      ".Information from URL : http://maps.googleapis.com/maps/api/geocode/json?address=London&sensor=false\n",
      "Information from URL : http://maps.googleapis.com/maps/api/geocode/json?address=Tennessee,%20USA&sensor=false\n",
      "Information from URL : http://maps.googleapis.com/maps/api/geocode/json?address=St.%20Paul,%20Minnesota&sensor=false\n",
      "Information from URL : http://maps.googleapis.com/maps/api/geocode/json?address=Aihara,%20Kanagawa-ken,%20Japan&sensor=false\n",
      "Information from URL : http://maps.googleapis.com/maps/api/geocode/json?address=Cheyenne,%20WY&sensor=false\n",
      "Warning message:\n",
      "“geocode failed with status OVER_QUERY_LIMIT, location = \"Cheyenne, WY\"”.Information from URL : http://maps.googleapis.com/maps/api/geocode/json?address=Houston&sensor=false\n",
      ".Information from URL : http://maps.googleapis.com/maps/api/geocode/json?address=Overland%20Park,%20KS&sensor=false\n",
      ".Information from URL : http://maps.googleapis.com/maps/api/geocode/json?address=Unionville,%20Ontario&sensor=false\n",
      ".Information from URL : http://maps.googleapis.com/maps/api/geocode/json?address=StateCollege%20and%20HoChiMinhCity&sensor=false\n",
      ".Information from URL : http://maps.googleapis.com/maps/api/geocode/json?address=United%20States&sensor=false\n",
      ".Information from URL : http://maps.googleapis.com/maps/api/geocode/json?address=facebook.com/tradcatknights&sensor=false\n",
      "Warning message:\n",
      "“geocode failed with status ZERO_RESULTS, location = \"facebook.com/tradcatknights\"”Information from URL : http://maps.googleapis.com/maps/api/geocode/json?address=Mid%20Suffolk,%20England&sensor=false\n"
     ]
    },
    {
     "name": "stdout",
     "output_type": "stream",
     "text": [
      "[1] \"Found a error here\"\n"
     ]
    },
    {
     "name": "stderr",
     "output_type": "stream",
     "text": [
      "Information from URL : http://maps.googleapis.com/maps/api/geocode/json?address=user%20@normanikordei%20owns%20me.&sensor=false\n",
      "Warning message:\n",
      "“geocode failed with status ZERO_RESULTS, location = \"user @normanikordei owns me.\"”Information from URL : http://maps.googleapis.com/maps/api/geocode/json?address=Denver,%20CO;%20Do%20and%20M,%20GER&sensor=false\n",
      "Warning message:\n",
      "“geocode failed with status ZERO_RESULTS, location = \"Denver, CO; Do and M, GER\"”Information from URL : http://maps.googleapis.com/maps/api/geocode/json?address=Erie,%20PA&sensor=false\n",
      "Warning message:\n",
      "“geocode failed with status OVER_QUERY_LIMIT, location = \"Erie, PA\"”Information from URL : http://maps.googleapis.com/maps/api/geocode/json?address=LA%20and%20New%20York%20City&sensor=false\n",
      "Information from URL : http://maps.googleapis.com/maps/api/geocode/json?address=Keck%20Medical%20Center%20of%20USC&sensor=false\n",
      ".Information from URL : http://maps.googleapis.com/maps/api/geocode/json?address=South%20Dakota,%20USA&sensor=false\n",
      ".Information from URL : http://maps.googleapis.com/maps/api/geocode/json?address=Pittsburgh,%20PA&sensor=false\n",
      ".Information from URL : http://maps.googleapis.com/maps/api/geocode/json?address=Plantation,%20FL&sensor=false\n",
      ".Information from URL : http://maps.googleapis.com/maps/api/geocode/json?address=iPhone:%2042.640038,9.018104&sensor=false\n",
      "Information from URL : http://maps.googleapis.com/maps/api/geocode/json?address=Oklahoma,%20NC&sensor=false\n",
      "Information from URL : http://maps.googleapis.com/maps/api/geocode/json?address=Yale%20University&sensor=false\n",
      "Information from URL : http://maps.googleapis.com/maps/api/geocode/json?address=USA&sensor=false\n",
      ".Information from URL : http://maps.googleapis.com/maps/api/geocode/json?address=United%20States&sensor=false\n",
      "Information from URL : http://maps.googleapis.com/maps/api/geocode/json?address=Minneapolis/St.%20Paul,%20MN&sensor=false\n",
      "Information from URL : http://maps.googleapis.com/maps/api/geocode/json?address=Davis,%20CA&sensor=false\n",
      ".Information from URL : http://maps.googleapis.com/maps/api/geocode/json?address=London&sensor=false\n",
      ".Information from URL : http://maps.googleapis.com/maps/api/geocode/json?address=Kalamazoo,%20MI&sensor=false\n",
      ".Information from URL : http://maps.googleapis.com/maps/api/geocode/json?address=Boise,%20ID&sensor=false\n",
      "Warning message:\n",
      "“geocode failed with status OVER_QUERY_LIMIT, location = \"Boise, ID\"”.Information from URL : http://maps.googleapis.com/maps/api/geocode/json?address=2921%20S.%20Meridian%20Rd,%20Meridian%20ID%2083642&sensor=false\n",
      "Information from URL : http://maps.googleapis.com/maps/api/geocode/json?address=Maryland&sensor=false\n",
      ".Information from URL : http://maps.googleapis.com/maps/api/geocode/json?address=New%20Jersey&sensor=false\n",
      "Information from URL : http://maps.googleapis.com/maps/api/geocode/json?address=DMV&sensor=false\n",
      "Warning message:\n",
      "“geocode failed with status OVER_QUERY_LIMIT, location = \"DMV\"”"
     ]
    },
    {
     "name": "stdout",
     "output_type": "stream",
     "text": [
      "[1] \"Found a error here\"\n"
     ]
    },
    {
     "name": "stderr",
     "output_type": "stream",
     "text": [
      "Information from URL : http://maps.googleapis.com/maps/api/geocode/json?address=Minneapolis/St.%20Paul,%20MN&sensor=false\n",
      "Warning message:\n",
      "“geocode failed with status OVER_QUERY_LIMIT, location = \"Minneapolis/St. Paul, MN\"”Information from URL : http://maps.googleapis.com/maps/api/geocode/json?address=Newark,%20New%20Jersey&sensor=false\n",
      "Information from URL : http://maps.googleapis.com/maps/api/geocode/json?address=Australia&sensor=false\n",
      ".Information from URL : http://maps.googleapis.com/maps/api/geocode/json?address=Phoenix,%20AZ&sensor=false\n",
      ".Information from URL : http://maps.googleapis.com/maps/api/geocode/json?address=District%20of%20Columbia,%20USA&sensor=false\n",
      ".Information from URL : http://maps.googleapis.com/maps/api/geocode/json?address=North%20Carolina,%20USA&sensor=false\n",
      ".Information from URL : http://maps.googleapis.com/maps/api/geocode/json?address=Tatooine...&sensor=false\n",
      ".Information from URL : http://maps.googleapis.com/maps/api/geocode/json?address=Puerto%20Rico,%20USA&sensor=false\n",
      "Warning message:\n",
      "“geocode failed with status OVER_QUERY_LIMIT, location = \"Puerto Rico, USA\"”.Information from URL : http://maps.googleapis.com/maps/api/geocode/json?address=Missouri,%20USA&sensor=false\n",
      ".Information from URL : http://maps.googleapis.com/maps/api/geocode/json?address=Gaithersburg,%20Maryland%20&sensor=false\n",
      "Information from URL : http://maps.googleapis.com/maps/api/geocode/json?address=Wibbly%20Wobbly%20Timey%20Wimey&sensor=false\n",
      "Warning message:\n",
      "“geocode failed with status ZERO_RESULTS, location = \"Wibbly Wobbly Timey Wimey\"”Information from URL : http://maps.googleapis.com/maps/api/geocode/json?address=United%20States&sensor=false\n",
      "Information from URL : http://maps.googleapis.com/maps/api/geocode/json?address=Lancaster%20County,%20PA&sensor=false\n",
      "Information from URL : http://maps.googleapis.com/maps/api/geocode/json?address=Breda,%20Netherlands&sensor=false\n",
      ".Information from URL : http://maps.googleapis.com/maps/api/geocode/json?address=London&sensor=false\n",
      ".Information from URL : http://maps.googleapis.com/maps/api/geocode/json?address=McAllen,%20TX&sensor=false\n",
      "Information from URL : http://maps.googleapis.com/maps/api/geocode/json?address=Ohio&sensor=false\n",
      ".Information from URL : http://maps.googleapis.com/maps/api/geocode/json?address=A%20Coru%C3%B1a,%20Galicia,%20Spain&sensor=false\n",
      ".Information from URL : http://maps.googleapis.com/maps/api/geocode/json?address=United%20States&sensor=false\n",
      ".Information from URL : http://maps.googleapis.com/maps/api/geocode/json?address=Sioux%20City,%20IA&sensor=false\n",
      "Information from URL : http://maps.googleapis.com/maps/api/geocode/json?address=Jersey%20City,%20NJ&sensor=false\n",
      "Information from URL : http://maps.googleapis.com/maps/api/geocode/json?address=Florida,%20USA&sensor=false\n",
      "Information from URL : http://maps.googleapis.com/maps/api/geocode/json?address=Raleigh,%20NC&sensor=false\n",
      "Information from URL : http://maps.googleapis.com/maps/api/geocode/json?address=San%20Francisco,%20CA&sensor=false\n",
      ".Information from URL : http://maps.googleapis.com/maps/api/geocode/json?address=JAPAN&sensor=false\n",
      ".Information from URL : http://maps.googleapis.com/maps/api/geocode/json?address=Massachusetts,%20USA&sensor=false\n",
      ".Information from URL : http://maps.googleapis.com/maps/api/geocode/json?address=Baltimore,%20MD&sensor=false\n",
      ".Information from URL : http://maps.googleapis.com/maps/api/geocode/json?address=Metchosin%20BC&sensor=false\n",
      "Warning message:\n",
      "“geocode failed with status OVER_QUERY_LIMIT, location = \"Metchosin BC\"”.Information from URL : http://maps.googleapis.com/maps/api/geocode/json?address=Washington,%20DC&sensor=false\n",
      "Warning message:\n",
      "“geocode failed with status OVER_QUERY_LIMIT, location = \"Washington, DC\"”.Information from URL : http://maps.googleapis.com/maps/api/geocode/json?address=Washington,%20DC&sensor=false\n",
      "Warning message:\n",
      "“geocode failed with status OVER_QUERY_LIMIT, location = \"Washington, DC\"”.Information from URL : http://maps.googleapis.com/maps/api/geocode/json?address=Washington&sensor=false\n",
      "Information from URL : http://maps.googleapis.com/maps/api/geocode/json?address=Kentucky,%20USA&sensor=false\n",
      "Information from URL : http://maps.googleapis.com/maps/api/geocode/json?address=Lausanne,%20Switzerland&sensor=false\n",
      "Warning message:\n",
      "“geocode failed with status OVER_QUERY_LIMIT, location = \"Lausanne, Switzerland\"”Information from URL : http://maps.googleapis.com/maps/api/geocode/json?address=Amstelveen&sensor=false\n",
      "Information from URL : http://maps.googleapis.com/maps/api/geocode/json?address=Halifax,%20Nova%20Scotia,%20Canada&sensor=false\n",
      "Warning message:\n",
      "“geocode failed with status OVER_QUERY_LIMIT, location = \"Halifax, Nova Scotia, Canada\"”.Information from URL : http://maps.googleapis.com/maps/api/geocode/json?address=United%20States&sensor=false\n",
      ".Information from URL : http://maps.googleapis.com/maps/api/geocode/json?address=STL-MHK&sensor=false\n",
      "Warning message:\n",
      "“geocode failed with status ZERO_RESULTS, location = \"STL-MHK\"”.Information from URL : http://maps.googleapis.com/maps/api/geocode/json?address=Colorado&sensor=false\n",
      ".Information from URL : http://maps.googleapis.com/maps/api/geocode/json?address=Berkeley,%20CA&sensor=false\n",
      "Warning message:\n",
      "“geocode failed with status OVER_QUERY_LIMIT, location = \"Berkeley, CA\"”.Information from URL : http://maps.googleapis.com/maps/api/geocode/json?address=Santiago%20-%20Chile&sensor=false\n",
      "Information from URL : http://maps.googleapis.com/maps/api/geocode/json?address=Houston,%20TX&sensor=false\n",
      ".Information from URL : http://maps.googleapis.com/maps/api/geocode/json?address=Carpinteria,%20Ca&sensor=false\n",
      "Information from URL : http://maps.googleapis.com/maps/api/geocode/json?address=Washington%20DC&sensor=false\n",
      "Information from URL : http://maps.googleapis.com/maps/api/geocode/json?address=Sonoma%20County,%20California&sensor=false\n",
      "Information from URL : http://maps.googleapis.com/maps/api/geocode/json?address=Washington%20&sensor=false\n",
      "Information from URL : http://maps.googleapis.com/maps/api/geocode/json?address=Atlanta,%20GA&sensor=false\n",
      ".Information from URL : http://maps.googleapis.com/maps/api/geocode/json?address=United%20States&sensor=false\n",
      ".Information from URL : http://maps.googleapis.com/maps/api/geocode/json?address=Toronto,%20Ontario&sensor=false\n",
      "Warning message:\n",
      "“geocode failed with status OVER_QUERY_LIMIT, location = \"Toronto, Ontario\"”.Information from URL : http://maps.googleapis.com/maps/api/geocode/json?address=NEW%20YORK%20USA&sensor=false\n",
      ".Information from URL : http://maps.googleapis.com/maps/api/geocode/json?address=Valencia,%20Spain&sensor=false\n",
      "Information from URL : http://maps.googleapis.com/maps/api/geocode/json?address=Omaha,%20NE&sensor=false\n",
      "Warning message:\n",
      "“geocode failed with status OVER_QUERY_LIMIT, location = \"Omaha, NE\"”.Information from URL : http://maps.googleapis.com/maps/api/geocode/json?address=Louisiana&sensor=false\n",
      "Information from URL : http://maps.googleapis.com/maps/api/geocode/json?address=Australia%20&sensor=false\n",
      "Information from URL : http://maps.googleapis.com/maps/api/geocode/json?address=Texas&sensor=false\n",
      "Information from URL : http://maps.googleapis.com/maps/api/geocode/json?address=Monterey%20Bay,%20California&sensor=false\n",
      "Information from URL : http://maps.googleapis.com/maps/api/geocode/json?address=Laboratory&sensor=false\n",
      ".Information from URL : http://maps.googleapis.com/maps/api/geocode/json?address=Chicago,%20IL&sensor=false\n",
      "Warning message:\n",
      "“geocode failed with status OVER_QUERY_LIMIT, location = \"Chicago, IL\"”.Information from URL : http://maps.googleapis.com/maps/api/geocode/json?address=Orlando,%20Florida&sensor=false\n",
      ".Information from URL : http://maps.googleapis.com/maps/api/geocode/json?address=Kentucky,%20USA&sensor=false\n",
      ".Information from URL : http://maps.googleapis.com/maps/api/geocode/json?address=City%20of%20Fallen%20Angels,%20USA&sensor=false\n",
      ".Information from URL : http://maps.googleapis.com/maps/api/geocode/json?address=Utrecht,%20Nederland&sensor=false\n",
      "Information from URL : http://maps.googleapis.com/maps/api/geocode/json?address=San%20Francisco&sensor=false\n",
      ".Information from URL : http://maps.googleapis.com/maps/api/geocode/json?address=%20Anch.,%20AK%20-%20PGH,%20PA%20-%20Nor%20CA&sensor=false\n"
     ]
    },
    {
     "name": "stderr",
     "output_type": "stream",
     "text": [
      "Warning message:\n",
      "“geocode failed with status ZERO_RESULTS, location = \" Anch., AK - PGH, PA - Nor CA\"”Information from URL : http://maps.googleapis.com/maps/api/geocode/json?address=Las%20Palmas%20de%20Gran%20Canaria,%20Espa%C3%B1a&sensor=false\n",
      "Information from URL : http://maps.googleapis.com/maps/api/geocode/json?address=Alabama,%20USA&sensor=false\n",
      "Information from URL : http://maps.googleapis.com/maps/api/geocode/json?address=California,%20USA&sensor=false\n",
      ".Information from URL : http://maps.googleapis.com/maps/api/geocode/json?address=New%20York,%20USA&sensor=false\n",
      ".Information from URL : http://maps.googleapis.com/maps/api/geocode/json?address=Gary,%20IN&sensor=false\n",
      "Information from URL : http://maps.googleapis.com/maps/api/geocode/json?address=Eastbourne,%20England&sensor=false\n",
      ".Information from URL : http://maps.googleapis.com/maps/api/geocode/json?address=Atlanta,%20GA&sensor=false\n"
     ]
    },
    {
     "name": "stdout",
     "output_type": "stream",
     "text": [
      "[1] \"Found a error here\"\n"
     ]
    },
    {
     "name": "stderr",
     "output_type": "stream",
     "text": [
      ".Information from URL : http://maps.googleapis.com/maps/api/geocode/json?address=2725%2086th%20Street%20&sensor=false\n",
      "Information from URL : http://maps.googleapis.com/maps/api/geocode/json?address=Davidson,%20NC&sensor=false\n",
      ".Information from URL : http://maps.googleapis.com/maps/api/geocode/json?address=Michigan,%20USA&sensor=false\n",
      "Information from URL : http://maps.googleapis.com/maps/api/geocode/json?address=Alice%20Springs,%20Northern%20Territory&sensor=false\n",
      "Information from URL : http://maps.googleapis.com/maps/api/geocode/json?address=Kansas,%20USA&sensor=false\n",
      "Warning message:\n",
      "“geocode failed with status OVER_QUERY_LIMIT, location = \"Kansas, USA\"”Information from URL : http://maps.googleapis.com/maps/api/geocode/json?address=Los%20Angeles,%20CA&sensor=false\n",
      ".Information from URL : http://maps.googleapis.com/maps/api/geocode/json?address=Orlando,%20Florida%20&sensor=false\n",
      ".Information from URL : http://maps.googleapis.com/maps/api/geocode/json?address=%E6%97%A5%E6%9C%AC%20%E5%A4%A7%E9%98%AA&sensor=false\n",
      "Information from URL : http://maps.googleapis.com/maps/api/geocode/json?address=Bilbao&sensor=false\n",
      ".Information from URL : http://maps.googleapis.com/maps/api/geocode/json?address=St%20Kitts&sensor=false\n",
      "Warning message:\n",
      "“geocode failed with status OVER_QUERY_LIMIT, location = \"St Kitts\"”.Information from URL : http://maps.googleapis.com/maps/api/geocode/json?address=Lake%20Havasu%20City,%20AZ&sensor=false\n",
      "Information from URL : http://maps.googleapis.com/maps/api/geocode/json?address=Central%20Texas%20%E2%9C%AD%20&sensor=false\n",
      "Warning message:\n",
      "“geocode failed with status ZERO_RESULTS, location = \"Central Texas ✭ \"”.Information from URL : http://maps.googleapis.com/maps/api/geocode/json?address=Frederick,%20Maryland&sensor=false\n",
      "Information from URL : http://maps.googleapis.com/maps/api/geocode/json?address=Tennessee,%20USA&sensor=false\n",
      ".Information from URL : http://maps.googleapis.com/maps/api/geocode/json?address=Delfgauw,%20The%20Netherlands&sensor=false\n",
      "Information from URL : http://maps.googleapis.com/maps/api/geocode/json?address=District%20of%20Columbia,%20USA&sensor=false\n",
      "Information from URL : http://maps.googleapis.com/maps/api/geocode/json?address=Washington,%20DC&sensor=false\n",
      ".Information from URL : http://maps.googleapis.com/maps/api/geocode/json?address=Watertown,%20MN&sensor=false\n",
      ".Information from URL : http://maps.googleapis.com/maps/api/geocode/json?address=Edinburgh,%20Scotland&sensor=false\n",
      "Information from URL : http://maps.googleapis.com/maps/api/geocode/json?address=Michigan,%20USA&sensor=false\n",
      ".Information from URL : http://maps.googleapis.com/maps/api/geocode/json?address=Mississippi,%20USA&sensor=false\n",
      "Information from URL : http://maps.googleapis.com/maps/api/geocode/json?address=Kingman%20Arizona&sensor=false\n",
      ".Information from URL : http://maps.googleapis.com/maps/api/geocode/json?address=%E6%A1%83%E6%BA%90%E9%83%B7&sensor=false\n",
      "Information from URL : http://maps.googleapis.com/maps/api/geocode/json?address=Scarborough,%20Ontario&sensor=false\n",
      "Warning message:\n",
      "“geocode failed with status OVER_QUERY_LIMIT, location = \"Scarborough, Ontario\"”.Information from URL : http://maps.googleapis.com/maps/api/geocode/json?address=Atlanta,%20GA&sensor=false\n",
      ".Information from URL : http://maps.googleapis.com/maps/api/geocode/json?address=Gorham%20Maine%20&sensor=false\n",
      "Information from URL : http://maps.googleapis.com/maps/api/geocode/json?address=Miami%20FL%20&sensor=false\n",
      "Information from URL : http://maps.googleapis.com/maps/api/geocode/json?address=Melbourne,%20Australia&sensor=false\n",
      ".Information from URL : http://maps.googleapis.com/maps/api/geocode/json?address=Alexander,%20NY&sensor=false\n",
      ".Information from URL : http://maps.googleapis.com/maps/api/geocode/json?address=Wien&sensor=false\n",
      "Information from URL : http://maps.googleapis.com/maps/api/geocode/json?address=Taylors,%20SC&sensor=false\n",
      "Information from URL : http://maps.googleapis.com/maps/api/geocode/json?address=Hamilton,%20Ontario%20CANADA&sensor=false\n",
      ".Information from URL : http://maps.googleapis.com/maps/api/geocode/json?address=England&sensor=false\n",
      ".Information from URL : http://maps.googleapis.com/maps/api/geocode/json?address=So%20Flo&sensor=false\n",
      "Information from URL : http://maps.googleapis.com/maps/api/geocode/json?address=Atlanta,%20GA&sensor=false\n",
      ".Information from URL : http://maps.googleapis.com/maps/api/geocode/json?address=Ohio,%20USA&sensor=false\n",
      "Information from URL : http://maps.googleapis.com/maps/api/geocode/json?address=Munich,%20Germany&sensor=false\n",
      "Information from URL : http://maps.googleapis.com/maps/api/geocode/json?address=Oro%20Valley,%20AZ&sensor=false\n",
      "Information from URL : http://maps.googleapis.com/maps/api/geocode/json?address=Anchorage,%20Alaska&sensor=false\n",
      ".Information from URL : http://maps.googleapis.com/maps/api/geocode/json?address=Port%20Angeles,%20WA&sensor=false\n",
      "Warning message:\n",
      "“geocode failed with status OVER_QUERY_LIMIT, location = \"Port Angeles, WA\"”.Information from URL : http://maps.googleapis.com/maps/api/geocode/json?address=United%20States&sensor=false\n",
      "Information from URL : http://maps.googleapis.com/maps/api/geocode/json?address=Liberal%20Hell,%20Ca&sensor=false\n",
      "Warning message:\n",
      "“geocode failed with status ZERO_RESULTS, location = \"Liberal Hell, Ca\"”.Information from URL : http://maps.googleapis.com/maps/api/geocode/json?address=Westbury,%20NY&sensor=false\n",
      ".Information from URL : http://maps.googleapis.com/maps/api/geocode/json?address=Chile&sensor=false\n",
      "Information from URL : http://maps.googleapis.com/maps/api/geocode/json?address=Jerusalem,%20Paris,%20Melbourne&sensor=false\n",
      "Warning message:\n",
      "“geocode failed with status ZERO_RESULTS, location = \"Jerusalem, Paris, Melbourne\"”.Information from URL : http://maps.googleapis.com/maps/api/geocode/json?address=Lyon,%20France&sensor=false\n",
      "Information from URL : http://maps.googleapis.com/maps/api/geocode/json?address=Texas&sensor=false\n",
      ".Information from URL : http://maps.googleapis.com/maps/api/geocode/json?address=United%20States&sensor=false\n",
      "Information from URL : http://maps.googleapis.com/maps/api/geocode/json?address=Brussels,%20Belgium&sensor=false\n",
      ".Information from URL : http://maps.googleapis.com/maps/api/geocode/json?address=Oklahoma,%20USA&sensor=false\n",
      "Warning message:\n",
      "“geocode failed with status OVER_QUERY_LIMIT, location = \"Oklahoma, USA\"”.Information from URL : http://maps.googleapis.com/maps/api/geocode/json?address=Davis,%20CA&sensor=false\n",
      "Information from URL : http://maps.googleapis.com/maps/api/geocode/json?address=Mexicali.&sensor=false\n",
      ".Information from URL : http://maps.googleapis.com/maps/api/geocode/json?address=England,%20United%20Kingdom&sensor=false\n",
      ".Information from URL : http://maps.googleapis.com/maps/api/geocode/json?address=Nevada%20USA&sensor=false\n",
      "Information from URL : http://maps.googleapis.com/maps/api/geocode/json?address=Queens,%20NY&sensor=false\n",
      ".Information from URL : http://maps.googleapis.com/maps/api/geocode/json?address=Ontario,%20Canada&sensor=false\n",
      ".Information from URL : http://maps.googleapis.com/maps/api/geocode/json?address=Beef,%20USA&sensor=false\n",
      "Information from URL : http://maps.googleapis.com/maps/api/geocode/json?address=Phoenix,%20AZ&sensor=false\n",
      "Information from URL : http://maps.googleapis.com/maps/api/geocode/json?address=North%20Carolina,%20USA&sensor=false\n",
      ".Information from URL : http://maps.googleapis.com/maps/api/geocode/json?address=Beaconsfield%20-%20Quebec%20-%20Canada&sensor=false\n",
      "Information from URL : http://maps.googleapis.com/maps/api/geocode/json?address=Nottingham&sensor=false\n",
      "Warning message:\n",
      "“geocode failed with status OVER_QUERY_LIMIT, location = \"Nottingham\"”.Information from URL : http://maps.googleapis.com/maps/api/geocode/json?address=Northampton,%20England&sensor=false\n",
      "Warning message:\n",
      "“geocode failed with status OVER_QUERY_LIMIT, location = \"Northampton, England\"”.Information from URL : http://maps.googleapis.com/maps/api/geocode/json?address=United%20States&sensor=false\n",
      "Warning message:\n",
      "“geocode failed with status OVER_QUERY_LIMIT, location = \"United States\"”.Information from URL : http://maps.googleapis.com/maps/api/geocode/json?address=North%20Kekistan&sensor=false\n",
      ".Information from URL : http://maps.googleapis.com/maps/api/geocode/json?address=NW&sensor=false\n"
     ]
    },
    {
     "name": "stderr",
     "output_type": "stream",
     "text": [
      "Information from URL : http://maps.googleapis.com/maps/api/geocode/json?address=Georgia,%20USA&sensor=false\n",
      ".Information from URL : http://maps.googleapis.com/maps/api/geocode/json?address=Knoxville,%20TN&sensor=false\n",
      "Information from URL : http://maps.googleapis.com/maps/api/geocode/json?address=Washington,%20DC&sensor=false\n",
      "Information from URL : http://maps.googleapis.com/maps/api/geocode/json?address=Where%20the%20boys%20aren%E2%80%99t&sensor=false\n",
      "Warning message:\n",
      "“geocode failed with status ZERO_RESULTS, location = \"Where the boys aren’t\"”.Information from URL : http://maps.googleapis.com/maps/api/geocode/json?address=Stockholm,%20Sweden&sensor=false\n",
      "Information from URL : http://maps.googleapis.com/maps/api/geocode/json?address=London&sensor=false\n",
      ".Information from URL : http://maps.googleapis.com/maps/api/geocode/json?address=Sacramento&sensor=false\n",
      "Warning message:\n",
      "“geocode failed with status OVER_QUERY_LIMIT, location = \"Sacramento\"”.Information from URL : http://maps.googleapis.com/maps/api/geocode/json?address=Sacramento,%20CA&sensor=false\n",
      "Information from URL : http://maps.googleapis.com/maps/api/geocode/json?address=Valencia&sensor=false\n",
      "Warning message:\n",
      "“geocode failed with status OVER_QUERY_LIMIT, location = \"Valencia\"”.Information from URL : http://maps.googleapis.com/maps/api/geocode/json?address=Newbury%20St,%20Lambourn%20RG178YR%20%20ph.%2001488%2073755&sensor=false\n",
      "Warning message:\n",
      "“geocode failed with status ZERO_RESULTS, location = \"Newbury St, Lambourn RG178YR  ph. 01488 73755\"”.Information from URL : http://maps.googleapis.com/maps/api/geocode/json?address=University%20of%20Guelph,%20Ontario&sensor=false\n",
      ".Information from URL : http://maps.googleapis.com/maps/api/geocode/json?address=Riyadh,%20KSA,%20NGHA&sensor=false\n",
      "Warning message:\n",
      "“geocode failed with status OVER_QUERY_LIMIT, location = \"Riyadh, KSA, NGHA\"”Information from URL : http://maps.googleapis.com/maps/api/geocode/json?address=Perth%20Western%20Australia&sensor=false\n",
      "Information from URL : http://maps.googleapis.com/maps/api/geocode/json?address=Seattle,%20WA&sensor=false\n",
      ".Information from URL : http://maps.googleapis.com/maps/api/geocode/json?address=Brighton,%20UK&sensor=false\n",
      "Warning message:\n",
      "“geocode failed with status OVER_QUERY_LIMIT, location = \"Brighton, UK\"”Information from URL : http://maps.googleapis.com/maps/api/geocode/json?address=NYC%20%E2%9E%A1%EF%B8%8F%20Boston%20%E2%9E%A1%EF%B8%8F%20Salem,%20MA&sensor=false\n",
      "Warning message:\n",
      "“geocode failed with status ZERO_RESULTS, location = \"NYC ➡️ Boston ➡️ Salem, MA\"”.Information from URL : http://maps.googleapis.com/maps/api/geocode/json?address=Washington,%20DC&sensor=false\n",
      ".Information from URL : http://maps.googleapis.com/maps/api/geocode/json?address=Washington,%20DC&sensor=false\n",
      ".Information from URL : http://maps.googleapis.com/maps/api/geocode/json?address=Kingston,%20Jamaica&sensor=false\n",
      "Warning message:\n",
      "“geocode failed with status OVER_QUERY_LIMIT, location = \"Kingston, Jamaica\"”.Information from URL : http://maps.googleapis.com/maps/api/geocode/json?address=Norfolk/Suffolk&sensor=false\n"
     ]
    },
    {
     "name": "stdout",
     "output_type": "stream",
     "text": [
      "[1] \"Found a error here\"\n"
     ]
    },
    {
     "name": "stderr",
     "output_type": "stream",
     "text": [
      ".Information from URL : http://maps.googleapis.com/maps/api/geocode/json?address=Windsor,%20ON%20&%20Roseville,%20MI&sensor=false\n",
      ".Information from URL : http://maps.googleapis.com/maps/api/geocode/json?address=Polk%20County,%20FL&sensor=false\n",
      "Information from URL : http://maps.googleapis.com/maps/api/geocode/json?address=District%2013&sensor=false\n",
      "Information from URL : http://maps.googleapis.com/maps/api/geocode/json?address=Caribbean&sensor=false\n",
      "Information from URL : http://maps.googleapis.com/maps/api/geocode/json?address=Indy%20&sensor=false\n",
      "Information from URL : http://maps.googleapis.com/maps/api/geocode/json?address=Brussels&sensor=false\n",
      "Information from URL : http://maps.googleapis.com/maps/api/geocode/json?address=Lehigh%20Valley,%20PA/NJ&sensor=false\n",
      ".Information from URL : http://maps.googleapis.com/maps/api/geocode/json?address=Denver,%20CO&sensor=false\n",
      "Warning message:\n",
      "“geocode failed with status OVER_QUERY_LIMIT, location = \"Denver, CO\"”.Information from URL : http://maps.googleapis.com/maps/api/geocode/json?address=San%20Diego,%20CA&sensor=false\n",
      ".Information from URL : http://maps.googleapis.com/maps/api/geocode/json?address=%E2%9A%A0%EF%B8%8Ftweet/RT%20heavy%E2%9A%A0%EF%B8%8F&sensor=false\n",
      "Warning message:\n",
      "“geocode failed with status ZERO_RESULTS, location = \"⚠️tweet/RT heavy⚠️\"”.Information from URL : http://maps.googleapis.com/maps/api/geocode/json?address=they/them%20%7C%20%0A%E2%9D%A4%20charmerruby&sensor=false\n",
      "Warning message:\n",
      "“geocode failed with status ZERO_RESULTS, location = \"they/them | \n",
      "❤ charmerruby\"”.Information from URL : http://maps.googleapis.com/maps/api/geocode/json?address=Caribbean%20CARIFORUM&sensor=false\n",
      "Warning message:\n",
      "“geocode failed with status OVER_QUERY_LIMIT, location = \"Caribbean CARIFORUM\"”.Information from URL : http://maps.googleapis.com/maps/api/geocode/json?address=Italy&sensor=false\n",
      "Information from URL : http://maps.googleapis.com/maps/api/geocode/json?address=Chapel%20Hill,%20NC&sensor=false\n",
      "Information from URL : http://maps.googleapis.com/maps/api/geocode/json?address=Texas,%20USA&sensor=false\n",
      "Information from URL : http://maps.googleapis.com/maps/api/geocode/json?address=Mississauga,%20ON%20%20%20%20CANADA&sensor=false\n",
      "Information from URL : http://maps.googleapis.com/maps/api/geocode/json?address=New%20York,%20NY&sensor=false\n",
      ".Information from URL : http://maps.googleapis.com/maps/api/geocode/json?address=Boston,%20MA&sensor=false\n",
      "Warning message:\n",
      "“geocode failed with status OVER_QUERY_LIMIT, location = \"Boston, MA\"”.Information from URL : http://maps.googleapis.com/maps/api/geocode/json?address=Boston,%20MA&sensor=false\n",
      ".Information from URL : http://maps.googleapis.com/maps/api/geocode/json?address=Big%20Sky&sensor=false\n",
      ".Information from URL : http://maps.googleapis.com/maps/api/geocode/json?address=Cape%20Town,%20South%20Africa&sensor=false\n",
      ".Information from URL : http://maps.googleapis.com/maps/api/geocode/json?address=Geneva,%20Switzerland&sensor=false\n",
      ".Information from URL : http://maps.googleapis.com/maps/api/geocode/json?address=United%20States&sensor=false\n",
      "Information from URL : http://maps.googleapis.com/maps/api/geocode/json?address=Boston,%20MA&sensor=false\n",
      "Information from URL : http://maps.googleapis.com/maps/api/geocode/json?address=im%20at%20where%20ur%20sister%20went&sensor=false\n",
      "Information from URL : http://maps.googleapis.com/maps/api/geocode/json?address=Cape%20Town,%20South%20Africa&sensor=false\n",
      ".Information from URL : http://maps.googleapis.com/maps/api/geocode/json?address=NYC&sensor=false\n",
      "Information from URL : http://maps.googleapis.com/maps/api/geocode/json?address=Boise,%20ID&sensor=false\n",
      ".Information from URL : http://maps.googleapis.com/maps/api/geocode/json?address=Ottawa,%20Ontario&sensor=false\n",
      "Information from URL : http://maps.googleapis.com/maps/api/geocode/json?address=(Guelph):%20Guest%20on%20the%20ancestral%20lands%20of%20the%20Attawandaron%20people%20and%20the%20Treaty%20lands%20and%20territory%20of%20the%20Mississaugas%20of%20the%20Credit.&sensor=false\n",
      "Warning message:\n",
      "“geocode failed with status ZERO_RESULTS, location = \"(Guelph): Guest on the ancestral lands of the Attawandaron people and the Treaty lands and territory of the Mississaugas of the Credit.\"”.Information from URL : http://maps.googleapis.com/maps/api/geocode/json?address=Richmond,%20VA&sensor=false\n",
      ".Information from URL : http://maps.googleapis.com/maps/api/geocode/json?address=Northern%20Georgia&sensor=false\n",
      ".Information from URL : http://maps.googleapis.com/maps/api/geocode/json?address=Tacoma,%20WA%20Area&sensor=false\n",
      "Warning message:\n",
      "“geocode failed with status OVER_QUERY_LIMIT, location = \"Tacoma, WA Area\"”Information from URL : http://maps.googleapis.com/maps/api/geocode/json?address=Medford,%20MA&sensor=false\n",
      "Warning message:\n",
      "“geocode failed with status OVER_QUERY_LIMIT, location = \"Medford, MA\"”Information from URL : http://maps.googleapis.com/maps/api/geocode/json?address=Colorado,%20USA&sensor=false\n",
      "Warning message:\n",
      "“geocode failed with status OVER_QUERY_LIMIT, location = \"Colorado, USA\"”Information from URL : http://maps.googleapis.com/maps/api/geocode/json?address=Minneapolis,%20Minnesota&sensor=false\n",
      "Warning message:\n",
      "“geocode failed with status OVER_QUERY_LIMIT, location = \"Minneapolis, Minnesota\"”.Information from URL : http://maps.googleapis.com/maps/api/geocode/json?address=Guelph,%20Ontario&sensor=false\n",
      "Information from URL : http://maps.googleapis.com/maps/api/geocode/json?address=Denton,%20TX&sensor=false\n",
      ".Information from URL : http://maps.googleapis.com/maps/api/geocode/json?address=Kingdom%20of%20Saudi%20Arabia&sensor=false\n",
      "Information from URL : http://maps.googleapis.com/maps/api/geocode/json?address=Oporto,%20Portugal&sensor=false\n",
      ".Information from URL : http://maps.googleapis.com/maps/api/geocode/json?address=Toronto&sensor=false\n",
      ".Information from URL : http://maps.googleapis.com/maps/api/geocode/json?address=Toronto,%20Ontario&sensor=false\n",
      ".Information from URL : http://maps.googleapis.com/maps/api/geocode/json?address=United%20Kingdom&sensor=false\n",
      ".Information from URL : http://maps.googleapis.com/maps/api/geocode/json?address=Columbus,%20OH&sensor=false\n",
      "Warning message:\n",
      "“geocode failed with status OVER_QUERY_LIMIT, location = \"Columbus, OH\"”Information from URL : http://maps.googleapis.com/maps/api/geocode/json?address=Florida,%20USA&sensor=false\n",
      "Information from URL : http://maps.googleapis.com/maps/api/geocode/json?address=International%20Website&sensor=false\n",
      ".Information from URL : http://maps.googleapis.com/maps/api/geocode/json?address=Scandinavia&sensor=false\n",
      "Information from URL : http://maps.googleapis.com/maps/api/geocode/json?address=LABORATORY&sensor=false\n",
      "Warning message:\n",
      "“geocode failed with status OVER_QUERY_LIMIT, location = \"LABORATORY\"”.Information from URL : http://maps.googleapis.com/maps/api/geocode/json?address=Kingdom%20of%20Saudi%20Arabia&sensor=false\n",
      ".Information from URL : http://maps.googleapis.com/maps/api/geocode/json?address=Scotland,%20United%20Kingdom&sensor=false\n",
      ".Information from URL : http://maps.googleapis.com/maps/api/geocode/json?address=Rigshospitalet,%20Univ%20of%20Copenh&sensor=false\n",
      "Warning message:\n",
      "“geocode failed with status OVER_QUERY_LIMIT, location = \"Rigshospitalet, Univ of Copenh\"”.Information from URL : http://maps.googleapis.com/maps/api/geocode/json?address=Sterling,%20VA&sensor=false\n",
      ".Information from URL : http://maps.googleapis.com/maps/api/geocode/json?address=Victoria,%20British%20Columbia&sensor=false\n",
      "Information from URL : http://maps.googleapis.com/maps/api/geocode/json?address=Africa&sensor=false\n",
      "Information from URL : http://maps.googleapis.com/maps/api/geocode/json?address=Deutschland&sensor=false\n",
      "Information from URL : http://maps.googleapis.com/maps/api/geocode/json?address=Holloway,%20North%20London&sensor=false\n",
      "Warning message:\n",
      "“geocode failed with status OVER_QUERY_LIMIT, location = \"Holloway, North London\"”.Information from URL : http://maps.googleapis.com/maps/api/geocode/json?address=Nijmegen,%20Nederland&sensor=false\n",
      "Information from URL : http://maps.googleapis.com/maps/api/geocode/json?address=Dingwall&sensor=false\n",
      ".Information from URL : http://maps.googleapis.com/maps/api/geocode/json?address=Rome,%20Italy&sensor=false\n"
     ]
    },
    {
     "name": "stderr",
     "output_type": "stream",
     "text": [
      "Information from URL : http://maps.googleapis.com/maps/api/geocode/json?address=Armagh,%20Northern%20Ireland&sensor=false\n",
      "Warning message:\n",
      "“geocode failed with status OVER_QUERY_LIMIT, location = \"Armagh, Northern Ireland\"”.Information from URL : http://maps.googleapis.com/maps/api/geocode/json?address=Roseville,%20CA&sensor=false\n",
      ".Information from URL : http://maps.googleapis.com/maps/api/geocode/json?address=UK&sensor=false\n",
      ".Information from URL : http://maps.googleapis.com/maps/api/geocode/json?address=United%20Kingdom&sensor=false\n",
      ".Information from URL : http://maps.googleapis.com/maps/api/geocode/json?address=Kilkenny,%20Ireland&sensor=false\n",
      "Warning message:\n",
      "“geocode failed with status OVER_QUERY_LIMIT, location = \"Kilkenny, Ireland\"”Information from URL : http://maps.googleapis.com/maps/api/geocode/json?address=Regina,%20Saskatchewan,%20Canada&sensor=false\n",
      "Information from URL : http://maps.googleapis.com/maps/api/geocode/json?address=Bay%20Area,%20CA&sensor=false\n",
      ".Information from URL : http://maps.googleapis.com/maps/api/geocode/json?address=Arlington,%20VA&sensor=false\n",
      "Information from URL : http://maps.googleapis.com/maps/api/geocode/json?address=Cape%20Town,%20South%20Africa&sensor=false\n",
      ".Information from URL : http://maps.googleapis.com/maps/api/geocode/json?address=Spokane,%20Washington&sensor=false\n",
      "Information from URL : http://maps.googleapis.com/maps/api/geocode/json?address=Amsterdam,%20Netherlands&sensor=false\n",
      ".Information from URL : http://maps.googleapis.com/maps/api/geocode/json?address=Greece&sensor=false\n",
      ".Information from URL : http://maps.googleapis.com/maps/api/geocode/json?address=Boston,%20MA&sensor=false\n",
      ".Information from URL : http://maps.googleapis.com/maps/api/geocode/json?address=St%20Albans&sensor=false\n",
      ".Information from URL : http://maps.googleapis.com/maps/api/geocode/json?address=Jeddah%20/%20London&sensor=false\n",
      "Information from URL : http://maps.googleapis.com/maps/api/geocode/json?address=California&sensor=false\n",
      "Warning message:\n",
      "“geocode failed with status OVER_QUERY_LIMIT, location = \"California\"”Information from URL : http://maps.googleapis.com/maps/api/geocode/json?address=Crediton,%20Devon%20&sensor=false\n",
      "Warning message:\n",
      "“geocode failed with status OVER_QUERY_LIMIT, location = \"Crediton, Devon \"”.Information from URL : http://maps.googleapis.com/maps/api/geocode/json?address=New%20Jersey,%20USA&sensor=false\n",
      "Information from URL : http://maps.googleapis.com/maps/api/geocode/json?address=Washington,%20D.C.,%20U.S.A.&sensor=false\n",
      ".Information from URL : http://maps.googleapis.com/maps/api/geocode/json?address=Notre%20Dame,%20IN&sensor=false\n",
      "Information from URL : http://maps.googleapis.com/maps/api/geocode/json?address=Buenos%20Aires,%20Argentina&sensor=false\n",
      "Warning message:\n",
      "“geocode failed with status OVER_QUERY_LIMIT, location = \"Buenos Aires, Argentina\"”.Information from URL : http://maps.googleapis.com/maps/api/geocode/json?address=Washington,%20DC&sensor=false\n",
      ".Information from URL : http://maps.googleapis.com/maps/api/geocode/json?address=mod:%20@capcomgoth&sensor=false\n",
      "Warning message:\n",
      "“geocode failed with status ZERO_RESULTS, location = \"mod: @capcomgoth\"”.Information from URL : http://maps.googleapis.com/maps/api/geocode/json?address=Trinidad%20&%20Tobago&sensor=false\n",
      "Information from URL : http://maps.googleapis.com/maps/api/geocode/json?address=Skopje&sensor=false\n",
      "Information from URL : http://maps.googleapis.com/maps/api/geocode/json?address=Hamburg&sensor=false\n",
      "Information from URL : http://maps.googleapis.com/maps/api/geocode/json?address=LaCanada%20&%20NH&sensor=false\n",
      "Information from URL : http://maps.googleapis.com/maps/api/geocode/json?address=San%20Ramon,%20CA&sensor=false\n",
      "Information from URL : http://maps.googleapis.com/maps/api/geocode/json?address=%C4%B0zmir,%20T%C3%BCrkiye&sensor=false\n",
      ".Information from URL : http://maps.googleapis.com/maps/api/geocode/json?address=Los%20Angeles,%20CA&sensor=false\n",
      "Information from URL : http://maps.googleapis.com/maps/api/geocode/json?address=NJ/NYC%20&sensor=false\n",
      ".Information from URL : http://maps.googleapis.com/maps/api/geocode/json?address=Central%20Alberta&sensor=false\n",
      "Information from URL : http://maps.googleapis.com/maps/api/geocode/json?address=107-100%20Stone%20Road%20W,%20Guelph&sensor=false\n",
      ".Information from URL : http://maps.googleapis.com/maps/api/geocode/json?address=Lehigh%20Valley,%20NJ/PA&sensor=false\n",
      ".Information from URL : http://maps.googleapis.com/maps/api/geocode/json?address=London&sensor=false\n",
      "Information from URL : http://maps.googleapis.com/maps/api/geocode/json?address=Ahmedabad,%20India&sensor=false\n",
      "Information from URL : http://maps.googleapis.com/maps/api/geocode/json?address=NW%20England&sensor=false\n",
      "Information from URL : http://maps.googleapis.com/maps/api/geocode/json?address=Sweden&sensor=false\n",
      "Information from URL : http://maps.googleapis.com/maps/api/geocode/json?address=Cambridge,%20UK&sensor=false\n",
      ".Information from URL : http://maps.googleapis.com/maps/api/geocode/json?address=North%20Carolina&sensor=false\n",
      "Information from URL : http://maps.googleapis.com/maps/api/geocode/json?address=Georgia,%20USA&sensor=false\n",
      ".Information from URL : http://maps.googleapis.com/maps/api/geocode/json?address=Abu%20Dhabi&sensor=false\n",
      "Information from URL : http://maps.googleapis.com/maps/api/geocode/json?address=Toronto,%20Ontario&sensor=false\n",
      ".Information from URL : http://maps.googleapis.com/maps/api/geocode/json?address=Oxnard,%20CA&sensor=false\n",
      ".Information from URL : http://maps.googleapis.com/maps/api/geocode/json?address=UK%20&%20Wales&sensor=false\n",
      "Information from URL : http://maps.googleapis.com/maps/api/geocode/json?address=New%20York%20City%20(et%20Montr%C3%A9al)&sensor=false\n",
      "Warning message:\n",
      "“geocode failed with status ZERO_RESULTS, location = \"New York City (et Montréal)\"”Information from URL : http://maps.googleapis.com/maps/api/geocode/json?address=In%20the%20gym%20&sensor=false\n",
      "Information from URL : http://maps.googleapis.com/maps/api/geocode/json?address=%C3%9CT:%2037.318707,-121.940244&sensor=false\n",
      "Warning message:\n",
      "“geocode failed with status OVER_QUERY_LIMIT, location = \"ÜT: 37.318707,-121.940244\"”.Information from URL : http://maps.googleapis.com/maps/api/geocode/json?address=Boston,%20MA&sensor=false\n",
      ".Information from URL : http://maps.googleapis.com/maps/api/geocode/json?address=Arlington,%20VA&sensor=false\n",
      ".Information from URL : http://maps.googleapis.com/maps/api/geocode/json?address=London&sensor=false\n",
      ".Information from URL : http://maps.googleapis.com/maps/api/geocode/json?address=Mumbai&sensor=false\n",
      ".Information from URL : http://maps.googleapis.com/maps/api/geocode/json?address=Nottingham,%20UK&sensor=false\n",
      "Information from URL : http://maps.googleapis.com/maps/api/geocode/json?address=Sleaford&sensor=false\n",
      ".Information from URL : http://maps.googleapis.com/maps/api/geocode/json?address=Oakland,%20California&sensor=false\n",
      "Information from URL : http://maps.googleapis.com/maps/api/geocode/json?address=Fortitudine%20Vincit&sensor=false\n",
      "Warning message:\n",
      "“geocode failed with status ZERO_RESULTS, location = \"Fortitudine Vincit\"”Information from URL : http://maps.googleapis.com/maps/api/geocode/json?address=Santiago,%20Chile&sensor=false\n",
      "Warning message:\n",
      "“geocode failed with status OVER_QUERY_LIMIT, location = \"Santiago, Chile\"”.Information from URL : http://maps.googleapis.com/maps/api/geocode/json?address=Switzerland&sensor=false\n",
      "Information from URL : http://maps.googleapis.com/maps/api/geocode/json?address=Ottawa,%20ON&sensor=false\n",
      ".Information from URL : http://maps.googleapis.com/maps/api/geocode/json?address=Madrid&sensor=false\n",
      "Warning message:\n",
      "“geocode failed with status OVER_QUERY_LIMIT, location = \"Madrid\"”.Information from URL : http://maps.googleapis.com/maps/api/geocode/json?address=Hollywood&sensor=false\n",
      "Information from URL : http://maps.googleapis.com/maps/api/geocode/json?address=ripley%20%7C%2019%20%7C%20az%20%7C%20sagittarius&sensor=false\n",
      "Information from URL : http://maps.googleapis.com/maps/api/geocode/json?address=South%20Africa&sensor=false\n",
      ".Information from URL : http://maps.googleapis.com/maps/api/geocode/json?address=An%20alternate%20cyberdimension&sensor=false\n",
      "Warning message:\n"
     ]
    },
    {
     "name": "stderr",
     "output_type": "stream",
     "text": [
      "“geocode failed with status ZERO_RESULTS, location = \"An alternate cyberdimension\"”.Information from URL : http://maps.googleapis.com/maps/api/geocode/json?address=South%20Florida&sensor=false\n",
      "Information from URL : http://maps.googleapis.com/maps/api/geocode/json?address=#DV%20#CSA%20%20#Daniel_Morgan&sensor=false\n",
      "Warning message in readLines(connect, warn = FALSE):\n",
      "“cannot open URL 'http://maps.googleapis.com/maps/api/geocode/json?address=': HTTP status was '400 Bad Request'”Warning message in geocode(loc$x[i], output = \"latlona\", source = \"google\"):\n",
      "“  geocoding failed for \"#DV #CSA  #Daniel_Morgan\".\n",
      "  if accompanied by 500 Internal Server Error with using dsk, try google.”Information from URL : http://maps.googleapis.com/maps/api/geocode/json?address=USA&sensor=false\n",
      ".Information from URL : http://maps.googleapis.com/maps/api/geocode/json?address=California,%20USA&sensor=false\n",
      "Warning message:\n",
      "“geocode failed with status OVER_QUERY_LIMIT, location = \"California, USA\"”.Information from URL : http://maps.googleapis.com/maps/api/geocode/json?address=Canada&sensor=false\n",
      ".Information from URL : http://maps.googleapis.com/maps/api/geocode/json?address=Boston,%20MA&sensor=false\n",
      ".Information from URL : http://maps.googleapis.com/maps/api/geocode/json?address=Ile-de-France,%20France&sensor=false\n",
      ".Information from URL : http://maps.googleapis.com/maps/api/geocode/json?address=Madrid&sensor=false\n",
      "Information from URL : http://maps.googleapis.com/maps/api/geocode/json?address=Bordeaux%20-%20Paris&sensor=false\n",
      "Information from URL : http://maps.googleapis.com/maps/api/geocode/json?address=New%20York,%20USA&sensor=false\n",
      ".Information from URL : http://maps.googleapis.com/maps/api/geocode/json?address=Argentina&sensor=false\n",
      "Warning message:\n",
      "“geocode failed with status OVER_QUERY_LIMIT, location = \"Argentina\"”.Information from URL : http://maps.googleapis.com/maps/api/geocode/json?address=Los%20Angeles,%20California&sensor=false\n",
      "Information from URL : http://maps.googleapis.com/maps/api/geocode/json?address=#yyc%20and%20area&sensor=false\n",
      "Warning message in readLines(connect, warn = FALSE):\n",
      "“cannot open URL 'http://maps.googleapis.com/maps/api/geocode/json?address=': HTTP status was '400 Bad Request'”Warning message in geocode(loc$x[i], output = \"latlona\", source = \"google\"):\n",
      "“  geocoding failed for \"#yyc and area\".\n",
      "  if accompanied by 500 Internal Server Error with using dsk, try google.”Information from URL : http://maps.googleapis.com/maps/api/geocode/json?address=Sarasota,%20Florida&sensor=false\n",
      "Information from URL : http://maps.googleapis.com/maps/api/geocode/json?address=Oblivion%20and%20beyond%20%E2%86%96%E2%99%B1&sensor=false\n",
      "Warning message:\n",
      "“geocode failed with status ZERO_RESULTS, location = \"Oblivion and beyond ↖♱\"”.Information from URL : http://maps.googleapis.com/maps/api/geocode/json?address=Chicago,%20IL&sensor=false\n",
      ".Information from URL : http://maps.googleapis.com/maps/api/geocode/json?address=International&sensor=false\n",
      ".Information from URL : http://maps.googleapis.com/maps/api/geocode/json?address=Old%20Bridge,%20NJ&sensor=false\n",
      "Information from URL : http://maps.googleapis.com/maps/api/geocode/json?address=Pune,%20India&sensor=false\n",
      "Information from URL : http://maps.googleapis.com/maps/api/geocode/json?address=York,%20England&sensor=false\n",
      ".Information from URL : http://maps.googleapis.com/maps/api/geocode/json?address=Atlanta,%20GA&sensor=false\n",
      ".Information from URL : http://maps.googleapis.com/maps/api/geocode/json?address=New%20York&sensor=false\n",
      "Information from URL : http://maps.googleapis.com/maps/api/geocode/json?address=California,%20USA&sensor=false\n",
      "Information from URL : http://maps.googleapis.com/maps/api/geocode/json?address=mi%20cant%C3%B3n&sensor=false\n",
      "Information from URL : http://maps.googleapis.com/maps/api/geocode/json?address=Washington%20DC&sensor=false\n",
      ".Information from URL : http://maps.googleapis.com/maps/api/geocode/json?address=Chapel%20Hill,%20NC&sensor=false\n",
      ".Information from URL : http://maps.googleapis.com/maps/api/geocode/json?address=Niagara%20Falls,%20NY&sensor=false\n",
      ".Information from URL : http://maps.googleapis.com/maps/api/geocode/json?address=Alberta&sensor=false\n",
      "Information from URL : http://maps.googleapis.com/maps/api/geocode/json?address=USA&sensor=false\n",
      ".Information from URL : http://maps.googleapis.com/maps/api/geocode/json?address=Seattle,%20Washington&sensor=false\n",
      ".Information from URL : http://maps.googleapis.com/maps/api/geocode/json?address=Gloucestershire%20and%20Mallorca&sensor=false\n",
      "Warning message:\n",
      "“geocode failed with status ZERO_RESULTS, location = \"Gloucestershire and Mallorca\"”.Information from URL : http://maps.googleapis.com/maps/api/geocode/json?address=Washington,%20D.C.&sensor=false\n",
      "Information from URL : http://maps.googleapis.com/maps/api/geocode/json?address=Scotland,%20United%20Kingdom&sensor=false\n",
      "Warning message:\n",
      "“geocode failed with status OVER_QUERY_LIMIT, location = \"Scotland, United Kingdom\"”Information from URL : http://maps.googleapis.com/maps/api/geocode/json?address=Global&sensor=false\n",
      "Information from URL : http://maps.googleapis.com/maps/api/geocode/json?address=Global&sensor=false\n",
      "Information from URL : http://maps.googleapis.com/maps/api/geocode/json?address=San%20Diego&sensor=false\n",
      ".Information from URL : http://maps.googleapis.com/maps/api/geocode/json?address=California%20(o/18%20:-)&sensor=false\n",
      ".Information from URL : http://maps.googleapis.com/maps/api/geocode/json?address=Mesa,%20AZ&sensor=false\n",
      ".Information from URL : http://maps.googleapis.com/maps/api/geocode/json?address=Edmonton,%20Alberta,%20Canada&sensor=false\n",
      ".Information from URL : http://maps.googleapis.com/maps/api/geocode/json?address=England,%20United%20Kingdom&sensor=false\n",
      "Warning message:\n",
      "“geocode failed with status OVER_QUERY_LIMIT, location = \"England, United Kingdom\"”.Information from URL : http://maps.googleapis.com/maps/api/geocode/json?address=CANADA,%20Grande%20Prairie%20&sensor=false\n",
      "Warning message:\n",
      "“geocode failed with status OVER_QUERY_LIMIT, location = \"CANADA, Grande Prairie \"”.Information from URL : http://maps.googleapis.com/maps/api/geocode/json?address=Alberta&sensor=false\n",
      ".Information from URL : http://maps.googleapis.com/maps/api/geocode/json?address=Twin%20Cities&sensor=false\n",
      "Information from URL : http://maps.googleapis.com/maps/api/geocode/json?address=St.%20George&sensor=false\n",
      "Information from URL : http://maps.googleapis.com/maps/api/geocode/json?address=North%20Carolina&sensor=false\n",
      "Information from URL : http://maps.googleapis.com/maps/api/geocode/json?address=Rotterdam,%20The%20Netherlands&sensor=false\n",
      ".Information from URL : http://maps.googleapis.com/maps/api/geocode/json?address=Spec.%20Love%20of%20Mtl,%20TO%20&%20Vancou&sensor=false\n",
      "Warning message:\n",
      "“geocode failed with status OVER_QUERY_LIMIT, location = \"Spec. Love of Mtl, TO & Vancou\"”.Information from URL : http://maps.googleapis.com/maps/api/geocode/json?address=Toronto,%20Ontario&sensor=false\n",
      ".Information from URL : http://maps.googleapis.com/maps/api/geocode/json?address=University%20of%20Guelph&sensor=false\n",
      ".Information from URL : http://maps.googleapis.com/maps/api/geocode/json?address=Community%20Veterinary%20Clinics&sensor=false\n",
      "Information from URL : http://maps.googleapis.com/maps/api/geocode/json?address=Bracebridge%20Muskoka%20&sensor=false\n",
      "Information from URL : http://maps.googleapis.com/maps/api/geocode/json?address=South%20Africa&sensor=false\n",
      ".Information from URL : http://maps.googleapis.com/maps/api/geocode/json?address=Suffolk&sensor=false\n",
      "Information from URL : http://maps.googleapis.com/maps/api/geocode/json?address=Guelph,%20Ontario,%20Canada&sensor=false\n",
      "Information from URL : http://maps.googleapis.com/maps/api/geocode/json?address=Bury%20St%20Edmunds,%20Suffolk,%20UK&sensor=false\n",
      "Information from URL : http://maps.googleapis.com/maps/api/geocode/json?address=Chapel%20Hill,%20NC&sensor=false\n",
      "Warning message:\n",
      "“geocode failed with status OVER_QUERY_LIMIT, location = \"Chapel Hill, NC\"”.Information from URL : http://maps.googleapis.com/maps/api/geocode/json?address=London,%20England&sensor=false\n",
      ".Information from URL : http://maps.googleapis.com/maps/api/geocode/json?address=Lambourn,%20Berkshire&sensor=false\n"
     ]
    },
    {
     "name": "stderr",
     "output_type": "stream",
     "text": [
      ".Information from URL : http://maps.googleapis.com/maps/api/geocode/json?address=Germany&sensor=false\n",
      "Warning message:\n",
      "“geocode failed with status OVER_QUERY_LIMIT, location = \"Germany\"”.Information from URL : http://maps.googleapis.com/maps/api/geocode/json?address=Denver,%20CO&sensor=false\n",
      "Warning message:\n",
      "“geocode failed with status OVER_QUERY_LIMIT, location = \"Denver, CO\"”.Information from URL : http://maps.googleapis.com/maps/api/geocode/json?address=Kenosha,%20Wi&sensor=false\n",
      "Information from URL : http://maps.googleapis.com/maps/api/geocode/json?address=Illinois,%20USA&sensor=false\n",
      "Information from URL : http://maps.googleapis.com/maps/api/geocode/json?address=Connecticut&sensor=false\n",
      "Warning message:\n",
      "“geocode failed with status OVER_QUERY_LIMIT, location = \"Connecticut\"”.Information from URL : http://maps.googleapis.com/maps/api/geocode/json?address=Newmarket,%20Suffolk,%20UK&sensor=false\n",
      "Information from URL : http://maps.googleapis.com/maps/api/geocode/json?address=Elk%20Grove%20Village,%20IL&sensor=false\n",
      "Information from URL : http://maps.googleapis.com/maps/api/geocode/json?address=Guelph,%20Ontario,%20Canada&sensor=false\n",
      ".Information from URL : http://maps.googleapis.com/maps/api/geocode/json?address=Guelph&sensor=false\n",
      "Information from URL : http://maps.googleapis.com/maps/api/geocode/json?address=Leiden,%20The%20Netherlands&sensor=false\n",
      ".Information from URL : http://maps.googleapis.com/maps/api/geocode/json?address=New%20York,%20NY&sensor=false\n",
      ".Information from URL : http://maps.googleapis.com/maps/api/geocode/json?address=Guelph,%20Ontario,%20Canada&sensor=false\n",
      ".Information from URL : http://maps.googleapis.com/maps/api/geocode/json?address=SoCal%E2%98%80&sensor=false\n",
      "Warning message:\n",
      "“geocode failed with status ZERO_RESULTS, location = \"SoCal☀\"”.Information from URL : http://maps.googleapis.com/maps/api/geocode/json?address=Irvine,%20CA&sensor=false\n",
      "Information from URL : http://maps.googleapis.com/maps/api/geocode/json?address=Washington,%20D.C.&sensor=false\n",
      ".Information from URL : http://maps.googleapis.com/maps/api/geocode/json?address=Suffolk,%20England&sensor=false\n",
      ".Information from URL : http://maps.googleapis.com/maps/api/geocode/json?address=Bozeman,%20MT&sensor=false\n",
      "Information from URL : http://maps.googleapis.com/maps/api/geocode/json?address=Scottsdale,%20AZ&sensor=false\n",
      ".Information from URL : http://maps.googleapis.com/maps/api/geocode/json?address=Boalsburg,%20Pennsylvania,%20USA&sensor=false\n",
      "Warning message:\n",
      "“geocode failed with status OVER_QUERY_LIMIT, location = \"Boalsburg, Pennsylvania, USA\"”Information from URL : http://maps.googleapis.com/maps/api/geocode/json?address=Alabama,%20USA&sensor=false\n",
      ".Information from URL : http://maps.googleapis.com/maps/api/geocode/json?address=City%20of%20Dreams&sensor=false\n",
      "Information from URL : http://maps.googleapis.com/maps/api/geocode/json?address=Brussels,%20Belgium&sensor=false\n",
      ".Information from URL : http://maps.googleapis.com/maps/api/geocode/json?address=Minnesota,%20USA&sensor=false\n",
      ".Information from URL : http://maps.googleapis.com/maps/api/geocode/json?address=20%20Steve%20Biko%20Street,%20Pretoria&sensor=false\n",
      "Information from URL : http://maps.googleapis.com/maps/api/geocode/json?address=Canada&sensor=false\n",
      "Warning message:\n",
      "“geocode failed with status OVER_QUERY_LIMIT, location = \"Canada\"”.Information from URL : http://maps.googleapis.com/maps/api/geocode/json?address=Gent,%20Belgi%C3%AB&sensor=false\n",
      ".Information from URL : http://maps.googleapis.com/maps/api/geocode/json?address=San%20Diego,%20CA&sensor=false\n",
      ".Information from URL : http://maps.googleapis.com/maps/api/geocode/json?address=Vilanova%20del%20Passerell&sensor=false\n",
      "Information from URL : http://maps.googleapis.com/maps/api/geocode/json?address=Madrid,%20Espa%C3%B1a&sensor=false\n",
      "Information from URL : http://maps.googleapis.com/maps/api/geocode/json?address=World&sensor=false\n",
      ".Information from URL : http://maps.googleapis.com/maps/api/geocode/json?address=Chapel%20Hill,%20NC&sensor=false\n",
      "Information from URL : http://maps.googleapis.com/maps/api/geocode/json?address=CT,%20New%20England,%20Greater%20NY&sensor=false\n",
      ".Information from URL : http://maps.googleapis.com/maps/api/geocode/json?address=North%20Vancouver,%20BC&sensor=false\n",
      "Information from URL : http://maps.googleapis.com/maps/api/geocode/json?address=Middletown,%20Connecticut&sensor=false\n",
      "Information from URL : http://maps.googleapis.com/maps/api/geocode/json?address=California,%20USA&sensor=false\n",
      ".Information from URL : http://maps.googleapis.com/maps/api/geocode/json?address=New%20York,%20NY&sensor=false\n",
      ".Information from URL : http://maps.googleapis.com/maps/api/geocode/json?address=Niagara,%20Ontario&sensor=false\n",
      "Information from URL : http://maps.googleapis.com/maps/api/geocode/json?address=Indiana,%20USA&sensor=false\n",
      "Information from URL : http://maps.googleapis.com/maps/api/geocode/json?address=Seattle,%20WA&sensor=false\n",
      "Information from URL : http://maps.googleapis.com/maps/api/geocode/json?address=Brownsburg,%20IN&sensor=false\n",
      ".Information from URL : http://maps.googleapis.com/maps/api/geocode/json?address=Eastbourne,%20Sussex,%20England&sensor=false\n",
      "Warning message:\n",
      "“geocode failed with status OVER_QUERY_LIMIT, location = \"Eastbourne, Sussex, England\"”.Information from URL : http://maps.googleapis.com/maps/api/geocode/json?address=Seattle,%20WA&sensor=false\n",
      "Warning message:\n",
      "“geocode failed with status OVER_QUERY_LIMIT, location = \"Seattle, WA\"”.Information from URL : http://maps.googleapis.com/maps/api/geocode/json?address=Newark,%20Delaware&sensor=false\n",
      "Information from URL : http://maps.googleapis.com/maps/api/geocode/json?address=Guelph,%20Ontario&sensor=false\n",
      "Information from URL : http://maps.googleapis.com/maps/api/geocode/json?address=Brussels,%20Belgium&sensor=false\n",
      ".Information from URL : http://maps.googleapis.com/maps/api/geocode/json?address=Chicago&sensor=false\n",
      ".Information from URL : http://maps.googleapis.com/maps/api/geocode/json?address=Amersfoort&sensor=false\n",
      ".Information from URL : http://maps.googleapis.com/maps/api/geocode/json?address=I%E2%80%99m%20gonna%20be%20just%20like%20everyone%20else%20with%20no%20hot%20tea!%E2%80%9D&sensor=false\n",
      "Warning message:\n",
      "“geocode failed with status OVER_QUERY_LIMIT, location = \"I’m gonna be just like everyone else with no hot tea!”\"”.Information from URL : http://maps.googleapis.com/maps/api/geocode/json?address=Ottawa,%20Ontario,%20Canada&sensor=false\n",
      "Information from URL : http://maps.googleapis.com/maps/api/geocode/json?address=Connecticut%20River%20Valley&sensor=false\n",
      "Information from URL : http://maps.googleapis.com/maps/api/geocode/json?address=Somewhere%20under%20the%20rainbow%20&sensor=false\n",
      ".Information from URL : http://maps.googleapis.com/maps/api/geocode/json?address=%E6%97%A5%E6%9C%AC&sensor=false\n",
      "Information from URL : http://maps.googleapis.com/maps/api/geocode/json?address=Washington,%20D.C.&sensor=false\n",
      ".Information from URL : http://maps.googleapis.com/maps/api/geocode/json?address=Toronto,%20ON&sensor=false\n",
      "Information from URL : http://maps.googleapis.com/maps/api/geocode/json?address=Houston,%20Texas&sensor=false\n",
      ".Information from URL : http://maps.googleapis.com/maps/api/geocode/json?address=American%20IT%20Infrastructure%20Supporting%20Internet%20Web%20Hosting,%20Domain%20Registration.%2024/7%20US%20based%20Customer%20Support&sensor=false\n",
      "Warning message:\n",
      "“geocode failed with status ZERO_RESULTS, location = \"American IT Infrastructure Supporting Internet Web Hosting, Domain Registration. 24/7 US based Customer Support\"”Information from URL : http://maps.googleapis.com/maps/api/geocode/json?address=Harrisburg,%20PA&sensor=false\n",
      ".Information from URL : http://maps.googleapis.com/maps/api/geocode/json?address=Puerto%20Vallarta%20Jal%20Mexico&sensor=false\n",
      "Information from URL : http://maps.googleapis.com/maps/api/geocode/json?address=Nottingham%20uk&sensor=false\n",
      "Information from URL : http://maps.googleapis.com/maps/api/geocode/json?address=West%20Central%20Florida&sensor=false\n",
      ".Information from URL : http://maps.googleapis.com/maps/api/geocode/json?address=Charleston,%20WV&sensor=false\n",
      "Warning message:\n",
      "“geocode failed with status OVER_QUERY_LIMIT, location = \"Charleston, WV\"”.Information from URL : http://maps.googleapis.com/maps/api/geocode/json?address=Dubai,%20United%20Arab%20Emirates&sensor=false\n",
      "Information from URL : http://maps.googleapis.com/maps/api/geocode/json?address=Global%20network&sensor=false\n",
      ".Information from URL : http://maps.googleapis.com/maps/api/geocode/json?address=Bronx,%20New%20York%20&sensor=false\n",
      "Information from URL : http://maps.googleapis.com/maps/api/geocode/json?address=Pittsburgh,%20PA&sensor=false\n",
      "Warning message:\n",
      "“geocode failed with status OVER_QUERY_LIMIT, location = \"Pittsburgh, PA\"”.Information from URL : http://maps.googleapis.com/maps/api/geocode/json?address=Cambridge,%20MA&sensor=false\n",
      "Warning message:\n",
      "“geocode failed with status OVER_QUERY_LIMIT, location = \"Cambridge, MA\"”Information from URL : http://maps.googleapis.com/maps/api/geocode/json?address=Indiana&sensor=false\n",
      ".Information from URL : http://maps.googleapis.com/maps/api/geocode/json?address=Scottsdale,%20AZ&sensor=false\n",
      ".Information from URL : http://maps.googleapis.com/maps/api/geocode/json?address=Rotterdam&sensor=false\n",
      "Information from URL : http://maps.googleapis.com/maps/api/geocode/json?address=Boston,%20MA&sensor=false\n",
      "Warning message:\n",
      "“geocode failed with status OVER_QUERY_LIMIT, location = \"Boston, MA\"”.Information from URL : http://maps.googleapis.com/maps/api/geocode/json?address=Wolverhampton,%20West%20Midlands&sensor=false\n",
      ".Information from URL : http://maps.googleapis.com/maps/api/geocode/json?address=Lugano&sensor=false\n",
      "Information from URL : http://maps.googleapis.com/maps/api/geocode/json?address=We%E2%80%99re%20%E2%80%9Cevolved?%E2%80%9D&sensor=false\n",
      "Information from URL : http://maps.googleapis.com/maps/api/geocode/json?address=Europe&sensor=false\n",
      "Information from URL : http://maps.googleapis.com/maps/api/geocode/json?address=Worcester,%20Massachusetts&sensor=false\n",
      ".Information from URL : http://maps.googleapis.com/maps/api/geocode/json?address=Notre%20Dame,%20IN&sensor=false\n",
      "Information from URL : http://maps.googleapis.com/maps/api/geocode/json?address=Netherlands&sensor=false\n",
      ".Information from URL : http://maps.googleapis.com/maps/api/geocode/json?address=London,%20UK&sensor=false\n",
      "Warning message:\n",
      "“geocode failed with status OVER_QUERY_LIMIT, location = \"London, UK\"”.Information from URL : http://maps.googleapis.com/maps/api/geocode/json?address=Chippewa%20Falls,%20WI,%20USA&sensor=false\n",
      "Information from URL : http://maps.googleapis.com/maps/api/geocode/json?address=Jewellery%20Quarter,%20Birmingham&sensor=false\n",
      "Information from URL : http://maps.googleapis.com/maps/api/geocode/json?address=Durham,%20NC&sensor=false\n",
      ".Information from URL : http://maps.googleapis.com/maps/api/geocode/json?address=Parma,%20Emilia%20Romagna&sensor=false\n",
      ".Information from URL : http://maps.googleapis.com/maps/api/geocode/json?address=the%20Netherlands&sensor=false\n",
      "Information from URL : http://maps.googleapis.com/maps/api/geocode/json?address=Amsterdam,%20London,%20New%20York&sensor=false\n",
      "Warning message:\n",
      "“geocode failed with status ZERO_RESULTS, location = \"Amsterdam, London, New York\"”Information from URL : http://maps.googleapis.com/maps/api/geocode/json?address=Edinburgh%20&sensor=false\n",
      "Warning message:\n",
      "“geocode failed with status OVER_QUERY_LIMIT, location = \"Edinburgh \"”.Information from URL : http://maps.googleapis.com/maps/api/geocode/json?address=Benalm%C3%A1dena%20M%C3%81LAGA&sensor=false\n",
      "Information from URL : http://maps.googleapis.com/maps/api/geocode/json?address=Brussels&sensor=false\n",
      ".Information from URL : http://maps.googleapis.com/maps/api/geocode/json?address=Monterrey,%20N.L.,%20Mexico&sensor=false\n",
      "Warning message:\n",
      "“geocode failed with status OVER_QUERY_LIMIT, location = \"Monterrey, N.L., Mexico\"”.Information from URL : http://maps.googleapis.com/maps/api/geocode/json?address=Manhattan%20Beach,%20CA&sensor=false\n",
      "Information from URL : http://maps.googleapis.com/maps/api/geocode/json?address=London,%20UK&sensor=false\n",
      "Information from URL : http://maps.googleapis.com/maps/api/geocode/json?address=Brussels&sensor=false\n",
      ".Information from URL : http://maps.googleapis.com/maps/api/geocode/json?address=Utrecht,%20The%20Netherlands&sensor=false\n",
      ".Information from URL : http://maps.googleapis.com/maps/api/geocode/json?address=London&sensor=false\n",
      "Warning message:\n",
      "“geocode failed with status OVER_QUERY_LIMIT, location = \"London\"”.Information from URL : http://maps.googleapis.com/maps/api/geocode/json?address=Rockville,%20MD&sensor=false\n",
      "Information from URL : http://maps.googleapis.com/maps/api/geocode/json?address=Germany%20/%20Europe&sensor=false\n",
      "Information from URL : http://maps.googleapis.com/maps/api/geocode/json?address=Vienna,%20Austria&sensor=false\n",
      ".Information from URL : http://maps.googleapis.com/maps/api/geocode/json?address=Rockville,%20MD&sensor=false\n",
      ".Information from URL : http://maps.googleapis.com/maps/api/geocode/json?address=Notre%20Dame,%20Indiana&sensor=false\n",
      ".Information from URL : http://maps.googleapis.com/maps/api/geocode/json?address=United%20States&sensor=false\n",
      "Warning message:\n",
      "“geocode failed with status OVER_QUERY_LIMIT, location = \"United States\"”Information from URL : http://maps.googleapis.com/maps/api/geocode/json?address=State%20College,%20PA&sensor=false\n",
      "Warning message:\n",
      "“geocode failed with status OVER_QUERY_LIMIT, location = \"State College, PA\"”.Information from URL : http://maps.googleapis.com/maps/api/geocode/json?address=Jakarta,%20Indonesia&sensor=false\n",
      "Information from URL : http://maps.googleapis.com/maps/api/geocode/json?address=Connecticut&sensor=false\n",
      "Information from URL : http://maps.googleapis.com/maps/api/geocode/json?address=Bruxelles%20/%20Bari%20&sensor=false\n",
      "Information from URL : http://maps.googleapis.com/maps/api/geocode/json?address=Florida,%20USA&sensor=false\n",
      "Information from URL : http://maps.googleapis.com/maps/api/geocode/json?address=Panama&sensor=false\n",
      "Warning message:\n",
      "“geocode failed with status OVER_QUERY_LIMIT, location = \"Panama\"”Information from URL : http://maps.googleapis.com/maps/api/geocode/json?address=Canton,%20OH&sensor=false\n",
      "Warning message:\n",
      "“geocode failed with status OVER_QUERY_LIMIT, location = \"Canton, OH\"”.Information from URL : http://maps.googleapis.com/maps/api/geocode/json?address=Florida,%20USA&sensor=false\n",
      ".Information from URL : http://maps.googleapis.com/maps/api/geocode/json?address=Sodak%20Roots.%20MN%20Livin'%20&sensor=false\n",
      "Warning message:\n",
      "“geocode failed with status OVER_QUERY_LIMIT, location = \"Sodak Roots. MN Livin' \"”.Information from URL : http://maps.googleapis.com/maps/api/geocode/json?address=Around%20the%20world&sensor=false\n",
      "Information from URL : http://maps.googleapis.com/maps/api/geocode/json?address=Nairobi,%20Kenya&sensor=false\n",
      "Warning message:\n",
      "“geocode failed with status OVER_QUERY_LIMIT, location = \"Nairobi, Kenya\"”.Information from URL : http://maps.googleapis.com/maps/api/geocode/json?address=Las%20Vegas,%20NV&sensor=false\n",
      ".Information from URL : http://maps.googleapis.com/maps/api/geocode/json?address=London,%20England&sensor=false\n",
      ".Information from URL : http://maps.googleapis.com/maps/api/geocode/json?address=Arusha,%20Tanzania&sensor=false\n",
      ".Information from URL : http://maps.googleapis.com/maps/api/geocode/json?address=%E6%97%A5%E6%9C%AC%E3%81%AE%E4%BD%95%E5%87%A6%E3%81%8B&sensor=false\n",
      "Information from URL : http://maps.googleapis.com/maps/api/geocode/json?address=West%20Coast,%20US&sensor=false\n",
      "Information from URL : http://maps.googleapis.com/maps/api/geocode/json?address=Milton%20Keynes,%20United%20Kingdom%20&sensor=false\n",
      "Information from URL : http://maps.googleapis.com/maps/api/geocode/json?address=Chippewa%20land&sensor=false\n",
      ".Information from URL : http://maps.googleapis.com/maps/api/geocode/json?address=Bishan,%20Singapore&sensor=false\n",
      "Information from URL : http://maps.googleapis.com/maps/api/geocode/json?address=North%20Carolina,%20USA&sensor=false\n",
      "Information from URL : http://maps.googleapis.com/maps/api/geocode/json?address=Athens%20%7C%20G%C3%B6teborg&sensor=false\n",
      "Warning message:\n",
      "“geocode failed with status OVER_QUERY_LIMIT, location = \"Athens | Göteborg\"”.Information from URL : http://maps.googleapis.com/maps/api/geocode/json?address=Brandon,%20MS&sensor=false\n"
     ]
    },
    {
     "name": "stderr",
     "output_type": "stream",
     "text": [
      ".Information from URL : http://maps.googleapis.com/maps/api/geocode/json?address=United%20States&sensor=false\n",
      ".Information from URL : http://maps.googleapis.com/maps/api/geocode/json?address=Simcoe%20County&sensor=false\n",
      "Warning message:\n",
      "“geocode failed with status OVER_QUERY_LIMIT, location = \"Simcoe County\"”.Information from URL : http://maps.googleapis.com/maps/api/geocode/json?address=Orillia&sensor=false\n",
      "Information from URL : http://maps.googleapis.com/maps/api/geocode/json?address=Timor-Leste&sensor=false\n",
      "Information from URL : http://maps.googleapis.com/maps/api/geocode/json?address=UK&sensor=false\n",
      "Information from URL : http://maps.googleapis.com/maps/api/geocode/json?address=Boston%20area&sensor=false\n",
      "Warning message:\n",
      "“geocode failed with status OVER_QUERY_LIMIT, location = \"Boston area\"”.Information from URL : http://maps.googleapis.com/maps/api/geocode/json?address=Streetsboro,%20Ohio&sensor=false\n",
      ".Information from URL : http://maps.googleapis.com/maps/api/geocode/json?address=AAARRGH&sensor=false\n",
      "Warning message:\n",
      "“geocode failed with status ZERO_RESULTS, location = \"AAARRGH\"”Information from URL : http://maps.googleapis.com/maps/api/geocode/json?address=NYC&sensor=false\n",
      "Information from URL : http://maps.googleapis.com/maps/api/geocode/json?address=New%20York&sensor=false\n",
      ".Information from URL : http://maps.googleapis.com/maps/api/geocode/json?address=Toronto,%20Canada&sensor=false\n",
      ".Information from URL : http://maps.googleapis.com/maps/api/geocode/json?address=Walnut%20Creek,%20CA&sensor=false\n",
      ".Information from URL : http://maps.googleapis.com/maps/api/geocode/json?address=Dublin%20City,%20Ireland&sensor=false\n",
      ".Information from URL : http://maps.googleapis.com/maps/api/geocode/json?address=Cranbury,%20NJ&sensor=false\n",
      "Warning message:\n",
      "“geocode failed with status OVER_QUERY_LIMIT, location = \"Cranbury, NJ\"”.Information from URL : http://maps.googleapis.com/maps/api/geocode/json?address=Pretoria,%20South%20Africa&sensor=false\n",
      "Information from URL : http://maps.googleapis.com/maps/api/geocode/json?address=Basilea,%20Suiza&sensor=false\n",
      "Information from URL : http://maps.googleapis.com/maps/api/geocode/json?address=Scottsville,%20KY&sensor=false\n",
      "Warning message:\n",
      "“geocode failed with status OVER_QUERY_LIMIT, location = \"Scottsville, KY\"”.Information from URL : http://maps.googleapis.com/maps/api/geocode/json?address=Colorado%20Springs&sensor=false\n",
      "Warning message:\n",
      "“geocode failed with status OVER_QUERY_LIMIT, location = \"Colorado Springs\"”.Information from URL : http://maps.googleapis.com/maps/api/geocode/json?address=South%20East,%20England&sensor=false\n",
      "Warning message:\n",
      "“geocode failed with status OVER_QUERY_LIMIT, location = \"South East, England\"”Information from URL : http://maps.googleapis.com/maps/api/geocode/json?address=Billeskov&sensor=false\n",
      ".Information from URL : http://maps.googleapis.com/maps/api/geocode/json?address=Coolbellup,%20Perth%20(WA)&sensor=false\n",
      "Information from URL : http://maps.googleapis.com/maps/api/geocode/json?address=British%20Columbia,%20Canada&sensor=false\n",
      "Warning message:\n",
      "“geocode failed with status OVER_QUERY_LIMIT, location = \"British Columbia, Canada\"”.Information from URL : http://maps.googleapis.com/maps/api/geocode/json?address=United%20States&sensor=false\n",
      "Warning message:\n",
      "“geocode failed with status OVER_QUERY_LIMIT, location = \"United States\"”.Information from URL : http://maps.googleapis.com/maps/api/geocode/json?address=Lyon,%20France&sensor=false\n",
      ".Information from URL : http://maps.googleapis.com/maps/api/geocode/json?address=Barrie,%20Ontario%20Canada&sensor=false\n",
      "Information from URL : http://maps.googleapis.com/maps/api/geocode/json?address=Ilocos%20Region&sensor=false\n",
      "Warning message:\n",
      "“geocode failed with status OVER_QUERY_LIMIT, location = \"Ilocos Region\"”Information from URL : http://maps.googleapis.com/maps/api/geocode/json?address=Orangeville/Caledon/Dufferin&sensor=false\n",
      "Warning message:\n",
      "“geocode failed with status OVER_QUERY_LIMIT, location = \"Orangeville/Caledon/Dufferin\"”.Information from URL : http://maps.googleapis.com/maps/api/geocode/json?address=Denmark&sensor=false\n",
      "Warning message:\n",
      "“geocode failed with status OVER_QUERY_LIMIT, location = \"Denmark\"”.Information from URL : http://maps.googleapis.com/maps/api/geocode/json?address=London,%20UK%20usually&sensor=false\n",
      "Information from URL : http://maps.googleapis.com/maps/api/geocode/json?address=Montrose,%20Scotland&sensor=false\n",
      "Warning message:\n",
      "“geocode failed with status OVER_QUERY_LIMIT, location = \"Montrose, Scotland\"”.Information from URL : http://maps.googleapis.com/maps/api/geocode/json?address=Athens%20Greece&sensor=false\n",
      ".Information from URL : http://maps.googleapis.com/maps/api/geocode/json?address=Dollard%20des%20Ormeaux,%20Qu%C3%A9bec,Ca&sensor=false\n",
      "Information from URL : http://maps.googleapis.com/maps/api/geocode/json?address=Canada&sensor=false\n",
      "Warning message:\n",
      "“geocode failed with status OVER_QUERY_LIMIT, location = \"Canada\"”.Information from URL : http://maps.googleapis.com/maps/api/geocode/json?address=Sao%20Paulo&sensor=false\n",
      ".Information from URL : http://maps.googleapis.com/maps/api/geocode/json?address=Daytona%20Beach,%20Florida,%20USA&sensor=false\n",
      ".Information from URL : http://maps.googleapis.com/maps/api/geocode/json?address=London&sensor=false\n",
      "Information from URL : http://maps.googleapis.com/maps/api/geocode/json?address=Somewhere%20tropical&sensor=false\n",
      "Warning message:\n",
      "“geocode failed with status ZERO_RESULTS, location = \"Somewhere tropical\"”Information from URL : http://maps.googleapis.com/maps/api/geocode/json?address=Newmarket&sensor=false\n",
      ".Information from URL : http://maps.googleapis.com/maps/api/geocode/json?address=%20Australia&sensor=false\n",
      "Information from URL : http://maps.googleapis.com/maps/api/geocode/json?address=Washington,%20DC&sensor=false\n",
      ".Information from URL : http://maps.googleapis.com/maps/api/geocode/json?address=Italy&sensor=false\n",
      "Warning message:\n",
      "“geocode failed with status OVER_QUERY_LIMIT, location = \"Italy\"”.Information from URL : http://maps.googleapis.com/maps/api/geocode/json?address=South%20West,%20England&sensor=false\n",
      "Information from URL : http://maps.googleapis.com/maps/api/geocode/json?address=Nz%20exUK%20&sensor=false\n",
      "Warning message:\n",
      "“geocode failed with status ZERO_RESULTS, location = \"Nz exUK \"”.Information from URL : http://maps.googleapis.com/maps/api/geocode/json?address=West%20Tyrone&sensor=false\n",
      "Information from URL : http://maps.googleapis.com/maps/api/geocode/json?address=Johannesburg,%20South%20Africa&sensor=false\n",
      ".Information from URL : http://maps.googleapis.com/maps/api/geocode/json?address=Norway%20most%20of%20the%20time&sensor=false\n",
      "Warning message:\n",
      "“geocode failed with status ZERO_RESULTS, location = \"Norway most of the time\"”.Information from URL : http://maps.googleapis.com/maps/api/geocode/json?address=London&sensor=false\n",
      "Information from URL : http://maps.googleapis.com/maps/api/geocode/json?address=EU&sensor=false\n",
      ".Information from URL : http://maps.googleapis.com/maps/api/geocode/json?address=Brussels&sensor=false\n",
      "Information from URL : http://maps.googleapis.com/maps/api/geocode/json?address=Orlando,%20FL&sensor=false\n",
      "Information from URL : http://maps.googleapis.com/maps/api/geocode/json?address=Brussels,%20Belgium&sensor=false\n",
      "Warning message:\n",
      "“geocode failed with status OVER_QUERY_LIMIT, location = \"Brussels, Belgium\"”.Information from URL : http://maps.googleapis.com/maps/api/geocode/json?address=Lincolnshire&sensor=false\n",
      "Information from URL : http://maps.googleapis.com/maps/api/geocode/json?address=Hamburg&sensor=false\n",
      ".Information from URL : http://maps.googleapis.com/maps/api/geocode/json?address=Brussels&sensor=false\n",
      "Warning message:\n",
      "“geocode failed with status OVER_QUERY_LIMIT, location = \"Brussels\"”.Information from URL : http://maps.googleapis.com/maps/api/geocode/json?address=Belfast,%20Northern%20Ireland&sensor=false\n",
      "Information from URL : http://maps.googleapis.com/maps/api/geocode/json?address=Ontario,%20Canada&sensor=false\n",
      ".Information from URL : http://maps.googleapis.com/maps/api/geocode/json?address=Diss,%20England&sensor=false\n",
      "Information from URL : http://maps.googleapis.com/maps/api/geocode/json?address=NYC&sensor=false\n"
     ]
    },
    {
     "name": "stderr",
     "output_type": "stream",
     "text": [
      "Warning message:\n",
      "“geocode failed with status OVER_QUERY_LIMIT, location = \"NYC\"”.Information from URL : http://maps.googleapis.com/maps/api/geocode/json?address=Cape%20Town,%20South%20Africa&sensor=false\n",
      "Information from URL : http://maps.googleapis.com/maps/api/geocode/json?address=London,%20England%20&sensor=false\n",
      "Information from URL : http://maps.googleapis.com/maps/api/geocode/json?address=Colombia&sensor=false\n",
      "Warning message:\n",
      "“geocode failed with status OVER_QUERY_LIMIT, location = \"Colombia\"”.Information from URL : http://maps.googleapis.com/maps/api/geocode/json?address=Mumbai,%20Maharashtra,%20India&sensor=false\n",
      ".Information from URL : http://maps.googleapis.com/maps/api/geocode/json?address=Sintra,%20Portugal&sensor=false\n",
      "Warning message:\n",
      "“geocode failed with status OVER_QUERY_LIMIT, location = \"Sintra, Portugal\"”.Information from URL : http://maps.googleapis.com/maps/api/geocode/json?address=Russia/Penza%20city&sensor=false\n",
      "Warning message:\n",
      "“geocode failed with status OVER_QUERY_LIMIT, location = \"Russia/Penza city\"”.Information from URL : http://maps.googleapis.com/maps/api/geocode/json?address=Lac-Brome,%20Qu%C3%A9bec&sensor=false\n",
      "Information from URL : http://maps.googleapis.com/maps/api/geocode/json?address=New%20Hampshire,%20USA&sensor=false\n",
      "Warning message:\n",
      "“geocode failed with status OVER_QUERY_LIMIT, location = \"New Hampshire, USA\"”.Information from URL : http://maps.googleapis.com/maps/api/geocode/json?address=exo&sensor=false\n",
      ".Information from URL : http://maps.googleapis.com/maps/api/geocode/json?address=%C3%9CT:%20-6.584773,106.7987858&sensor=false\n",
      "Information from URL : http://maps.googleapis.com/maps/api/geocode/json?address=Santiago%20de%20Chile&sensor=false\n",
      ".Information from URL : http://maps.googleapis.com/maps/api/geocode/json?address=London&sensor=false\n",
      ".Information from URL : http://maps.googleapis.com/maps/api/geocode/json?address=in%20capsid&sensor=false\n",
      "Information from URL : http://maps.googleapis.com/maps/api/geocode/json?address=N.C.%20CHEROKEE%20NATION&sensor=false\n",
      "Information from URL : http://maps.googleapis.com/maps/api/geocode/json?address=Asia&sensor=false\n",
      ".Information from URL : http://maps.googleapis.com/maps/api/geocode/json?address=London,%20England&sensor=false\n",
      ".Information from URL : http://maps.googleapis.com/maps/api/geocode/json?address=Hong%20Kong&sensor=false\n",
      "Information from URL : http://maps.googleapis.com/maps/api/geocode/json?address=+62&sensor=false\n",
      "Warning message:\n",
      "“geocode failed with status ZERO_RESULTS, location = \"+62\"”.Information from URL : http://maps.googleapis.com/maps/api/geocode/json?address=Kampenhout&sensor=false\n",
      "Warning message:\n",
      "“geocode failed with status OVER_QUERY_LIMIT, location = \"Kampenhout\"”.Information from URL : http://maps.googleapis.com/maps/api/geocode/json?address=Wiltshire&sensor=false\n",
      "Warning message:\n",
      "“geocode failed with status OVER_QUERY_LIMIT, location = \"Wiltshire\"”.Information from URL : http://maps.googleapis.com/maps/api/geocode/json?address=Montevideo,%20URUGUAY&sensor=false\n",
      ".Information from URL : http://maps.googleapis.com/maps/api/geocode/json?address=Central%20USA&sensor=false\n",
      "Information from URL : http://maps.googleapis.com/maps/api/geocode/json?address=Taiwan(Sanchong,Taipei)&sensor=false\n",
      "Information from URL : http://maps.googleapis.com/maps/api/geocode/json?address=Leiden,%20the%20Netherlands&sensor=false\n",
      "Information from URL : http://maps.googleapis.com/maps/api/geocode/json?address=University%20of%20Kent&sensor=false\n",
      ".Information from URL : http://maps.googleapis.com/maps/api/geocode/json?address=United%20Kingdom&sensor=false\n",
      "Warning message:\n",
      "“geocode failed with status OVER_QUERY_LIMIT, location = \"United Kingdom\"”.Information from URL : http://maps.googleapis.com/maps/api/geocode/json?address=Brussels&sensor=false\n",
      "Information from URL : http://maps.googleapis.com/maps/api/geocode/json?address=France&sensor=false\n",
      ".Information from URL : http://maps.googleapis.com/maps/api/geocode/json?address=Bat%20Country%20&sensor=false\n",
      "Information from URL : http://maps.googleapis.com/maps/api/geocode/json?address=Bengaluru,%20India&sensor=false\n",
      ".Information from URL : http://maps.googleapis.com/maps/api/geocode/json?address=Fordham,%20Cambridgeshire&sensor=false\n",
      ".Information from URL : http://maps.googleapis.com/maps/api/geocode/json?address=-31.822573,115.77187&sensor=false\n",
      "Information from URL : http://maps.googleapis.com/maps/api/geocode/json?address=Harare,%20Zimbabwe&sensor=false\n",
      "Information from URL : http://maps.googleapis.com/maps/api/geocode/json?address=Harare,%20Zimbabwe&sensor=false\n",
      "Warning message:\n",
      "“geocode failed with status OVER_QUERY_LIMIT, location = \"Harare, Zimbabwe\"”.Information from URL : http://maps.googleapis.com/maps/api/geocode/json?address=Southern%20Africa&sensor=false\n",
      ".Information from URL : http://maps.googleapis.com/maps/api/geocode/json?address=Ft.%20Lauderdale,%20FL&sensor=false\n",
      ".Information from URL : http://maps.googleapis.com/maps/api/geocode/json?address=London,%20England&sensor=false\n",
      "Information from URL : http://maps.googleapis.com/maps/api/geocode/json?address=Madrid,%20Comunidad%20de%20Madrid&sensor=false\n",
      "Warning message:\n",
      "“geocode failed with status OVER_QUERY_LIMIT, location = \"Madrid, Comunidad de Madrid\"”.Information from URL : http://maps.googleapis.com/maps/api/geocode/json?address=NAIROBI&sensor=false\n",
      "Information from URL : http://maps.googleapis.com/maps/api/geocode/json?address=United%20Kingdom&sensor=false\n",
      "Information from URL : http://maps.googleapis.com/maps/api/geocode/json?address=Luxembourg&sensor=false\n",
      ".Information from URL : http://maps.googleapis.com/maps/api/geocode/json?address=#Beautiful%20but%20unfortunately%20#corrupt%20#INDIA,%20wanna%20live%20on%20#VeganEarth,%20#HoverHomes%20and%20#SpacePlanes%20in%20future&sensor=false\n",
      "Warning message in readLines(connect, warn = FALSE):\n",
      "“cannot open URL 'http://maps.googleapis.com/maps/api/geocode/json?address=': HTTP status was '400 Bad Request'”Warning message in geocode(loc$x[i], output = \"latlona\", source = \"google\"):\n",
      "“  geocoding failed for \"#Beautiful but unfortunately #corrupt #INDIA, wanna live on #VeganEarth, #HoverHomes and #SpacePlanes in future\".\n",
      "  if accompanied by 500 Internal Server Error with using dsk, try google.”.Information from URL : http://maps.googleapis.com/maps/api/geocode/json?address=London,%20England&sensor=false\n",
      "Information from URL : http://maps.googleapis.com/maps/api/geocode/json?address=Australia%20&sensor=false\n",
      "Warning message:\n",
      "“geocode failed with status OVER_QUERY_LIMIT, location = \"Australia \"”.Information from URL : http://maps.googleapis.com/maps/api/geocode/json?address=Scotland&sensor=false\n",
      ".Information from URL : http://maps.googleapis.com/maps/api/geocode/json?address=Frankfurt/Main,%20Germany&sensor=false\n",
      ".Information from URL : http://maps.googleapis.com/maps/api/geocode/json?address=Utrecht,%20Nederland&sensor=false\n",
      "Information from URL : http://maps.googleapis.com/maps/api/geocode/json?address=Brisbane,%20Australia&sensor=false\n",
      "Information from URL : http://maps.googleapis.com/maps/api/geocode/json?address=Frankfurt%20am%20Main%20und%20Berlin&sensor=false\n",
      ".Information from URL : http://maps.googleapis.com/maps/api/geocode/json?address=Hungary&sensor=false\n",
      "Warning message:\n",
      "“geocode failed with status OVER_QUERY_LIMIT, location = \"Hungary\"”Information from URL : http://maps.googleapis.com/maps/api/geocode/json?address=Cambridge%20MA-USA%20and%20London%20UK&sensor=false\n",
      ".Information from URL : http://maps.googleapis.com/maps/api/geocode/json?address=The%20land%20of%20gloom%20and%20sorrow.&sensor=false\n",
      "Warning message:\n",
      "“geocode failed with status ZERO_RESULTS, location = \"The land of gloom and sorrow.\"”Information from URL : http://maps.googleapis.com/maps/api/geocode/json?address=www.bva.co.uk&sensor=false\n",
      "Warning message:\n",
      "“geocode failed with status ZERO_RESULTS, location = \"www.bva.co.uk\"”Information from URL : http://maps.googleapis.com/maps/api/geocode/json?address=Northern%20Ireland&sensor=false\n",
      "Information from URL : http://maps.googleapis.com/maps/api/geocode/json?address=%C3%9C.T:%2051.53096,-0.118332&sensor=false\n",
      ".Information from URL : http://maps.googleapis.com/maps/api/geocode/json?address=News%20ITN,%20London,%20England&sensor=false\n"
     ]
    },
    {
     "name": "stderr",
     "output_type": "stream",
     "text": [
      ".Information from URL : http://maps.googleapis.com/maps/api/geocode/json?address=Hong%20Kong%20SAR&sensor=false\n",
      "Information from URL : http://maps.googleapis.com/maps/api/geocode/json?address=Dublin%20City,%20Ireland&sensor=false\n",
      "Information from URL : http://maps.googleapis.com/maps/api/geocode/json?address=www.zyite.com&sensor=false\n",
      "Warning message:\n",
      "“geocode failed with status OVER_QUERY_LIMIT, location = \"www.zyite.com\"”.Information from URL : http://maps.googleapis.com/maps/api/geocode/json?address=Limerick,%20Ireland&sensor=false\n",
      "Information from URL : http://maps.googleapis.com/maps/api/geocode/json?address=Williamsburg,%20VA&sensor=false\n",
      ".Information from URL : http://maps.googleapis.com/maps/api/geocode/json?address=Hong%20Kong&sensor=false\n",
      "Warning message:\n",
      "“geocode failed with status OVER_QUERY_LIMIT, location = \"Hong Kong\"”.Information from URL : http://maps.googleapis.com/maps/api/geocode/json?address=France&sensor=false\n",
      ".Information from URL : http://maps.googleapis.com/maps/api/geocode/json?address=Uppsala,%20Sverige&sensor=false\n",
      "Information from URL : http://maps.googleapis.com/maps/api/geocode/json?address=New%20Delhi,%20India&sensor=false\n",
      ".Information from URL : http://maps.googleapis.com/maps/api/geocode/json?address=Lausanne&sensor=false\n",
      ".Information from URL : http://maps.googleapis.com/maps/api/geocode/json?address=Winterthur,%20Switzerland&sensor=false\n",
      "Information from URL : http://maps.googleapis.com/maps/api/geocode/json?address=Portland,%20OR&sensor=false\n",
      ".Information from URL : http://maps.googleapis.com/maps/api/geocode/json?address=Texas&sensor=false\n",
      "Information from URL : http://maps.googleapis.com/maps/api/geocode/json?address=timbuktu&sensor=false\n",
      "Information from URL : http://maps.googleapis.com/maps/api/geocode/json?address=The%20Wonka%20Factory&sensor=false\n",
      ".Information from URL : http://maps.googleapis.com/maps/api/geocode/json?address=Houston,%20Texas&sensor=false\n",
      "Information from URL : http://maps.googleapis.com/maps/api/geocode/json?address=Brussels&sensor=false\n",
      ".Information from URL : http://maps.googleapis.com/maps/api/geocode/json?address=(under%20construction)&sensor=false\n",
      "Warning message:\n",
      "“geocode failed with status OVER_QUERY_LIMIT, location = \"(under construction)\"”Information from URL : http://maps.googleapis.com/maps/api/geocode/json?address=piemonte&sensor=false\n",
      ".Information from URL : http://maps.googleapis.com/maps/api/geocode/json?address=Hrubiesz%C3%B3w,%20Polska&sensor=false\n",
      ".Information from URL : http://maps.googleapis.com/maps/api/geocode/json?address=Edinburgh&sensor=false\n",
      "Information from URL : http://maps.googleapis.com/maps/api/geocode/json?address=Evanescent&sensor=false\n",
      ".Information from URL : http://maps.googleapis.com/maps/api/geocode/json?address=Nuremberg,%20Bavaria&sensor=false\n",
      "Warning message:\n",
      "“geocode failed with status OVER_QUERY_LIMIT, location = \"Nuremberg, Bavaria\"”Information from URL : http://maps.googleapis.com/maps/api/geocode/json?address=Melbourne,%20Australia&sensor=false\n",
      ".Information from URL : http://maps.googleapis.com/maps/api/geocode/json?address=Chicago,%20IL&sensor=false\n",
      ".Information from URL : http://maps.googleapis.com/maps/api/geocode/json?address=Rome,%20Italy&sensor=false\n",
      ".Information from URL : http://maps.googleapis.com/maps/api/geocode/json?address=Germany&sensor=false\n",
      ".Information from URL : http://maps.googleapis.com/maps/api/geocode/json?address=Surrey,%20BC&sensor=false\n",
      "Information from URL : http://maps.googleapis.com/maps/api/geocode/json?address=iKON%20-%20PTG&sensor=false\n",
      "Warning message:\n",
      "“geocode failed with status OVER_QUERY_LIMIT, location = \"iKON - PTG\"”.Information from URL : http://maps.googleapis.com/maps/api/geocode/json?address=Vancouver&sensor=false\n",
      ".Information from URL : http://maps.googleapis.com/maps/api/geocode/json?address=Melbourne,%20Australia&sensor=false\n",
      "Information from URL : http://maps.googleapis.com/maps/api/geocode/json?address=London&sensor=false\n",
      ".Information from URL : http://maps.googleapis.com/maps/api/geocode/json?address=Decatur%20GA&sensor=false\n",
      "Information from URL : http://maps.googleapis.com/maps/api/geocode/json?address=Hogwarts/Proud%20Gryffindor&sensor=false\n",
      "Warning message:\n",
      "“geocode failed with status ZERO_RESULTS, location = \"Hogwarts/Proud Gryffindor\"”.Information from URL : http://maps.googleapis.com/maps/api/geocode/json?address=Illinois,%20USA&sensor=false\n",
      "Information from URL : http://maps.googleapis.com/maps/api/geocode/json?address=The%20Cloud&sensor=false\n",
      ".Information from URL : http://maps.googleapis.com/maps/api/geocode/json?address=Seattle,%20WA&sensor=false\n",
      ".Information from URL : http://maps.googleapis.com/maps/api/geocode/json?address=Winnipeg,%20Manitoba,%20CANADA&sensor=false\n",
      "Warning message:\n",
      "“geocode failed with status OVER_QUERY_LIMIT, location = \"Winnipeg, Manitoba, CANADA\"”Information from URL : http://maps.googleapis.com/maps/api/geocode/json?address=Las%20Cruces,%20NM.%20USA&sensor=false\n",
      "Warning message:\n",
      "“geocode failed with status OVER_QUERY_LIMIT, location = \"Las Cruces, NM. USA\"”.Information from URL : http://maps.googleapis.com/maps/api/geocode/json?address=Washington,%20D.C.&sensor=false\n",
      ".Information from URL : http://maps.googleapis.com/maps/api/geocode/json?address=Shenzhen&sensor=false\n",
      "Information from URL : http://maps.googleapis.com/maps/api/geocode/json?address=New%20York,%20USA&sensor=false\n",
      "Warning message:\n",
      "“geocode failed with status OVER_QUERY_LIMIT, location = \"New York, USA\"”.Information from URL : http://maps.googleapis.com/maps/api/geocode/json?address=Researcher&sensor=false\n",
      "Information from URL : http://maps.googleapis.com/maps/api/geocode/json?address=Helsinki,%20Finland&sensor=false\n",
      ".Information from URL : http://maps.googleapis.com/maps/api/geocode/json?address=1610%20N%20Water%20St%20Milwaukee,%20WI&sensor=false\n",
      "Information from URL : http://maps.googleapis.com/maps/api/geocode/json?address=Long%20Island,%20New%20York&sensor=false\n",
      "Information from URL : http://maps.googleapis.com/maps/api/geocode/json?address=Los%20Scandolous&sensor=false\n",
      ".Information from URL : http://maps.googleapis.com/maps/api/geocode/json?address=CONSULTORIO%20MIRC%20VALLES%20SLP&sensor=false\n",
      "Warning message:\n",
      "“geocode failed with status ZERO_RESULTS, location = \"CONSULTORIO MIRC VALLES SLP\"”Information from URL : http://maps.googleapis.com/maps/api/geocode/json?address=Midtjylland,%20Danmark&sensor=false\n",
      "Information from URL : http://maps.googleapis.com/maps/api/geocode/json?address=Wellington,%20New%20Zealand&sensor=false\n",
      ".Information from URL : http://maps.googleapis.com/maps/api/geocode/json?address=USA&sensor=false\n",
      "Information from URL : http://maps.googleapis.com/maps/api/geocode/json?address=Swamp%20Bank&sensor=false\n",
      "Information from URL : http://maps.googleapis.com/maps/api/geocode/json?address=Palermo,%20ME%20&sensor=false\n"
     ]
    }
   ],
   "source": [
    "for(i in 1:nrow(loc))\n",
    "{\n",
    "  # Print(\"Working...\")\n",
    "  tryCatch(result <- geocode(loc$x[i], output = \"latlona\", source = \"google\"), error=function(e) print(\"Found a error here\"))\n",
    "  \n",
    "  loc$lon[i] <- as.numeric(result[1])\n",
    "  loc$lat[i] <- as.numeric(result[2])\n",
    "  #origAddress$geoAddress[i] <- as.character(result[3])\n",
    "}"
   ]
  },
  {
   "cell_type": "code",
   "execution_count": 72,
   "metadata": {
    "collapsed": true
   },
   "outputs": [],
   "source": [
    "# mantaining a copy of geocoded data as a csv file.\n",
    "write.csv(loc, \"geocoded.csv\", row.names=FALSE)"
   ]
  },
  {
   "cell_type": "code",
   "execution_count": 1,
   "metadata": {
    "collapsed": true
   },
   "outputs": [],
   "source": [
    "# loading from the previously saved file.\n",
    "loc_df = read.csv('/Users/pranavsankhe/new/geocoded.csv')"
   ]
  },
  {
   "cell_type": "code",
   "execution_count": 2,
   "metadata": {
    "scrolled": true
   },
   "outputs": [
    {
     "name": "stderr",
     "output_type": "stream",
     "text": [
      "\n",
      "Attaching package: ‘qdapRegex’\n",
      "\n",
      "The following object is masked from ‘package:ggplot2’:\n",
      "\n",
      "    %+%\n",
      "\n",
      "Information from URL : http://maps.googleapis.com/maps/api/geocode/json?latlng=35.9940329,-78.898619&sensor=false\n",
      "Information from URL : http://maps.googleapis.com/maps/api/geocode/json?latlng=33.6594835,-117.9988026&sensor=false\n",
      "Information from URL : http://maps.googleapis.com/maps/api/geocode/json?latlng=32.715738,-117.1610838&sensor=false\n",
      "Warning message in readLines(connect):\n",
      "“cannot open URL 'http://maps.googleapis.com/maps/api/geocode/json?latlng=NA,NA&sensor=false': HTTP status was '400 Bad Request'”"
     ]
    },
    {
     "name": "stdout",
     "output_type": "stream",
     "text": [
      "[1] \"Found a error here\"\n"
     ]
    },
    {
     "name": "stderr",
     "output_type": "stream",
     "text": [
      "Information from URL : http://maps.googleapis.com/maps/api/geocode/json?latlng=31.9685988,-99.9018131&sensor=false\n",
      "Information from URL : http://maps.googleapis.com/maps/api/geocode/json?latlng=10.8230989,106.6296638&sensor=false\n",
      "Information from URL : http://maps.googleapis.com/maps/api/geocode/json?latlng=37.09024,-95.712891&sensor=false\n",
      "Warning message in readLines(connect):\n",
      "“cannot open URL 'http://maps.googleapis.com/maps/api/geocode/json?latlng=NA,NA&sensor=false': HTTP status was '400 Bad Request'”"
     ]
    },
    {
     "name": "stdout",
     "output_type": "stream",
     "text": [
      "[1] \"Found a error here\"\n"
     ]
    },
    {
     "name": "stderr",
     "output_type": "stream",
     "text": [
      "Warning message in revgeocode(c(loc_df$lon[i], loc_df$lat[i])):\n",
      "“reverse geocode failed - bad location? location = \"-76.1474244\"reverse geocode failed - bad location? location = \"43.0481221\"”Warning message in readLines(connect):\n",
      "“cannot open URL 'http://maps.googleapis.com/maps/api/geocode/json?latlng=NA,NA&sensor=false': HTTP status was '400 Bad Request'”"
     ]
    },
    {
     "name": "stdout",
     "output_type": "stream",
     "text": [
      "[1] \"Found a error here\"\n"
     ]
    },
    {
     "name": "stderr",
     "output_type": "stream",
     "text": [
      ".Information from URL : http://maps.googleapis.com/maps/api/geocode/json?latlng=39.9525839,-75.1652215&sensor=false\n",
      ".Information from URL : http://maps.googleapis.com/maps/api/geocode/json?latlng=27.6648274,-81.5157535&sensor=false\n",
      ".Information from URL : http://maps.googleapis.com/maps/api/geocode/json?latlng=44.7630567,-85.6206317&sensor=false\n",
      ".Warning message in revgeocode(c(loc_df$lon[i], loc_df$lat[i])):\n",
      "“reverse geocode failed - bad location? location = \"-101.2922906\"reverse geocode failed - bad location? location = \"48.2329668\"”.Warning message in readLines(connect):\n",
      "“cannot open URL 'http://maps.googleapis.com/maps/api/geocode/json?latlng=NA,NA&sensor=false': HTTP status was '400 Bad Request'”"
     ]
    },
    {
     "name": "stdout",
     "output_type": "stream",
     "text": [
      "[1] \"Found a error here\"\n"
     ]
    },
    {
     "name": "stderr",
     "output_type": "stream",
     "text": [
      ".Information from URL : http://maps.googleapis.com/maps/api/geocode/json?latlng=31.9685988,-99.9018131&sensor=false\n",
      ".Information from URL : http://maps.googleapis.com/maps/api/geocode/json?latlng=29.5919136,-82.0873181&sensor=false\n",
      ".Warning message in revgeocode(c(loc_df$lon[i], loc_df$lat[i])):\n",
      "“reverse geocode failed - bad location? location = \"-80.3582261\"reverse geocode failed - bad location? location = \"27.2730492\"”Warning message in revgeocode(c(loc_df$lon[i], loc_df$lat[i])):\n",
      "“reverse geocode failed - bad location? location = \"-87.6297982\"reverse geocode failed - bad location? location = \"41.8781136\"”Information from URL : http://maps.googleapis.com/maps/api/geocode/json?latlng=40.7127753,-74.0059728&sensor=false\n",
      ".Information from URL : http://maps.googleapis.com/maps/api/geocode/json?latlng=39.5296329,-119.8138027&sensor=false\n",
      ".Information from URL : http://maps.googleapis.com/maps/api/geocode/json?latlng=39.0169509,-94.2816148&sensor=false\n",
      ".Warning message in readLines(connect):\n",
      "“cannot open URL 'http://maps.googleapis.com/maps/api/geocode/json?latlng=NA,NA&sensor=false': HTTP status was '400 Bad Request'”"
     ]
    },
    {
     "name": "stdout",
     "output_type": "stream",
     "text": [
      "[1] \"Found a error here\"\n"
     ]
    },
    {
     "name": "stderr",
     "output_type": "stream",
     "text": [
      ".Warning message in revgeocode(c(loc_df$lon[i], loc_df$lat[i])):\n",
      "“reverse geocode failed - bad location? location = \"-85.7584557\"reverse geocode failed - bad location? location = \"38.2526647\"”.Information from URL : http://maps.googleapis.com/maps/api/geocode/json?latlng=37.7749295,-122.4194155&sensor=false\n",
      ".Information from URL : http://maps.googleapis.com/maps/api/geocode/json?latlng=53.544389,-113.4909267&sensor=false\n",
      ".Information from URL : http://maps.googleapis.com/maps/api/geocode/json?latlng=37.09024,-95.712891&sensor=false\n",
      ".Warning message in readLines(connect):\n",
      "“cannot open URL 'http://maps.googleapis.com/maps/api/geocode/json?latlng=NA,NA&sensor=false': HTTP status was '400 Bad Request'”"
     ]
    },
    {
     "name": "stdout",
     "output_type": "stream",
     "text": [
      "[1] \"Found a error here\"\n"
     ]
    },
    {
     "name": "stderr",
     "output_type": "stream",
     "text": [
      "Information from URL : http://maps.googleapis.com/maps/api/geocode/json?latlng=51.5073509,-0.1277583&sensor=false\n",
      "Warning message in readLines(connect):\n",
      "“cannot open URL 'http://maps.googleapis.com/maps/api/geocode/json?latlng=NA,NA&sensor=false': HTTP status was '400 Bad Request'”"
     ]
    },
    {
     "name": "stdout",
     "output_type": "stream",
     "text": [
      "[1] \"Found a error here\"\n"
     ]
    },
    {
     "name": "stderr",
     "output_type": "stream",
     "text": [
      ".Information from URL : http://maps.googleapis.com/maps/api/geocode/json?latlng=-36.6806101,149.6564494&sensor=false\n",
      ".Information from URL : http://maps.googleapis.com/maps/api/geocode/json?latlng=31.9685988,-99.9018131&sensor=false\n",
      ".Information from URL : http://maps.googleapis.com/maps/api/geocode/json?latlng=19.4326077,-99.133208&sensor=false\n",
      ".Warning message in readLines(connect):\n",
      "“cannot open URL 'http://maps.googleapis.com/maps/api/geocode/json?latlng=NA,NA&sensor=false': HTTP status was '400 Bad Request'”"
     ]
    },
    {
     "name": "stdout",
     "output_type": "stream",
     "text": [
      "[1] \"Found a error here\"\n"
     ]
    },
    {
     "name": "stderr",
     "output_type": "stream",
     "text": [
      ".Information from URL : http://maps.googleapis.com/maps/api/geocode/json?latlng=37.09024,-95.712891&sensor=false\n",
      ".Information from URL : http://maps.googleapis.com/maps/api/geocode/json?latlng=1.352083,103.819836&sensor=false\n",
      ".Information from URL : http://maps.googleapis.com/maps/api/geocode/json?latlng=51.5073509,-0.1277583&sensor=false\n",
      ".Warning message in readLines(connect):\n",
      "“cannot open URL 'http://maps.googleapis.com/maps/api/geocode/json?latlng=NA,NA&sensor=false': HTTP status was '400 Bad Request'”"
     ]
    },
    {
     "name": "stdout",
     "output_type": "stream",
     "text": [
      "[1] \"Found a error here\"\n"
     ]
    },
    {
     "name": "stderr",
     "output_type": "stream",
     "text": [
      "Information from URL : http://maps.googleapis.com/maps/api/geocode/json?latlng=44.9537029,-93.0899578&sensor=false\n",
      "Warning message in readLines(connect):\n",
      "“cannot open URL 'http://maps.googleapis.com/maps/api/geocode/json?latlng=NA,NA&sensor=false': HTTP status was '400 Bad Request'”"
     ]
    },
    {
     "name": "stdout",
     "output_type": "stream",
     "text": [
      "[1] \"Found a error here\"\n"
     ]
    },
    {
     "name": "stderr",
     "output_type": "stream",
     "text": [
      ".Information from URL : http://maps.googleapis.com/maps/api/geocode/json?latlng=41.1399814,-104.8202462&sensor=false\n",
      ".Information from URL : http://maps.googleapis.com/maps/api/geocode/json?latlng=29.7604267,-95.3698028&sensor=false\n",
      ".Warning message in revgeocode(c(loc_df$lon[i], loc_df$lat[i])):\n",
      "“reverse geocode failed - bad location? location = \"-94.6707917\"reverse geocode failed - bad location? location = \"38.9822282\"”.Information from URL : http://maps.googleapis.com/maps/api/geocode/json?latlng=43.8655329,-79.3106862&sensor=false\n",
      ".Warning message in readLines(connect):\n",
      "“cannot open URL 'http://maps.googleapis.com/maps/api/geocode/json?latlng=NA,NA&sensor=false': HTTP status was '400 Bad Request'”"
     ]
    },
    {
     "name": "stdout",
     "output_type": "stream",
     "text": [
      "[1] \"Found a error here\"\n"
     ]
    },
    {
     "name": "stderr",
     "output_type": "stream",
     "text": [
      ".Information from URL : http://maps.googleapis.com/maps/api/geocode/json?latlng=37.09024,-95.712891&sensor=false\n",
      ".Warning message in readLines(connect):\n",
      "“cannot open URL 'http://maps.googleapis.com/maps/api/geocode/json?latlng=NA,NA&sensor=false': HTTP status was '400 Bad Request'”"
     ]
    },
    {
     "name": "stdout",
     "output_type": "stream",
     "text": [
      "[1] \"Found a error here\"\n"
     ]
    },
    {
     "name": "stderr",
     "output_type": "stream",
     "text": [
      ".Warning message in readLines(connect):\n",
      "“cannot open URL 'http://maps.googleapis.com/maps/api/geocode/json?latlng=NA,NA&sensor=false': HTTP status was '400 Bad Request'”"
     ]
    },
    {
     "name": "stdout",
     "output_type": "stream",
     "text": [
      "[1] \"Found a error here\"\n"
     ]
    },
    {
     "name": "stderr",
     "output_type": "stream",
     "text": [
      "Warning message in readLines(connect):\n",
      "“cannot open URL 'http://maps.googleapis.com/maps/api/geocode/json?latlng=NA,NA&sensor=false': HTTP status was '400 Bad Request'”"
     ]
    },
    {
     "name": "stdout",
     "output_type": "stream",
     "text": [
      "[1] \"Found a error here\"\n"
     ]
    },
    {
     "name": "stderr",
     "output_type": "stream",
     "text": [
      "Warning message in readLines(connect):\n",
      "“cannot open URL 'http://maps.googleapis.com/maps/api/geocode/json?latlng=NA,NA&sensor=false': HTTP status was '400 Bad Request'”"
     ]
    },
    {
     "name": "stdout",
     "output_type": "stream",
     "text": [
      "[1] \"Found a error here\"\n"
     ]
    },
    {
     "name": "stderr",
     "output_type": "stream",
     "text": [
      ".Warning message in readLines(connect):\n",
      "“cannot open URL 'http://maps.googleapis.com/maps/api/geocode/json?latlng=NA,NA&sensor=false': HTTP status was '400 Bad Request'”"
     ]
    },
    {
     "name": "stdout",
     "output_type": "stream",
     "text": [
      "[1] \"Found a error here\"\n"
     ]
    },
    {
     "name": "stderr",
     "output_type": "stream",
     "text": [
      ".Information from URL : http://maps.googleapis.com/maps/api/geocode/json?latlng=42.1292241,-80.085059&sensor=false\n",
      ".Information from URL : http://maps.googleapis.com/maps/api/geocode/json?latlng=40.7453369,-73.9992966&sensor=false\n",
      "Information from URL : http://maps.googleapis.com/maps/api/geocode/json?latlng=34.0616357,-118.2013213&sensor=false\n",
      ".Information from URL : http://maps.googleapis.com/maps/api/geocode/json?latlng=43.9695148,-99.9018131&sensor=false\n",
      ".Information from URL : http://maps.googleapis.com/maps/api/geocode/json?latlng=40.4406248,-79.9958864&sensor=false\n",
      ".Warning message in readLines(connect):\n",
      "“cannot open URL 'http://maps.googleapis.com/maps/api/geocode/json?latlng=NA,NA&sensor=false': HTTP status was '400 Bad Request'”"
     ]
    },
    {
     "name": "stdout",
     "output_type": "stream",
     "text": [
      "[1] \"Found a error here\"\n"
     ]
    },
    {
     "name": "stderr",
     "output_type": "stream",
     "text": [
      ".Warning message in readLines(connect):\n",
      "“cannot open URL 'http://maps.googleapis.com/maps/api/geocode/json?latlng=NA,NA&sensor=false': HTTP status was '400 Bad Request'”"
     ]
    },
    {
     "name": "stdout",
     "output_type": "stream",
     "text": [
      "[1] \"Found a error here\"\n"
     ]
    },
    {
     "name": "stderr",
     "output_type": "stream",
     "text": [
      "Information from URL : http://maps.googleapis.com/maps/api/geocode/json?latlng=34.728002,-99.8412125&sensor=false\n",
      "Warning message in readLines(connect):\n",
      "“cannot open URL 'http://maps.googleapis.com/maps/api/geocode/json?latlng=NA,NA&sensor=false': HTTP status was '400 Bad Request'”"
     ]
    },
    {
     "name": "stdout",
     "output_type": "stream",
     "text": [
      "[1] \"Found a error here\"\n"
     ]
    },
    {
     "name": "stderr",
     "output_type": "stream",
     "text": [
      ".Information from URL : http://maps.googleapis.com/maps/api/geocode/json?latlng=37.09024,-95.712891&sensor=false\n",
      ".Information from URL : http://maps.googleapis.com/maps/api/geocode/json?latlng=37.09024,-95.712891&sensor=false\n",
      ".Information from URL : http://maps.googleapis.com/maps/api/geocode/json?latlng=44.9374831,-93.2009998&sensor=false\n",
      ".Information from URL : http://maps.googleapis.com/maps/api/geocode/json?latlng=38.5449065,-121.7405167&sensor=false\n",
      ".Information from URL : http://maps.googleapis.com/maps/api/geocode/json?latlng=51.5073509,-0.1277583&sensor=false\n",
      ".Information from URL : http://maps.googleapis.com/maps/api/geocode/json?latlng=42.2917069,-85.5872286&sensor=false\n",
      ".Information from URL : http://maps.googleapis.com/maps/api/geocode/json?latlng=43.6187102,-116.2146068&sensor=false\n",
      ".Information from URL : http://maps.googleapis.com/maps/api/geocode/json?latlng=43.5781541,-116.3946062&sensor=false\n",
      "Information from URL : http://maps.googleapis.com/maps/api/geocode/json?latlng=39.0457549,-76.6412712&sensor=false\n",
      "Information from URL : http://maps.googleapis.com/maps/api/geocode/json?latlng=40.0583238,-74.4056612&sensor=false\n",
      ".Information from URL : http://maps.googleapis.com/maps/api/geocode/json?latlng=37.2248982,-95.7099399&sensor=false\n",
      "Information from URL : http://maps.googleapis.com/maps/api/geocode/json?latlng=37.2248982,-95.7099399&sensor=false\n",
      ".Warning message in revgeocode(c(loc_df$lon[i], loc_df$lat[i])):\n",
      "“reverse geocode failed - bad location? location = \"-93.2009998\"reverse geocode failed - bad location? location = \"44.9374831\"”.Information from URL : http://maps.googleapis.com/maps/api/geocode/json?latlng=40.735657,-74.1723667&sensor=false\n",
      ".Information from URL : http://maps.googleapis.com/maps/api/geocode/json?latlng=-25.274398,133.775136&sensor=false\n",
      ".Information from URL : http://maps.googleapis.com/maps/api/geocode/json?latlng=33.4483771,-112.0740373&sensor=false\n",
      ".Information from URL : http://maps.googleapis.com/maps/api/geocode/json?latlng=38.9071923,-77.0368707&sensor=false\n",
      ".Warning message in revgeocode(c(loc_df$lon[i], loc_df$lat[i])):\n",
      "“reverse geocode failed - bad location? location = \"-79.0192997\"reverse geocode failed - bad location? location = \"35.7595731\"”.Information from URL : http://maps.googleapis.com/maps/api/geocode/json?latlng=32.9210902,10.4508956&sensor=false\n",
      "Information from URL : http://maps.googleapis.com/maps/api/geocode/json?latlng=18.220833,-66.590149&sensor=false\n",
      ".Information from URL : http://maps.googleapis.com/maps/api/geocode/json?latlng=37.9642529,-91.8318334&sensor=false\n",
      "Warning message in revgeocode(c(loc_df$lon[i], loc_df$lat[i])):\n",
      "“reverse geocode failed - bad location? location = \"-77.2013705\"reverse geocode failed - bad location? location = \"39.1434406\"”.Warning message in readLines(connect):\n",
      "“cannot open URL 'http://maps.googleapis.com/maps/api/geocode/json?latlng=NA,NA&sensor=false': HTTP status was '400 Bad Request'”"
     ]
    },
    {
     "name": "stdout",
     "output_type": "stream",
     "text": [
      "[1] \"Found a error here\"\n"
     ]
    },
    {
     "name": "stderr",
     "output_type": "stream",
     "text": [
      ".Information from URL : http://maps.googleapis.com/maps/api/geocode/json?latlng=37.09024,-95.712891&sensor=false\n",
      ".Information from URL : http://maps.googleapis.com/maps/api/geocode/json?latlng=40.0466571,-76.1783739&sensor=false\n",
      ".Warning message in revgeocode(c(loc_df$lon[i], loc_df$lat[i])):\n",
      "“reverse geocode failed - bad location? location = \"4.768323\"reverse geocode failed - bad location? location = \"51.5719149\"”.Warning message in revgeocode(c(loc_df$lon[i], loc_df$lat[i])):\n",
      "“reverse geocode failed - bad location? location = \"-0.1277583\"reverse geocode failed - bad location? location = \"51.5073509\"”.Warning message in readLines(connect):\n",
      "“cannot open URL 'http://maps.googleapis.com/maps/api/geocode/json?latlng=NA,NA&sensor=false': HTTP status was '400 Bad Request'”"
     ]
    },
    {
     "name": "stdout",
     "output_type": "stream",
     "text": [
      "[1] \"Found a error here\"\n"
     ]
    },
    {
     "name": "stderr",
     "output_type": "stream",
     "text": [
      ".Warning message in readLines(connect):\n",
      "“cannot open URL 'http://maps.googleapis.com/maps/api/geocode/json?latlng=NA,NA&sensor=false': HTTP status was '400 Bad Request'”"
     ]
    },
    {
     "name": "stdout",
     "output_type": "stream",
     "text": [
      "[1] \"Found a error here\"\n"
     ]
    },
    {
     "name": "stderr",
     "output_type": "stream",
     "text": [
      ".Information from URL : http://maps.googleapis.com/maps/api/geocode/json?latlng=43.3623436,-8.4115401&sensor=false\n",
      ".Warning message in revgeocode(c(loc_df$lon[i], loc_df$lat[i])):\n",
      "“reverse geocode failed - bad location? location = \"-95.712891\"reverse geocode failed - bad location? location = \"37.09024\"”Warning message in revgeocode(c(loc_df$lon[i], loc_df$lat[i])):\n",
      "“reverse geocode failed - bad location? location = \"-96.4003069\"reverse geocode failed - bad location? location = \"42.4999942\"”.Warning message in readLines(connect):\n",
      "“cannot open URL 'http://maps.googleapis.com/maps/api/geocode/json?latlng=NA,NA&sensor=false': HTTP status was '400 Bad Request'”"
     ]
    },
    {
     "name": "stdout",
     "output_type": "stream",
     "text": [
      "[1] \"Found a error here\"\n"
     ]
    },
    {
     "name": "stderr",
     "output_type": "stream",
     "text": [
      ".Warning message in readLines(connect):\n",
      "“cannot open URL 'http://maps.googleapis.com/maps/api/geocode/json?latlng=NA,NA&sensor=false': HTTP status was '400 Bad Request'”"
     ]
    },
    {
     "name": "stdout",
     "output_type": "stream",
     "text": [
      "[1] \"Found a error here\"\n"
     ]
    },
    {
     "name": "stderr",
     "output_type": "stream",
     "text": [
      ".Information from URL : http://maps.googleapis.com/maps/api/geocode/json?latlng=35.7795897,-78.6381787&sensor=false\n",
      ".Information from URL : http://maps.googleapis.com/maps/api/geocode/json?latlng=37.7749295,-122.4194155&sensor=false\n",
      "Information from URL : http://maps.googleapis.com/maps/api/geocode/json?latlng=36.204824,138.252924&sensor=false\n",
      ".Information from URL : http://maps.googleapis.com/maps/api/geocode/json?latlng=42.4072107,-71.3824374&sensor=false\n",
      ".Warning message in readLines(connect):\n",
      "“cannot open URL 'http://maps.googleapis.com/maps/api/geocode/json?latlng=NA,NA&sensor=false': HTTP status was '400 Bad Request'”"
     ]
    },
    {
     "name": "stdout",
     "output_type": "stream",
     "text": [
      "[1] \"Found a error here\"\n"
     ]
    },
    {
     "name": "stderr",
     "output_type": "stream",
     "text": [
      ".Information from URL : http://maps.googleapis.com/maps/api/geocode/json?latlng=48.382005,-123.53785&sensor=false\n",
      ".Information from URL : http://maps.googleapis.com/maps/api/geocode/json?latlng=38.9071923,-77.0368707&sensor=false\n",
      "Warning message in readLines(connect):\n",
      "“cannot open URL 'http://maps.googleapis.com/maps/api/geocode/json?latlng=NA,NA&sensor=false': HTTP status was '400 Bad Request'”"
     ]
    },
    {
     "name": "stdout",
     "output_type": "stream",
     "text": [
      "[1] \"Found a error here\"\n"
     ]
    },
    {
     "name": "stderr",
     "output_type": "stream",
     "text": [
      ".Warning message in revgeocode(c(loc_df$lon[i], loc_df$lat[i])):\n",
      "“reverse geocode failed - bad location? location = \"-77.0368707\"reverse geocode failed - bad location? location = \"38.9071923\"”.Information from URL : http://maps.googleapis.com/maps/api/geocode/json?latlng=37.8393332,-84.2700179&sensor=false\n",
      ".Information from URL : http://maps.googleapis.com/maps/api/geocode/json?latlng=46.5196535,6.6322734&sensor=false\n",
      ".Warning message in revgeocode(c(loc_df$lon[i], loc_df$lat[i])):\n",
      "“reverse geocode failed - bad location? location = \"4.870087\"reverse geocode failed - bad location? location = \"52.3114207\"”Warning message in readLines(connect):\n",
      "“cannot open URL 'http://maps.googleapis.com/maps/api/geocode/json?latlng=NA,NA&sensor=false': HTTP status was '400 Bad Request'”"
     ]
    },
    {
     "name": "stdout",
     "output_type": "stream",
     "text": [
      "[1] \"Found a error here\"\n"
     ]
    },
    {
     "name": "stderr",
     "output_type": "stream",
     "text": [
      ".Warning message in revgeocode(c(loc_df$lon[i], loc_df$lat[i])):\n",
      "“reverse geocode failed - bad location? location = \"-95.712891\"reverse geocode failed - bad location? location = \"37.09024\"”.Warning message in readLines(connect):\n",
      "“cannot open URL 'http://maps.googleapis.com/maps/api/geocode/json?latlng=NA,NA&sensor=false': HTTP status was '400 Bad Request'”"
     ]
    },
    {
     "name": "stdout",
     "output_type": "stream",
     "text": [
      "[1] \"Found a error here\"\n"
     ]
    },
    {
     "name": "stderr",
     "output_type": "stream",
     "text": [
      ".Information from URL : http://maps.googleapis.com/maps/api/geocode/json?latlng=39.5500507,-105.7820674&sensor=false\n",
      ".Information from URL : http://maps.googleapis.com/maps/api/geocode/json?latlng=37.8715926,-122.272747&sensor=false\n",
      "Information from URL : http://maps.googleapis.com/maps/api/geocode/json?latlng=-33.4488897,-70.6692655&sensor=false\n",
      "Information from URL : http://maps.googleapis.com/maps/api/geocode/json?latlng=29.7604267,-95.3698028&sensor=false\n",
      ".Warning message in readLines(connect):\n",
      "“cannot open URL 'http://maps.googleapis.com/maps/api/geocode/json?latlng=NA,NA&sensor=false': HTTP status was '400 Bad Request'”"
     ]
    },
    {
     "name": "stdout",
     "output_type": "stream",
     "text": [
      "[1] \"Found a error here\"\n"
     ]
    },
    {
     "name": "stderr",
     "output_type": "stream",
     "text": [
      ".Warning message in revgeocode(c(loc_df$lon[i], loc_df$lat[i])):\n",
      "“reverse geocode failed - bad location? location = \"-77.0368707\"reverse geocode failed - bad location? location = \"38.9071923\"”.Information from URL : http://maps.googleapis.com/maps/api/geocode/json?latlng=38.5779555,-122.9888319&sensor=false\n",
      "Information from URL : http://maps.googleapis.com/maps/api/geocode/json?latlng=38.9071923,-77.0368707&sensor=false\n",
      ".Information from URL : http://maps.googleapis.com/maps/api/geocode/json?latlng=33.7489954,-84.3879824&sensor=false\n",
      ".Information from URL : http://maps.googleapis.com/maps/api/geocode/json?latlng=37.09024,-95.712891&sensor=false\n",
      ".Warning message in readLines(connect):\n",
      "“cannot open URL 'http://maps.googleapis.com/maps/api/geocode/json?latlng=NA,NA&sensor=false': HTTP status was '400 Bad Request'”"
     ]
    },
    {
     "name": "stdout",
     "output_type": "stream",
     "text": [
      "[1] \"Found a error here\"\n"
     ]
    },
    {
     "name": "stderr",
     "output_type": "stream",
     "text": [
      ".Warning message in readLines(connect):\n",
      "“cannot open URL 'http://maps.googleapis.com/maps/api/geocode/json?latlng=NA,NA&sensor=false': HTTP status was '400 Bad Request'”"
     ]
    },
    {
     "name": "stdout",
     "output_type": "stream",
     "text": [
      "[1] \"Found a error here\"\n"
     ]
    },
    {
     "name": "stderr",
     "output_type": "stream",
     "text": [
      ".Information from URL : http://maps.googleapis.com/maps/api/geocode/json?latlng=39.4699075,-0.3762881&sensor=false\n",
      "Information from URL : http://maps.googleapis.com/maps/api/geocode/json?latlng=41.2523634,-95.9979883&sensor=false\n",
      ".Warning message in revgeocode(c(loc_df$lon[i], loc_df$lat[i])):\n",
      "“reverse geocode failed - bad location? location = \"-91.9623327\"reverse geocode failed - bad location? location = \"30.9842977\"”.Information from URL : http://maps.googleapis.com/maps/api/geocode/json?latlng=-25.274398,133.775136&sensor=false\n",
      ".Information from URL : http://maps.googleapis.com/maps/api/geocode/json?latlng=31.9685988,-99.9018131&sensor=false\n",
      "Information from URL : http://maps.googleapis.com/maps/api/geocode/json?latlng=36.8007413,-121.947311&sensor=false\n",
      ".Warning message in readLines(connect):\n",
      "“cannot open URL 'http://maps.googleapis.com/maps/api/geocode/json?latlng=NA,NA&sensor=false': HTTP status was '400 Bad Request'”"
     ]
    },
    {
     "name": "stdout",
     "output_type": "stream",
     "text": [
      "[1] \"Found a error here\"\n"
     ]
    },
    {
     "name": "stderr",
     "output_type": "stream",
     "text": [
      ".Warning message in revgeocode(c(loc_df$lon[i], loc_df$lat[i])):\n",
      "“reverse geocode failed - bad location? location = \"-87.6297982\"reverse geocode failed - bad location? location = \"41.8781136\"”.Warning message in revgeocode(c(loc_df$lon[i], loc_df$lat[i])):\n",
      "“reverse geocode failed - bad location? location = \"-81.3792365\"reverse geocode failed - bad location? location = \"28.5383355\"”.Information from URL : http://maps.googleapis.com/maps/api/geocode/json?latlng=37.8393332,-84.2700179&sensor=false\n",
      ".Warning message in readLines(connect):\n",
      "“cannot open URL 'http://maps.googleapis.com/maps/api/geocode/json?latlng=NA,NA&sensor=false': HTTP status was '400 Bad Request'”"
     ]
    },
    {
     "name": "stdout",
     "output_type": "stream",
     "text": [
      "[1] \"Found a error here\"\n"
     ]
    },
    {
     "name": "stderr",
     "output_type": "stream",
     "text": [
      ".Information from URL : http://maps.googleapis.com/maps/api/geocode/json?latlng=52.0907374,5.1214201&sensor=false\n",
      ".Warning message in readLines(connect):\n",
      "“cannot open URL 'http://maps.googleapis.com/maps/api/geocode/json?latlng=NA,NA&sensor=false': HTTP status was '400 Bad Request'”"
     ]
    },
    {
     "name": "stdout",
     "output_type": "stream",
     "text": [
      "[1] \"Found a error here\"\n"
     ]
    },
    {
     "name": "stderr",
     "output_type": "stream",
     "text": [
      ".Warning message in readLines(connect):\n",
      "“cannot open URL 'http://maps.googleapis.com/maps/api/geocode/json?latlng=NA,NA&sensor=false': HTTP status was '400 Bad Request'”"
     ]
    },
    {
     "name": "stdout",
     "output_type": "stream",
     "text": [
      "[1] \"Found a error here\"\n"
     ]
    },
    {
     "name": "stderr",
     "output_type": "stream",
     "text": [
      ".Information from URL : http://maps.googleapis.com/maps/api/geocode/json?latlng=28.1235459,-15.4362574&sensor=false\n",
      "Warning message in revgeocode(c(loc_df$lon[i], loc_df$lat[i])):\n",
      "“reverse geocode failed - bad location? location = \"-86.902298\"reverse geocode failed - bad location? location = \"32.3182314\"”Information from URL : http://maps.googleapis.com/maps/api/geocode/json?latlng=36.778261,-119.4179324&sensor=false\n",
      "Information from URL : http://maps.googleapis.com/maps/api/geocode/json?latlng=40.7127753,-74.0059728&sensor=false\n",
      ".Information from URL : http://maps.googleapis.com/maps/api/geocode/json?latlng=41.5933696,-87.3464271&sensor=false\n",
      ".Warning message in revgeocode(c(loc_df$lon[i], loc_df$lat[i])):\n",
      "“reverse geocode failed - bad location? location = \"0.290472\"reverse geocode failed - bad location? location = \"50.768035\"”.Warning message in revgeocode(c(loc_df$lon[i], loc_df$lat[i])):\n",
      "“reverse geocode failed - bad location? location = \"-84.3879824\"reverse geocode failed - bad location? location = \"33.7489954\"”.Information from URL : http://maps.googleapis.com/maps/api/geocode/json?latlng=33.7489954,-84.3879824&sensor=false\n",
      ".Information from URL : http://maps.googleapis.com/maps/api/geocode/json?latlng=40.5947441,-73.9813041&sensor=false\n",
      ".Warning message in revgeocode(c(loc_df$lon[i], loc_df$lat[i])):\n",
      "“reverse geocode failed - bad location? location = \"-80.8486846\"reverse geocode failed - bad location? location = \"35.4993031\"”.Information from URL : http://maps.googleapis.com/maps/api/geocode/json?latlng=44.3148443,-85.6023643&sensor=false\n",
      ".Warning message in readLines(connect):\n",
      "“cannot open URL 'http://maps.googleapis.com/maps/api/geocode/json?latlng=NA,NA&sensor=false': HTTP status was '400 Bad Request'”"
     ]
    },
    {
     "name": "stdout",
     "output_type": "stream",
     "text": [
      "[1] \"Found a error here\"\n"
     ]
    },
    {
     "name": "stderr",
     "output_type": "stream",
     "text": [
      "Information from URL : http://maps.googleapis.com/maps/api/geocode/json?latlng=39.011902,-98.4842465&sensor=false\n",
      "Warning message in revgeocode(c(loc_df$lon[i], loc_df$lat[i])):\n",
      "“reverse geocode failed - bad location? location = \"-118.2436849\"reverse geocode failed - bad location? location = \"34.0522342\"”.Information from URL : http://maps.googleapis.com/maps/api/geocode/json?latlng=28.5383355,-81.3792365&sensor=false\n",
      ".Information from URL : http://maps.googleapis.com/maps/api/geocode/json?latlng=34.6937378,135.5021651&sensor=false\n",
      ".Information from URL : http://maps.googleapis.com/maps/api/geocode/json?latlng=43.2630126,-2.9349852&sensor=false\n",
      ".Warning message in readLines(connect):\n",
      "“cannot open URL 'http://maps.googleapis.com/maps/api/geocode/json?latlng=NA,NA&sensor=false': HTTP status was '400 Bad Request'”"
     ]
    },
    {
     "name": "stdout",
     "output_type": "stream",
     "text": [
      "[1] \"Found a error here\"\n"
     ]
    },
    {
     "name": "stderr",
     "output_type": "stream",
     "text": [
      ".Information from URL : http://maps.googleapis.com/maps/api/geocode/json?latlng=34.483901,-114.3224548&sensor=false\n",
      ".Warning message in readLines(connect):\n",
      "“cannot open URL 'http://maps.googleapis.com/maps/api/geocode/json?latlng=NA,NA&sensor=false': HTTP status was '400 Bad Request'”"
     ]
    },
    {
     "name": "stdout",
     "output_type": "stream",
     "text": [
      "[1] \"Found a error here\"\n"
     ]
    },
    {
     "name": "stderr",
     "output_type": "stream",
     "text": [
      ".Warning message in revgeocode(c(loc_df$lon[i], loc_df$lat[i])):\n",
      "“reverse geocode failed - bad location? location = \"-77.4105409\"reverse geocode failed - bad location? location = \"39.4142688\"”.Warning message in readLines(connect):\n",
      "“cannot open URL 'http://maps.googleapis.com/maps/api/geocode/json?latlng=NA,NA&sensor=false': HTTP status was '400 Bad Request'”"
     ]
    },
    {
     "name": "stdout",
     "output_type": "stream",
     "text": [
      "[1] \"Found a error here\"\n"
     ]
    },
    {
     "name": "stderr",
     "output_type": "stream",
     "text": [
      "Information from URL : http://maps.googleapis.com/maps/api/geocode/json?latlng=52.0091941,4.3967708&sensor=false\n",
      "Information from URL : http://maps.googleapis.com/maps/api/geocode/json?latlng=38.9071923,-77.0368707&sensor=false\n",
      ".Information from URL : http://maps.googleapis.com/maps/api/geocode/json?latlng=38.9071923,-77.0368707&sensor=false\n",
      ".Information from URL : http://maps.googleapis.com/maps/api/geocode/json?latlng=44.9635738,-93.847189&sensor=false\n",
      ".Information from URL : http://maps.googleapis.com/maps/api/geocode/json?latlng=55.953252,-3.188267&sensor=false\n",
      ".Information from URL : http://maps.googleapis.com/maps/api/geocode/json?latlng=44.3148443,-85.6023643&sensor=false\n",
      ".Warning message in readLines(connect):\n",
      "“cannot open URL 'http://maps.googleapis.com/maps/api/geocode/json?latlng=NA,NA&sensor=false': HTTP status was '400 Bad Request'”"
     ]
    },
    {
     "name": "stdout",
     "output_type": "stream",
     "text": [
      "[1] \"Found a error here\"\n"
     ]
    },
    {
     "name": "stderr",
     "output_type": "stream",
     "text": [
      ".Information from URL : http://maps.googleapis.com/maps/api/geocode/json?latlng=35.189443,-114.0530065&sensor=false\n",
      ".Information from URL : http://maps.googleapis.com/maps/api/geocode/json?latlng=35.531097,139.70069&sensor=false\n",
      ".Information from URL : http://maps.googleapis.com/maps/api/geocode/json?latlng=43.7764258,-79.2317521&sensor=false\n",
      "Warning message in readLines(connect):\n",
      "“cannot open URL 'http://maps.googleapis.com/maps/api/geocode/json?latlng=NA,NA&sensor=false': HTTP status was '400 Bad Request'”"
     ]
    },
    {
     "name": "stdout",
     "output_type": "stream",
     "text": [
      "[1] \"Found a error here\"\n"
     ]
    },
    {
     "name": "stderr",
     "output_type": "stream",
     "text": [
      "Warning message in revgeocode(c(loc_df$lon[i], loc_df$lat[i])):\n",
      "“reverse geocode failed - bad location? location = \"-70.4442252\"reverse geocode failed - bad location? location = \"43.6795314\"”.Information from URL : http://maps.googleapis.com/maps/api/geocode/json?latlng=25.7616798,-80.1917902&sensor=false\n",
      ".Information from URL : http://maps.googleapis.com/maps/api/geocode/json?latlng=-37.8136276,144.9630576&sensor=false\n",
      ".Warning message in revgeocode(c(loc_df$lon[i], loc_df$lat[i])):\n",
      "“reverse geocode failed - bad location? location = \"-78.2566834\"reverse geocode failed - bad location? location = \"42.9011711\"”.Information from URL : http://maps.googleapis.com/maps/api/geocode/json?latlng=48.2081743,16.3738189&sensor=false\n",
      ".Information from URL : http://maps.googleapis.com/maps/api/geocode/json?latlng=34.9203946,-82.2962268&sensor=false\n",
      ".Information from URL : http://maps.googleapis.com/maps/api/geocode/json?latlng=43.2557206,-79.8711024&sensor=false\n",
      ".Information from URL : http://maps.googleapis.com/maps/api/geocode/json?latlng=52.3555177,-1.1743197&sensor=false\n",
      ".Information from URL : http://maps.googleapis.com/maps/api/geocode/json?latlng=27.425129,-82.53795&sensor=false\n",
      "Information from URL : http://maps.googleapis.com/maps/api/geocode/json?latlng=33.7489954,-84.3879824&sensor=false\n",
      "Information from URL : http://maps.googleapis.com/maps/api/geocode/json?latlng=40.4172871,-82.907123&sensor=false\n",
      ".Information from URL : http://maps.googleapis.com/maps/api/geocode/json?latlng=48.1351253,11.5819805&sensor=false\n",
      ".Information from URL : http://maps.googleapis.com/maps/api/geocode/json?latlng=32.3909071,-110.966488&sensor=false\n",
      ".Information from URL : http://maps.googleapis.com/maps/api/geocode/json?latlng=61.2180556,-149.9002778&sensor=false\n",
      "Information from URL : http://maps.googleapis.com/maps/api/geocode/json?latlng=48.118146,-123.4307413&sensor=false\n",
      ".Warning message in readLines(connect):\n",
      "“cannot open URL 'http://maps.googleapis.com/maps/api/geocode/json?latlng=NA,NA&sensor=false': HTTP status was '400 Bad Request'”"
     ]
    },
    {
     "name": "stdout",
     "output_type": "stream",
     "text": [
      "[1] \"Found a error here\"\n"
     ]
    },
    {
     "name": "stderr",
     "output_type": "stream",
     "text": [
      ".Warning message in readLines(connect):\n",
      "“cannot open URL 'http://maps.googleapis.com/maps/api/geocode/json?latlng=NA,NA&sensor=false': HTTP status was '400 Bad Request'”"
     ]
    },
    {
     "name": "stdout",
     "output_type": "stream",
     "text": [
      "[1] \"Found a error here\"\n"
     ]
    },
    {
     "name": "stderr",
     "output_type": "stream",
     "text": [
      ".Warning message in readLines(connect):\n",
      "“cannot open URL 'http://maps.googleapis.com/maps/api/geocode/json?latlng=NA,NA&sensor=false': HTTP status was '400 Bad Request'”"
     ]
    },
    {
     "name": "stdout",
     "output_type": "stream",
     "text": [
      "[1] \"Found a error here\"\n"
     ]
    },
    {
     "name": "stderr",
     "output_type": "stream",
     "text": [
      ".Warning message in readLines(connect):\n",
      "“cannot open URL 'http://maps.googleapis.com/maps/api/geocode/json?latlng=NA,NA&sensor=false': HTTP status was '400 Bad Request'”"
     ]
    },
    {
     "name": "stdout",
     "output_type": "stream",
     "text": [
      "[1] \"Found a error here\"\n"
     ]
    },
    {
     "name": "stderr",
     "output_type": "stream",
     "text": [
      ".Warning message in readLines(connect):\n",
      "“cannot open URL 'http://maps.googleapis.com/maps/api/geocode/json?latlng=NA,NA&sensor=false': HTTP status was '400 Bad Request'”"
     ]
    },
    {
     "name": "stdout",
     "output_type": "stream",
     "text": [
      "[1] \"Found a error here\"\n"
     ]
    },
    {
     "name": "stderr",
     "output_type": "stream",
     "text": [
      "Information from URL : http://maps.googleapis.com/maps/api/geocode/json?latlng=45.764043,4.835659&sensor=false\n",
      ".Information from URL : http://maps.googleapis.com/maps/api/geocode/json?latlng=31.9685988,-99.9018131&sensor=false\n",
      ".Information from URL : http://maps.googleapis.com/maps/api/geocode/json?latlng=37.09024,-95.712891&sensor=false\n",
      ".Warning message in readLines(connect):\n",
      "“cannot open URL 'http://maps.googleapis.com/maps/api/geocode/json?latlng=NA,NA&sensor=false': HTTP status was '400 Bad Request'”"
     ]
    },
    {
     "name": "stdout",
     "output_type": "stream",
     "text": [
      "[1] \"Found a error here\"\n"
     ]
    },
    {
     "name": "stderr",
     "output_type": "stream",
     "text": [
      ".Information from URL : http://maps.googleapis.com/maps/api/geocode/json?latlng=35.0077519,-97.092877&sensor=false\n",
      ".Information from URL : http://maps.googleapis.com/maps/api/geocode/json?latlng=38.5449065,-121.7405167&sensor=false\n",
      "Information from URL : http://maps.googleapis.com/maps/api/geocode/json?latlng=32.6245389,-115.4522623&sensor=false\n",
      ".Warning message in revgeocode(c(loc_df$lon[i], loc_df$lat[i])):\n",
      "“reverse geocode failed - bad location? location = \"-1.1743197\"reverse geocode failed - bad location? location = \"52.3555177\"”.Information from URL : http://maps.googleapis.com/maps/api/geocode/json?latlng=38.8026097,-116.419389&sensor=false\n",
      ".Information from URL : http://maps.googleapis.com/maps/api/geocode/json?latlng=40.7282239,-73.7948516&sensor=false\n",
      "Warning message in revgeocode(c(loc_df$lon[i], loc_df$lat[i])):\n",
      "“reverse geocode failed - bad location? location = \"-85.323214\"reverse geocode failed - bad location? location = \"51.253775\"”.Warning message in readLines(connect):\n",
      "“cannot open URL 'http://maps.googleapis.com/maps/api/geocode/json?latlng=NA,NA&sensor=false': HTTP status was '400 Bad Request'”"
     ]
    },
    {
     "name": "stdout",
     "output_type": "stream",
     "text": [
      "[1] \"Found a error here\"\n"
     ]
    },
    {
     "name": "stderr",
     "output_type": "stream",
     "text": [
      ".Information from URL : http://maps.googleapis.com/maps/api/geocode/json?latlng=33.4483771,-112.0740373&sensor=false\n",
      ".Warning message in revgeocode(c(loc_df$lon[i], loc_df$lat[i])):\n",
      "“reverse geocode failed - bad location? location = \"-79.0192997\"reverse geocode failed - bad location? location = \"35.7595731\"”.Information from URL : http://maps.googleapis.com/maps/api/geocode/json?latlng=45.4309308,-73.8682835&sensor=false\n",
      ".Information from URL : http://maps.googleapis.com/maps/api/geocode/json?latlng=52.9547832,-1.1581086&sensor=false\n",
      "Information from URL : http://maps.googleapis.com/maps/api/geocode/json?latlng=52.240477,-0.902656&sensor=false\n",
      ".Information from URL : http://maps.googleapis.com/maps/api/geocode/json?latlng=37.09024,-95.712891&sensor=false\n",
      ".Information from URL : http://maps.googleapis.com/maps/api/geocode/json?latlng=55.9589866,-3.4246644&sensor=false\n",
      ".Information from URL : http://maps.googleapis.com/maps/api/geocode/json?latlng=40.3519854,-94.8825243&sensor=false\n",
      "Information from URL : http://maps.googleapis.com/maps/api/geocode/json?latlng=32.1656221,-82.9000751&sensor=false\n",
      ".Warning message in readLines(connect):\n",
      "“cannot open URL 'http://maps.googleapis.com/maps/api/geocode/json?latlng=NA,NA&sensor=false': HTTP status was '400 Bad Request'”"
     ]
    },
    {
     "name": "stdout",
     "output_type": "stream",
     "text": [
      "[1] \"Found a error here\"\n"
     ]
    },
    {
     "name": "stderr",
     "output_type": "stream",
     "text": [
      ".Information from URL : http://maps.googleapis.com/maps/api/geocode/json?latlng=38.9071923,-77.0368707&sensor=false\n",
      ".Warning message in readLines(connect):\n",
      "“cannot open URL 'http://maps.googleapis.com/maps/api/geocode/json?latlng=NA,NA&sensor=false': HTTP status was '400 Bad Request'”"
     ]
    },
    {
     "name": "stdout",
     "output_type": "stream",
     "text": [
      "[1] \"Found a error here\"\n"
     ]
    },
    {
     "name": "stderr",
     "output_type": "stream",
     "text": [
      ".Information from URL : http://maps.googleapis.com/maps/api/geocode/json?latlng=59.3293235,18.0685808&sensor=false\n",
      ".Warning message in readLines(connect):\n",
      "“cannot open URL 'http://maps.googleapis.com/maps/api/geocode/json?latlng=NA,NA&sensor=false': HTTP status was '400 Bad Request'”"
     ]
    },
    {
     "name": "stdout",
     "output_type": "stream",
     "text": [
      "[1] \"Found a error here\"\n"
     ]
    },
    {
     "name": "stderr",
     "output_type": "stream",
     "text": [
      "Information from URL : http://maps.googleapis.com/maps/api/geocode/json?latlng=38.5815719,-121.4943996&sensor=false\n",
      ".Information from URL : http://maps.googleapis.com/maps/api/geocode/json?latlng=38.5815719,-121.4943996&sensor=false\n",
      ".Information from URL : http://maps.googleapis.com/maps/api/geocode/json?latlng=39.4699075,-0.3762881&sensor=false\n",
      ".Warning message in readLines(connect):\n",
      "“cannot open URL 'http://maps.googleapis.com/maps/api/geocode/json?latlng=NA,NA&sensor=false': HTTP status was '400 Bad Request'”"
     ]
    },
    {
     "name": "stdout",
     "output_type": "stream",
     "text": [
      "[1] \"Found a error here\"\n"
     ]
    },
    {
     "name": "stderr",
     "output_type": "stream",
     "text": [
      "Information from URL : http://maps.googleapis.com/maps/api/geocode/json?latlng=43.5320995,-80.2268613&sensor=false\n",
      ".Warning message in revgeocode(c(loc_df$lon[i], loc_df$lat[i])):\n",
      "“reverse geocode failed - bad location? location = \"46.8568513\"reverse geocode failed - bad location? location = \"24.7480292\"”.Warning message in revgeocode(c(loc_df$lon[i], loc_df$lat[i])):\n",
      "“reverse geocode failed - bad location? location = \"115.8604572\"reverse geocode failed - bad location? location = \"-31.9505269\"”.Warning message in revgeocode(c(loc_df$lon[i], loc_df$lat[i])):\n",
      "“reverse geocode failed - bad location? location = \"-122.3320708\"reverse geocode failed - bad location? location = \"47.6062095\"”.Information from URL : http://maps.googleapis.com/maps/api/geocode/json?latlng=50.82253,-0.137163&sensor=false\n",
      "Warning message in readLines(connect):\n",
      "“cannot open URL 'http://maps.googleapis.com/maps/api/geocode/json?latlng=NA,NA&sensor=false': HTTP status was '400 Bad Request'”"
     ]
    },
    {
     "name": "stdout",
     "output_type": "stream",
     "text": [
      "[1] \"Found a error here\"\n"
     ]
    },
    {
     "name": "stderr",
     "output_type": "stream",
     "text": [
      "Information from URL : http://maps.googleapis.com/maps/api/geocode/json?latlng=38.9071923,-77.0368707&sensor=false\n",
      ".Information from URL : http://maps.googleapis.com/maps/api/geocode/json?latlng=38.9071923,-77.0368707&sensor=false\n",
      ".Information from URL : http://maps.googleapis.com/maps/api/geocode/json?latlng=18.0178743,-76.8099041&sensor=false\n",
      ".Information from URL : http://maps.googleapis.com/maps/api/geocode/json?latlng=36.8832807,-76.2998208&sensor=false\n",
      "Warning message in revgeocode(c(loc_df$lon[i], loc_df$lat[i])):\n",
      "“reverse geocode failed - bad location? location = \"-76.2998208\"reverse geocode failed - bad location? location = \"36.8832807\"”.Information from URL : http://maps.googleapis.com/maps/api/geocode/json?latlng=42.3149367,-83.0363633&sensor=false\n",
      ".Warning message in revgeocode(c(loc_df$lon[i], loc_df$lat[i])):\n",
      "“reverse geocode failed - bad location? location = \"-81.6911559\"reverse geocode failed - bad location? location = \"27.8617347\"”.Warning message in readLines(connect):\n",
      "“cannot open URL 'http://maps.googleapis.com/maps/api/geocode/json?latlng=NA,NA&sensor=false': HTTP status was '400 Bad Request'”"
     ]
    },
    {
     "name": "stdout",
     "output_type": "stream",
     "text": [
      "[1] \"Found a error here\"\n"
     ]
    },
    {
     "name": "stderr",
     "output_type": "stream",
     "text": [
      ".Information from URL : http://maps.googleapis.com/maps/api/geocode/json?latlng=21.4691137,-78.6568942&sensor=false\n",
      ".Information from URL : http://maps.googleapis.com/maps/api/geocode/json?latlng=39.7645091,-86.1584923&sensor=false\n",
      "Information from URL : http://maps.googleapis.com/maps/api/geocode/json?latlng=50.8503463,4.3517211&sensor=false\n",
      ".Information from URL : http://maps.googleapis.com/maps/api/geocode/json?latlng=40.6259316,-75.3704579&sensor=false\n",
      ".Information from URL : http://maps.googleapis.com/maps/api/geocode/json?latlng=39.7392358,-104.990251&sensor=false\n",
      "Information from URL : http://maps.googleapis.com/maps/api/geocode/json?latlng=32.715738,-117.1610838&sensor=false\n",
      "Warning message in readLines(connect):\n",
      "“cannot open URL 'http://maps.googleapis.com/maps/api/geocode/json?latlng=NA,NA&sensor=false': HTTP status was '400 Bad Request'”"
     ]
    },
    {
     "name": "stdout",
     "output_type": "stream",
     "text": [
      "[1] \"Found a error here\"\n"
     ]
    },
    {
     "name": "stderr",
     "output_type": "stream",
     "text": [
      ".Warning message in readLines(connect):\n",
      "“cannot open URL 'http://maps.googleapis.com/maps/api/geocode/json?latlng=NA,NA&sensor=false': HTTP status was '400 Bad Request'”"
     ]
    },
    {
     "name": "stdout",
     "output_type": "stream",
     "text": [
      "[1] \"Found a error here\"\n"
     ]
    },
    {
     "name": "stderr",
     "output_type": "stream",
     "text": [
      ".Warning message in readLines(connect):\n",
      "“cannot open URL 'http://maps.googleapis.com/maps/api/geocode/json?latlng=NA,NA&sensor=false': HTTP status was '400 Bad Request'”"
     ]
    },
    {
     "name": "stdout",
     "output_type": "stream",
     "text": [
      "[1] \"Found a error here\"\n"
     ]
    },
    {
     "name": "stderr",
     "output_type": "stream",
     "text": [
      ".Information from URL : http://maps.googleapis.com/maps/api/geocode/json?latlng=41.87194,12.56738&sensor=false\n",
      ".Information from URL : http://maps.googleapis.com/maps/api/geocode/json?latlng=35.9131996,-79.0558445&sensor=false\n",
      ".Information from URL : http://maps.googleapis.com/maps/api/geocode/json?latlng=31.9685988,-99.9018131&sensor=false\n",
      ".Information from URL : http://maps.googleapis.com/maps/api/geocode/json?latlng=43.5890452,-79.6441198&sensor=false\n",
      ".Information from URL : http://maps.googleapis.com/maps/api/geocode/json?latlng=40.7127753,-74.0059728&sensor=false\n",
      ".Warning message in readLines(connect):\n",
      "“cannot open URL 'http://maps.googleapis.com/maps/api/geocode/json?latlng=NA,NA&sensor=false': HTTP status was '400 Bad Request'”"
     ]
    },
    {
     "name": "stdout",
     "output_type": "stream",
     "text": [
      "[1] \"Found a error here\"\n"
     ]
    },
    {
     "name": "stderr",
     "output_type": "stream",
     "text": [
      "Information from URL : http://maps.googleapis.com/maps/api/geocode/json?latlng=42.3600825,-71.0588801&sensor=false\n",
      "Warning message in readLines(connect):\n",
      "“cannot open URL 'http://maps.googleapis.com/maps/api/geocode/json?latlng=NA,NA&sensor=false': HTTP status was '400 Bad Request'”"
     ]
    },
    {
     "name": "stdout",
     "output_type": "stream",
     "text": [
      "[1] \"Found a error here\"\n"
     ]
    },
    {
     "name": "stderr",
     "output_type": "stream",
     "text": [
      ".Warning message in readLines(connect):\n",
      "“cannot open URL 'http://maps.googleapis.com/maps/api/geocode/json?latlng=NA,NA&sensor=false': HTTP status was '400 Bad Request'”"
     ]
    },
    {
     "name": "stdout",
     "output_type": "stream",
     "text": [
      "[1] \"Found a error here\"\n"
     ]
    },
    {
     "name": "stderr",
     "output_type": "stream",
     "text": [
      ".Warning message in readLines(connect):\n",
      "“cannot open URL 'http://maps.googleapis.com/maps/api/geocode/json?latlng=NA,NA&sensor=false': HTTP status was '400 Bad Request'”"
     ]
    },
    {
     "name": "stdout",
     "output_type": "stream",
     "text": [
      "[1] \"Found a error here\"\n"
     ]
    },
    {
     "name": "stderr",
     "output_type": "stream",
     "text": [
      ".Warning message in revgeocode(c(loc_df$lon[i], loc_df$lat[i])):\n",
      "“reverse geocode failed - bad location? location = \"-95.712891\"reverse geocode failed - bad location? location = \"37.09024\"”.Information from URL : http://maps.googleapis.com/maps/api/geocode/json?latlng=42.3600825,-71.0588801&sensor=false\n",
      ".Information from URL : http://maps.googleapis.com/maps/api/geocode/json?latlng=35.2322636,-81.1675409&sensor=false\n",
      ".Warning message in revgeocode(c(loc_df$lon[i], loc_df$lat[i])):\n",
      "“reverse geocode failed - bad location? location = \"18.4240553\"reverse geocode failed - bad location? location = \"-33.9248685\"”.Information from URL : http://maps.googleapis.com/maps/api/geocode/json?latlng=40.7127753,-74.0059728&sensor=false\n",
      ".Warning message in revgeocode(c(loc_df$lon[i], loc_df$lat[i])):\n",
      "“reverse geocode failed - bad location? location = \"-116.2146068\"reverse geocode failed - bad location? location = \"43.6187102\"”Information from URL : http://maps.googleapis.com/maps/api/geocode/json?latlng=45.4215296,-75.6971931&sensor=false\n",
      "Warning message in readLines(connect):\n",
      "“cannot open URL 'http://maps.googleapis.com/maps/api/geocode/json?latlng=NA,NA&sensor=false': HTTP status was '400 Bad Request'”"
     ]
    },
    {
     "name": "stdout",
     "output_type": "stream",
     "text": [
      "[1] \"Found a error here\"\n"
     ]
    },
    {
     "name": "stderr",
     "output_type": "stream",
     "text": [
      ".Warning message in revgeocode(c(loc_df$lon[i], loc_df$lat[i])):\n",
      "“reverse geocode failed - bad location? location = \"-77.4360481\"reverse geocode failed - bad location? location = \"37.5407246\"”.Information from URL : http://maps.googleapis.com/maps/api/geocode/json?latlng=33.556215,-84.264492&sensor=false\n",
      ".Information from URL : http://maps.googleapis.com/maps/api/geocode/json?latlng=47.2563569,-122.4457696&sensor=false\n",
      ".Information from URL : http://maps.googleapis.com/maps/api/geocode/json?latlng=42.4184296,-71.1061639&sensor=false\n",
      ".Information from URL : http://maps.googleapis.com/maps/api/geocode/json?latlng=39.5500507,-105.7820674&sensor=false\n",
      ".Information from URL : http://maps.googleapis.com/maps/api/geocode/json?latlng=44.977753,-93.2650108&sensor=false\n",
      ".Information from URL : http://maps.googleapis.com/maps/api/geocode/json?latlng=43.5448048,-80.2481666&sensor=false\n",
      ".Information from URL : http://maps.googleapis.com/maps/api/geocode/json?latlng=33.2148412,-97.1330683&sensor=false\n",
      "Information from URL : http://maps.googleapis.com/maps/api/geocode/json?latlng=23.885942,45.079162&sensor=false\n",
      "Information from URL : http://maps.googleapis.com/maps/api/geocode/json?latlng=41.1579438,-8.6291053&sensor=false\n",
      "Information from URL : http://maps.googleapis.com/maps/api/geocode/json?latlng=43.653226,-79.3831843&sensor=false\n",
      ".Information from URL : http://maps.googleapis.com/maps/api/geocode/json?latlng=43.653226,-79.3831843&sensor=false\n",
      ".Information from URL : http://maps.googleapis.com/maps/api/geocode/json?latlng=55.378051,-3.435973&sensor=false\n",
      ".Information from URL : http://maps.googleapis.com/maps/api/geocode/json?latlng=39.9611755,-82.9987942&sensor=false\n",
      ".Warning message in revgeocode(c(loc_df$lon[i], loc_df$lat[i])):\n",
      "“reverse geocode failed - bad location? location = \"-81.5157535\"reverse geocode failed - bad location? location = \"27.6648274\"”.Information from URL : http://maps.googleapis.com/maps/api/geocode/json?latlng=34.1469288,-118.1479208&sensor=false\n",
      ".Warning message in revgeocode(c(loc_df$lon[i], loc_df$lat[i])):\n",
      "“reverse geocode failed - bad location? location = \"12.3401709\"reverse geocode failed - bad location? location = \"62.2786475\"”.Warning message in revgeocode(c(loc_df$lon[i], loc_df$lat[i])):\n",
      "“reverse geocode failed - bad location? location = \"-95.920306\"reverse geocode failed - bad location? location = \"36.0691792\"”.Information from URL : http://maps.googleapis.com/maps/api/geocode/json?latlng=23.885942,45.079162&sensor=false\n",
      "Information from URL : http://maps.googleapis.com/maps/api/geocode/json?latlng=56.4906712,-4.2026458&sensor=false\n",
      "Warning message in readLines(connect):\n",
      "“cannot open URL 'http://maps.googleapis.com/maps/api/geocode/json?latlng=NA,NA&sensor=false': HTTP status was '400 Bad Request'”"
     ]
    },
    {
     "name": "stdout",
     "output_type": "stream",
     "text": [
      "[1] \"Found a error here\"\n"
     ]
    },
    {
     "name": "stderr",
     "output_type": "stream",
     "text": [
      ".Information from URL : http://maps.googleapis.com/maps/api/geocode/json?latlng=39.0066993,-77.4291298&sensor=false\n",
      ".Information from URL : http://maps.googleapis.com/maps/api/geocode/json?latlng=48.4284207,-123.3656444&sensor=false\n",
      ".Information from URL : http://maps.googleapis.com/maps/api/geocode/json?latlng=-8.783195,34.508523&sensor=false\n",
      ".Information from URL : http://maps.googleapis.com/maps/api/geocode/json?latlng=51.165691,10.451526&sensor=false\n",
      ".Warning message in revgeocode(c(loc_df$lon[i], loc_df$lat[i])):\n",
      "“reverse geocode failed - bad location? location = \"-0.117689\"reverse geocode failed - bad location? location = \"51.5565484\"”.Warning message in readLines(connect):\n",
      "“cannot open URL 'http://maps.googleapis.com/maps/api/geocode/json?latlng=NA,NA&sensor=false': HTTP status was '400 Bad Request'”"
     ]
    },
    {
     "name": "stdout",
     "output_type": "stream",
     "text": [
      "[1] \"Found a error here\"\n"
     ]
    },
    {
     "name": "stderr",
     "output_type": "stream",
     "text": [
      ".Information from URL : http://maps.googleapis.com/maps/api/geocode/json?latlng=57.595347,-4.428411&sensor=false\n",
      ".Information from URL : http://maps.googleapis.com/maps/api/geocode/json?latlng=41.9027835,12.4963655&sensor=false\n",
      "Information from URL : http://maps.googleapis.com/maps/api/geocode/json?latlng=54.3502798,-6.652792&sensor=false\n",
      "Information from URL : http://maps.googleapis.com/maps/api/geocode/json?latlng=38.7521235,-121.2880059&sensor=false\n",
      "Information from URL : http://maps.googleapis.com/maps/api/geocode/json?latlng=55.378051,-3.435973&sensor=false\n",
      ".Information from URL : http://maps.googleapis.com/maps/api/geocode/json?latlng=55.378051,-3.435973&sensor=false\n",
      ".Information from URL : http://maps.googleapis.com/maps/api/geocode/json?latlng=52.6541454,-7.2447879&sensor=false\n",
      ".Warning message in revgeocode(c(loc_df$lon[i], loc_df$lat[i])):\n",
      "“reverse geocode failed - bad location? location = \"-104.6188943\"reverse geocode failed - bad location? location = \"50.4452112\"”.Information from URL : http://maps.googleapis.com/maps/api/geocode/json?latlng=37.8271784,-122.2913078&sensor=false\n",
      ".Information from URL : http://maps.googleapis.com/maps/api/geocode/json?latlng=38.8816208,-77.0909809&sensor=false\n",
      ".Information from URL : http://maps.googleapis.com/maps/api/geocode/json?latlng=-33.9248685,18.4240553&sensor=false\n",
      ".Warning message in revgeocode(c(loc_df$lon[i], loc_df$lat[i])):\n",
      "“reverse geocode failed - bad location? location = \"-117.4260465\"reverse geocode failed - bad location? location = \"47.6587802\"”Information from URL : http://maps.googleapis.com/maps/api/geocode/json?latlng=52.3702157,4.8951679&sensor=false\n",
      "Information from URL : http://maps.googleapis.com/maps/api/geocode/json?latlng=39.074208,21.824312&sensor=false\n",
      "Warning message in revgeocode(c(loc_df$lon[i], loc_df$lat[i])):\n",
      "“reverse geocode failed - bad location? location = \"-71.0588801\"reverse geocode failed - bad location? location = \"42.3600825\"”.Warning message in revgeocode(c(loc_df$lon[i], loc_df$lat[i])):\n",
      "“reverse geocode failed - bad location? location = \"-77.0718248\"reverse geocode failed - bad location? location = \"38.9284816\"”.Warning message in revgeocode(c(loc_df$lon[i], loc_df$lat[i])):\n",
      "“reverse geocode failed - bad location? location = \"39.1507348\"reverse geocode failed - bad location? location = \"21.6703758\"”.Warning message in readLines(connect):\n",
      "“cannot open URL 'http://maps.googleapis.com/maps/api/geocode/json?latlng=NA,NA&sensor=false': HTTP status was '400 Bad Request'”"
     ]
    },
    {
     "name": "stdout",
     "output_type": "stream",
     "text": [
      "[1] \"Found a error here\"\n"
     ]
    },
    {
     "name": "stderr",
     "output_type": "stream",
     "text": [
      ".Warning message in readLines(connect):\n",
      "“cannot open URL 'http://maps.googleapis.com/maps/api/geocode/json?latlng=NA,NA&sensor=false': HTTP status was '400 Bad Request'”"
     ]
    },
    {
     "name": "stdout",
     "output_type": "stream",
     "text": [
      "[1] \"Found a error here\"\n"
     ]
    },
    {
     "name": "stderr",
     "output_type": "stream",
     "text": [
      ".Information from URL : http://maps.googleapis.com/maps/api/geocode/json?latlng=40.0583238,-74.4056612&sensor=false\n",
      ".Information from URL : http://maps.googleapis.com/maps/api/geocode/json?latlng=38.9071923,-77.0368707&sensor=false\n",
      ".Information from URL : http://maps.googleapis.com/maps/api/geocode/json?latlng=41.7055716,-86.2353388&sensor=false\n",
      ".Information from URL : http://maps.googleapis.com/maps/api/geocode/json?latlng=-34.6036844,-58.3815591&sensor=false\n",
      "Warning message in revgeocode(c(loc_df$lon[i], loc_df$lat[i])):\n",
      "“reverse geocode failed - bad location? location = \"-77.0368707\"reverse geocode failed - bad location? location = \"38.9071923\"”Warning message in readLines(connect):\n",
      "“cannot open URL 'http://maps.googleapis.com/maps/api/geocode/json?latlng=NA,NA&sensor=false': HTTP status was '400 Bad Request'”"
     ]
    },
    {
     "name": "stdout",
     "output_type": "stream",
     "text": [
      "[1] \"Found a error here\"\n"
     ]
    },
    {
     "name": "stderr",
     "output_type": "stream",
     "text": [
      ".Warning message in readLines(connect):\n",
      "“cannot open URL 'http://maps.googleapis.com/maps/api/geocode/json?latlng=NA,NA&sensor=false': HTTP status was '400 Bad Request'”"
     ]
    },
    {
     "name": "stdout",
     "output_type": "stream",
     "text": [
      "[1] \"Found a error here\"\n"
     ]
    },
    {
     "name": "stderr",
     "output_type": "stream",
     "text": [
      ".Warning message in revgeocode(c(loc_df$lon[i], loc_df$lat[i])):\n",
      "“reverse geocode failed - bad location? location = \"21.4279956\"reverse geocode failed - bad location? location = \"41.9973462\"”.Warning message in revgeocode(c(loc_df$lon[i], loc_df$lat[i])):\n",
      "“reverse geocode failed - bad location? location = \"9.9936819\"reverse geocode failed - bad location? location = \"53.5510846\"”.Information from URL : http://maps.googleapis.com/maps/api/geocode/json?latlng=34.2068182,-118.2000277&sensor=false\n",
      ".Warning message in revgeocode(c(loc_df$lon[i], loc_df$lat[i])):\n",
      "“reverse geocode failed - bad location? location = \"-121.9780153\"reverse geocode failed - bad location? location = \"37.7799273\"”.Warning message in readLines(connect):\n",
      "“cannot open URL 'http://maps.googleapis.com/maps/api/geocode/json?latlng=NA,NA&sensor=false': HTTP status was '400 Bad Request'”"
     ]
    },
    {
     "name": "stdout",
     "output_type": "stream",
     "text": [
      "[1] \"Found a error here\"\n"
     ]
    },
    {
     "name": "stderr",
     "output_type": "stream",
     "text": [
      ".Information from URL : http://maps.googleapis.com/maps/api/geocode/json?latlng=34.0522342,-118.2436849&sensor=false\n",
      ".Information from URL : http://maps.googleapis.com/maps/api/geocode/json?latlng=40.7127753,-74.0059728&sensor=false\n",
      "Information from URL : http://maps.googleapis.com/maps/api/geocode/json?latlng=52.2693195,-113.81064&sensor=false\n",
      "Information from URL : http://maps.googleapis.com/maps/api/geocode/json?latlng=43.524189,-80.2269902&sensor=false\n",
      ".Warning message in revgeocode(c(loc_df$lon[i], loc_df$lat[i])):\n",
      "“reverse geocode failed - bad location? location = \"-75.4142592\"reverse geocode failed - bad location? location = \"40.6314858\"”.Warning message in readLines(connect):\n",
      "“cannot open URL 'http://maps.googleapis.com/maps/api/geocode/json?latlng=NA,NA&sensor=false': HTTP status was '400 Bad Request'”"
     ]
    },
    {
     "name": "stdout",
     "output_type": "stream",
     "text": [
      "[1] \"Found a error here\"\n"
     ]
    },
    {
     "name": "stderr",
     "output_type": "stream",
     "text": [
      ".Information from URL : http://maps.googleapis.com/maps/api/geocode/json?latlng=23.022505,72.5713621&sensor=false\n",
      ".Information from URL : http://maps.googleapis.com/maps/api/geocode/json?latlng=42.5588467,-71.8740408&sensor=false\n",
      ".Information from URL : http://maps.googleapis.com/maps/api/geocode/json?latlng=60.128161,18.643501&sensor=false\n",
      ".Information from URL : http://maps.googleapis.com/maps/api/geocode/json?latlng=52.205337,0.121817&sensor=false\n",
      ".Warning message in readLines(connect):\n",
      "“cannot open URL 'http://maps.googleapis.com/maps/api/geocode/json?latlng=NA,NA&sensor=false': HTTP status was '400 Bad Request'”"
     ]
    },
    {
     "name": "stdout",
     "output_type": "stream",
     "text": [
      "[1] \"Found a error here\"\n"
     ]
    },
    {
     "name": "stderr",
     "output_type": "stream",
     "text": [
      ".Warning message in readLines(connect):\n",
      "“cannot open URL 'http://maps.googleapis.com/maps/api/geocode/json?latlng=NA,NA&sensor=false': HTTP status was '400 Bad Request'”"
     ]
    },
    {
     "name": "stdout",
     "output_type": "stream",
     "text": [
      "[1] \"Found a error here\"\n"
     ]
    },
    {
     "name": "stderr",
     "output_type": "stream",
     "text": [
      "Information from URL : http://maps.googleapis.com/maps/api/geocode/json?latlng=24.453884,54.3773438&sensor=false\n",
      "Information from URL : http://maps.googleapis.com/maps/api/geocode/json?latlng=43.653226,-79.3831843&sensor=false\n",
      ".Information from URL : http://maps.googleapis.com/maps/api/geocode/json?latlng=34.1975048,-119.1770516&sensor=false\n",
      ".Information from URL : http://maps.googleapis.com/maps/api/geocode/json?latlng=55.378051,-3.435973&sensor=false\n",
      ".Warning message in readLines(connect):\n",
      "“cannot open URL 'http://maps.googleapis.com/maps/api/geocode/json?latlng=NA,NA&sensor=false': HTTP status was '400 Bad Request'”"
     ]
    },
    {
     "name": "stdout",
     "output_type": "stream",
     "text": [
      "[1] \"Found a error here\"\n"
     ]
    },
    {
     "name": "stderr",
     "output_type": "stream",
     "text": [
      ".Warning message in revgeocode(c(loc_df$lon[i], loc_df$lat[i])):\n",
      "“reverse geocode failed - bad location? location = \"79.9438624\"reverse geocode failed - bad location? location = \"12.9667498\"”.Information from URL : http://maps.googleapis.com/maps/api/geocode/json?latlng=40.3019071,-109.9923906&sensor=false\n",
      "Information from URL : http://maps.googleapis.com/maps/api/geocode/json?latlng=42.3600825,-71.0588801&sensor=false\n",
      ".Information from URL : http://maps.googleapis.com/maps/api/geocode/json?latlng=38.8816208,-77.0909809&sensor=false\n",
      ".Information from URL : http://maps.googleapis.com/maps/api/geocode/json?latlng=51.5073509,-0.1277583&sensor=false\n",
      "Information from URL : http://maps.googleapis.com/maps/api/geocode/json?latlng=19.0759837,72.8776559&sensor=false\n",
      "Information from URL : http://maps.googleapis.com/maps/api/geocode/json?latlng=52.9547832,-1.1581086&sensor=false\n",
      ".Information from URL : http://maps.googleapis.com/maps/api/geocode/json?latlng=53.0003079,-0.40965&sensor=false\n",
      ".Information from URL : http://maps.googleapis.com/maps/api/geocode/json?latlng=37.8043637,-122.2711137&sensor=false\n",
      "Warning message in readLines(connect):\n",
      "“cannot open URL 'http://maps.googleapis.com/maps/api/geocode/json?latlng=NA,NA&sensor=false': HTTP status was '400 Bad Request'”"
     ]
    },
    {
     "name": "stdout",
     "output_type": "stream",
     "text": [
      "[1] \"Found a error here\"\n"
     ]
    },
    {
     "name": "stderr",
     "output_type": "stream",
     "text": [
      ".Information from URL : http://maps.googleapis.com/maps/api/geocode/json?latlng=-33.4488897,-70.6692655&sensor=false\n",
      ".Information from URL : http://maps.googleapis.com/maps/api/geocode/json?latlng=46.818188,8.227512&sensor=false\n",
      ".Information from URL : http://maps.googleapis.com/maps/api/geocode/json?latlng=45.4215296,-75.6971931&sensor=false\n",
      ".Information from URL : http://maps.googleapis.com/maps/api/geocode/json?latlng=40.4167754,-3.7037902&sensor=false\n",
      ".Information from URL : http://maps.googleapis.com/maps/api/geocode/json?latlng=34.0928092,-118.3286614&sensor=false\n",
      "Information from URL : http://maps.googleapis.com/maps/api/geocode/json?latlng=34.7398322,-88.9502156&sensor=false\n",
      "Warning message in readLines(connect):\n",
      "“cannot open URL 'http://maps.googleapis.com/maps/api/geocode/json?latlng=NA,NA&sensor=false': HTTP status was '400 Bad Request'”"
     ]
    },
    {
     "name": "stdout",
     "output_type": "stream",
     "text": [
      "[1] \"Found a error here\"\n"
     ]
    },
    {
     "name": "stderr",
     "output_type": "stream",
     "text": [
      ".Warning message in readLines(connect):\n",
      "“cannot open URL 'http://maps.googleapis.com/maps/api/geocode/json?latlng=NA,NA&sensor=false': HTTP status was '400 Bad Request'”"
     ]
    },
    {
     "name": "stdout",
     "output_type": "stream",
     "text": [
      "[1] \"Found a error here\"\n"
     ]
    },
    {
     "name": "stderr",
     "output_type": "stream",
     "text": [
      ".Warning message in readLines(connect):\n",
      "“cannot open URL 'http://maps.googleapis.com/maps/api/geocode/json?latlng=NA,NA&sensor=false': HTTP status was '400 Bad Request'”"
     ]
    },
    {
     "name": "stdout",
     "output_type": "stream",
     "text": [
      "[1] \"Found a error here\"\n"
     ]
    },
    {
     "name": "stderr",
     "output_type": "stream",
     "text": [
      ".Warning message in readLines(connect):\n",
      "“cannot open URL 'http://maps.googleapis.com/maps/api/geocode/json?latlng=NA,NA&sensor=false': HTTP status was '400 Bad Request'”"
     ]
    },
    {
     "name": "stdout",
     "output_type": "stream",
     "text": [
      "[1] \"Found a error here\"\n"
     ]
    },
    {
     "name": "stderr",
     "output_type": "stream",
     "text": [
      ".Information from URL : http://maps.googleapis.com/maps/api/geocode/json?latlng=37.09024,-95.712891&sensor=false\n",
      ".Warning message in readLines(connect):\n",
      "“cannot open URL 'http://maps.googleapis.com/maps/api/geocode/json?latlng=NA,NA&sensor=false': HTTP status was '400 Bad Request'”"
     ]
    },
    {
     "name": "stdout",
     "output_type": "stream",
     "text": [
      "[1] \"Found a error here\"\n"
     ]
    },
    {
     "name": "stderr",
     "output_type": "stream",
     "text": [
      ".Warning message in revgeocode(c(loc_df$lon[i], loc_df$lat[i])):\n",
      "“reverse geocode failed - bad location? location = \"-106.346771\"reverse geocode failed - bad location? location = \"56.130366\"”.Warning message in readLines(connect):\n",
      "“cannot open URL 'http://maps.googleapis.com/maps/api/geocode/json?latlng=NA,NA&sensor=false': HTTP status was '400 Bad Request'”"
     ]
    },
    {
     "name": "stdout",
     "output_type": "stream",
     "text": [
      "[1] \"Found a error here\"\n"
     ]
    },
    {
     "name": "stderr",
     "output_type": "stream",
     "text": [
      ".Warning message in revgeocode(c(loc_df$lon[i], loc_df$lat[i])):\n",
      "“reverse geocode failed - bad location? location = \"2.6370411\"reverse geocode failed - bad location? location = \"48.8499198\"”.Information from URL : http://maps.googleapis.com/maps/api/geocode/json?latlng=40.4167754,-3.7037902&sensor=false\n",
      "Information from URL : http://maps.googleapis.com/maps/api/geocode/json?latlng=44.760362,-0.419084&sensor=false\n",
      ".Warning message in readLines(connect):\n",
      "“cannot open URL 'http://maps.googleapis.com/maps/api/geocode/json?latlng=NA,NA&sensor=false': HTTP status was '400 Bad Request'”"
     ]
    },
    {
     "name": "stdout",
     "output_type": "stream",
     "text": [
      "[1] \"Found a error here\"\n"
     ]
    },
    {
     "name": "stderr",
     "output_type": "stream",
     "text": [
      ".Warning message in revgeocode(c(loc_df$lon[i], loc_df$lat[i])):\n",
      "“reverse geocode failed - bad location? location = \"-63.616672\"reverse geocode failed - bad location? location = \"-38.416097\"”.Information from URL : http://maps.googleapis.com/maps/api/geocode/json?latlng=34.0522342,-118.2436849&sensor=false\n",
      ".Warning message in readLines(connect):\n",
      "“cannot open URL 'http://maps.googleapis.com/maps/api/geocode/json?latlng=NA,NA&sensor=false': HTTP status was '400 Bad Request'”"
     ]
    },
    {
     "name": "stdout",
     "output_type": "stream",
     "text": [
      "[1] \"Found a error here\"\n"
     ]
    },
    {
     "name": "stderr",
     "output_type": "stream",
     "text": [
      ".Information from URL : http://maps.googleapis.com/maps/api/geocode/json?latlng=27.3364347,-82.5306527&sensor=false\n",
      ".Warning message in readLines(connect):\n",
      "“cannot open URL 'http://maps.googleapis.com/maps/api/geocode/json?latlng=NA,NA&sensor=false': HTTP status was '400 Bad Request'”"
     ]
    },
    {
     "name": "stdout",
     "output_type": "stream",
     "text": [
      "[1] \"Found a error here\"\n"
     ]
    },
    {
     "name": "stderr",
     "output_type": "stream",
     "text": [
      ".Information from URL : http://maps.googleapis.com/maps/api/geocode/json?latlng=41.8781136,-87.6297982&sensor=false\n",
      "Information from URL : http://maps.googleapis.com/maps/api/geocode/json?latlng=36.118537,-95.857444&sensor=false\n",
      "Warning message in revgeocode(c(loc_df$lon[i], loc_df$lat[i])):\n",
      "“reverse geocode failed - bad location? location = \"-74.307282\"reverse geocode failed - bad location? location = \"40.4128551\"”Information from URL : http://maps.googleapis.com/maps/api/geocode/json?latlng=18.5204303,73.8567437&sensor=false\n",
      "Information from URL : http://maps.googleapis.com/maps/api/geocode/json?latlng=53.9599651,-1.0872979&sensor=false\n",
      ".Information from URL : http://maps.googleapis.com/maps/api/geocode/json?latlng=33.7489954,-84.3879824&sensor=false\n",
      ".Information from URL : http://maps.googleapis.com/maps/api/geocode/json?latlng=40.7127753,-74.0059728&sensor=false\n",
      ".Warning message in revgeocode(c(loc_df$lon[i], loc_df$lat[i])):\n",
      "“reverse geocode failed - bad location? location = \"-119.4179324\"reverse geocode failed - bad location? location = \"36.778261\"”.Warning message in readLines(connect):\n",
      "“cannot open URL 'http://maps.googleapis.com/maps/api/geocode/json?latlng=NA,NA&sensor=false': HTTP status was '400 Bad Request'”"
     ]
    },
    {
     "name": "stdout",
     "output_type": "stream",
     "text": [
      "[1] \"Found a error here\"\n"
     ]
    },
    {
     "name": "stderr",
     "output_type": "stream",
     "text": [
      ".Warning message in readLines(connect):\n",
      "“cannot open URL 'http://maps.googleapis.com/maps/api/geocode/json?latlng=NA,NA&sensor=false': HTTP status was '400 Bad Request'”"
     ]
    },
    {
     "name": "stdout",
     "output_type": "stream",
     "text": [
      "[1] \"Found a error here\"\n"
     ]
    },
    {
     "name": "stderr",
     "output_type": "stream",
     "text": [
      ".Information from URL : http://maps.googleapis.com/maps/api/geocode/json?latlng=35.9131996,-79.0558445&sensor=false\n",
      "Information from URL : http://maps.googleapis.com/maps/api/geocode/json?latlng=43.0962143,-79.0377388&sensor=false\n",
      ".Information from URL : http://maps.googleapis.com/maps/api/geocode/json?latlng=53.9332706,-116.5765035&sensor=false\n",
      "Information from URL : http://maps.googleapis.com/maps/api/geocode/json?latlng=37.09024,-95.712891&sensor=false\n",
      "Information from URL : http://maps.googleapis.com/maps/api/geocode/json?latlng=47.6062095,-122.3320708&sensor=false\n",
      "Warning message in readLines(connect):\n",
      "“cannot open URL 'http://maps.googleapis.com/maps/api/geocode/json?latlng=NA,NA&sensor=false': HTTP status was '400 Bad Request'”"
     ]
    },
    {
     "name": "stdout",
     "output_type": "stream",
     "text": [
      "[1] \"Found a error here\"\n"
     ]
    },
    {
     "name": "stderr",
     "output_type": "stream",
     "text": [
      ".Information from URL : http://maps.googleapis.com/maps/api/geocode/json?latlng=38.9071923,-77.0368707&sensor=false\n",
      ".Warning message in revgeocode(c(loc_df$lon[i], loc_df$lat[i])):\n",
      "“reverse geocode failed - bad location? location = \"-4.2026458\"reverse geocode failed - bad location? location = \"56.4906712\"”.Information from URL : http://maps.googleapis.com/maps/api/geocode/json?latlng=34.1140497,-83.9811014&sensor=false\n",
      ".Information from URL : http://maps.googleapis.com/maps/api/geocode/json?latlng=34.1140497,-83.9811014&sensor=false\n",
      ".Warning message in readLines(connect):\n",
      "“cannot open URL 'http://maps.googleapis.com/maps/api/geocode/json?latlng=NA,NA&sensor=false': HTTP status was '400 Bad Request'”"
     ]
    },
    {
     "name": "stdout",
     "output_type": "stream",
     "text": [
      "[1] \"Found a error here\"\n"
     ]
    },
    {
     "name": "stderr",
     "output_type": "stream",
     "text": [
      "Information from URL : http://maps.googleapis.com/maps/api/geocode/json?latlng=34.2327151,-117.2942775&sensor=false\n",
      ".Information from URL : http://maps.googleapis.com/maps/api/geocode/json?latlng=33.4151843,-111.8314724&sensor=false\n",
      ".Warning message in readLines(connect):\n",
      "“cannot open URL 'http://maps.googleapis.com/maps/api/geocode/json?latlng=NA,NA&sensor=false': HTTP status was '400 Bad Request'”"
     ]
    },
    {
     "name": "stdout",
     "output_type": "stream",
     "text": [
      "[1] \"Found a error here\"\n"
     ]
    },
    {
     "name": "stderr",
     "output_type": "stream",
     "text": [
      ".Information from URL : http://maps.googleapis.com/maps/api/geocode/json?latlng=52.3555177,-1.1743197&sensor=false\n",
      "Warning message in revgeocode(c(loc_df$lon[i], loc_df$lat[i])):\n",
      "“reverse geocode failed - bad location? location = \"-118.7986152\"reverse geocode failed - bad location? location = \"55.1699396\"”.Information from URL : http://maps.googleapis.com/maps/api/geocode/json?latlng=53.9332706,-116.5765035&sensor=false\n",
      ".Information from URL : http://maps.googleapis.com/maps/api/geocode/json?latlng=44.9374831,-93.2009998&sensor=false\n",
      ".Warning message in readLines(connect):\n",
      "“cannot open URL 'http://maps.googleapis.com/maps/api/geocode/json?latlng=NA,NA&sensor=false': HTTP status was '400 Bad Request'”"
     ]
    },
    {
     "name": "stdout",
     "output_type": "stream",
     "text": [
      "[1] \"Found a error here\"\n"
     ]
    },
    {
     "name": "stderr",
     "output_type": "stream",
     "text": [
      ".Information from URL : http://maps.googleapis.com/maps/api/geocode/json?latlng=35.7595731,-79.0192997&sensor=false\n",
      ".Information from URL : http://maps.googleapis.com/maps/api/geocode/json?latlng=51.9244201,4.4777326&sensor=false\n",
      "Warning message in readLines(connect):\n",
      "“cannot open URL 'http://maps.googleapis.com/maps/api/geocode/json?latlng=NA,NA&sensor=false': HTTP status was '400 Bad Request'”"
     ]
    },
    {
     "name": "stdout",
     "output_type": "stream",
     "text": [
      "[1] \"Found a error here\"\n"
     ]
    },
    {
     "name": "stderr",
     "output_type": "stream",
     "text": [
      ".Information from URL : http://maps.googleapis.com/maps/api/geocode/json?latlng=43.653226,-79.3831843&sensor=false\n",
      ".Warning message in readLines(connect):\n",
      "“cannot open URL 'http://maps.googleapis.com/maps/api/geocode/json?latlng=NA,NA&sensor=false': HTTP status was '400 Bad Request'”"
     ]
    },
    {
     "name": "stdout",
     "output_type": "stream",
     "text": [
      "[1] \"Found a error here\"\n"
     ]
    },
    {
     "name": "stderr",
     "output_type": "stream",
     "text": [
      ".Information from URL : http://maps.googleapis.com/maps/api/geocode/json?latlng=42.9898263,-87.909007&sensor=false\n",
      "Warning message in readLines(connect):\n",
      "“cannot open URL 'http://maps.googleapis.com/maps/api/geocode/json?latlng=NA,NA&sensor=false': HTTP status was '400 Bad Request'”"
     ]
    },
    {
     "name": "stdout",
     "output_type": "stream",
     "text": [
      "[1] \"Found a error here\"\n"
     ]
    },
    {
     "name": "stderr",
     "output_type": "stream",
     "text": [
      ".Information from URL : http://maps.googleapis.com/maps/api/geocode/json?latlng=-30.559482,22.937506&sensor=false\n",
      ".Information from URL : http://maps.googleapis.com/maps/api/geocode/json?latlng=36.7282054,-76.5835621&sensor=false\n",
      ".Information from URL : http://maps.googleapis.com/maps/api/geocode/json?latlng=43.5448048,-80.2481666&sensor=false\n",
      ".Information from URL : http://maps.googleapis.com/maps/api/geocode/json?latlng=52.2429228,0.7104932&sensor=false\n",
      ".Information from URL : http://maps.googleapis.com/maps/api/geocode/json?latlng=35.9131996,-79.0558445&sensor=false\n",
      "Information from URL : http://maps.googleapis.com/maps/api/geocode/json?latlng=51.5073509,-0.1277583&sensor=false\n",
      ".Warning message in revgeocode(c(loc_df$lon[i], loc_df$lat[i])):\n",
      "“reverse geocode failed - bad location? location = \"-1.531531\"reverse geocode failed - bad location? location = \"51.507954\"”.Information from URL : http://maps.googleapis.com/maps/api/geocode/json?latlng=51.165691,10.451526&sensor=false\n",
      ".Information from URL : http://maps.googleapis.com/maps/api/geocode/json?latlng=39.7392358,-104.990251&sensor=false\n",
      "Information from URL : http://maps.googleapis.com/maps/api/geocode/json?latlng=42.5847425,-87.8211854&sensor=false\n",
      "Warning message in revgeocode(c(loc_df$lon[i], loc_df$lat[i])):\n",
      "“reverse geocode failed - bad location? location = \"-89.3985283\"reverse geocode failed - bad location? location = \"40.6331249\"”.Information from URL : http://maps.googleapis.com/maps/api/geocode/json?latlng=41.6032207,-73.087749&sensor=false\n",
      ".Warning message in readLines(connect):\n",
      "“cannot open URL 'http://maps.googleapis.com/maps/api/geocode/json?latlng=NA,NA&sensor=false': HTTP status was '400 Bad Request'”"
     ]
    },
    {
     "name": "stdout",
     "output_type": "stream",
     "text": [
      "[1] \"Found a error here\"\n"
     ]
    },
    {
     "name": "stderr",
     "output_type": "stream",
     "text": [
      ".Information from URL : http://maps.googleapis.com/maps/api/geocode/json?latlng=42.0039178,-87.9703461&sensor=false\n",
      ".Warning message in readLines(connect):\n",
      "“cannot open URL 'http://maps.googleapis.com/maps/api/geocode/json?latlng=NA,NA&sensor=false': HTTP status was '400 Bad Request'”"
     ]
    },
    {
     "name": "stdout",
     "output_type": "stream",
     "text": [
      "[1] \"Found a error here\"\n"
     ]
    },
    {
     "name": "stderr",
     "output_type": "stream",
     "text": [
      ".Information from URL : http://maps.googleapis.com/maps/api/geocode/json?latlng=43.5448048,-80.2481666&sensor=false\n",
      ".Warning message in revgeocode(c(loc_df$lon[i], loc_df$lat[i])):\n",
      "“reverse geocode failed - bad location? location = \"4.4970097\"reverse geocode failed - bad location? location = \"52.1601144\"”.Information from URL : http://maps.googleapis.com/maps/api/geocode/json?latlng=40.7127753,-74.0059728&sensor=false\n",
      ".Information from URL : http://maps.googleapis.com/maps/api/geocode/json?latlng=43.5448048,-80.2481666&sensor=false\n",
      "Warning message in readLines(connect):\n",
      "“cannot open URL 'http://maps.googleapis.com/maps/api/geocode/json?latlng=NA,NA&sensor=false': HTTP status was '400 Bad Request'”"
     ]
    },
    {
     "name": "stdout",
     "output_type": "stream",
     "text": [
      "[1] \"Found a error here\"\n"
     ]
    },
    {
     "name": "stderr",
     "output_type": "stream",
     "text": [
      "Information from URL : http://maps.googleapis.com/maps/api/geocode/json?latlng=33.6845673,-117.8265049&sensor=false\n",
      ".Warning message in readLines(connect):\n",
      "“cannot open URL 'http://maps.googleapis.com/maps/api/geocode/json?latlng=NA,NA&sensor=false': HTTP status was '400 Bad Request'”"
     ]
    },
    {
     "name": "stdout",
     "output_type": "stream",
     "text": [
      "[1] \"Found a error here\"\n"
     ]
    },
    {
     "name": "stderr",
     "output_type": "stream",
     "text": [
      ".Information from URL : http://maps.googleapis.com/maps/api/geocode/json?latlng=52.1872472,0.9707801&sensor=false\n",
      ".Information from URL : http://maps.googleapis.com/maps/api/geocode/json?latlng=45.6769979,-111.0429339&sensor=false\n",
      ".Warning message in readLines(connect):\n",
      "“cannot open URL 'http://maps.googleapis.com/maps/api/geocode/json?latlng=NA,NA&sensor=false': HTTP status was '400 Bad Request'”"
     ]
    },
    {
     "name": "stdout",
     "output_type": "stream",
     "text": [
      "[1] \"Found a error here\"\n"
     ]
    },
    {
     "name": "stderr",
     "output_type": "stream",
     "text": [
      ".Information from URL : http://maps.googleapis.com/maps/api/geocode/json?latlng=40.7756184,-77.7924992&sensor=false\n",
      ".Warning message in revgeocode(c(loc_df$lon[i], loc_df$lat[i])):\n",
      "“reverse geocode failed - bad location? location = \"-86.902298\"reverse geocode failed - bad location? location = \"32.3182314\"”.Warning message in readLines(connect):\n",
      "“cannot open URL 'http://maps.googleapis.com/maps/api/geocode/json?latlng=NA,NA&sensor=false': HTTP status was '400 Bad Request'”"
     ]
    },
    {
     "name": "stdout",
     "output_type": "stream",
     "text": [
      "[1] \"Found a error here\"\n"
     ]
    },
    {
     "name": "stderr",
     "output_type": "stream",
     "text": [
      ".Information from URL : http://maps.googleapis.com/maps/api/geocode/json?latlng=50.8503463,4.3517211&sensor=false\n",
      "Information from URL : http://maps.googleapis.com/maps/api/geocode/json?latlng=46.729553,-94.6858998&sensor=false\n",
      "Warning message in readLines(connect):\n",
      "“cannot open URL 'http://maps.googleapis.com/maps/api/geocode/json?latlng=NA,NA&sensor=false': HTTP status was '400 Bad Request'”"
     ]
    },
    {
     "name": "stdout",
     "output_type": "stream",
     "text": [
      "[1] \"Found a error here\"\n"
     ]
    },
    {
     "name": "stderr",
     "output_type": "stream",
     "text": [
      ".Information from URL : http://maps.googleapis.com/maps/api/geocode/json?latlng=56.130366,-106.346771&sensor=false\n",
      ".Information from URL : http://maps.googleapis.com/maps/api/geocode/json?latlng=51.0543422,3.7174243&sensor=false\n",
      ".Warning message in readLines(connect):\n",
      "“cannot open URL 'http://maps.googleapis.com/maps/api/geocode/json?latlng=NA,NA&sensor=false': HTTP status was '400 Bad Request'”"
     ]
    },
    {
     "name": "stdout",
     "output_type": "stream",
     "text": [
      "[1] \"Found a error here\"\n"
     ]
    },
    {
     "name": "stderr",
     "output_type": "stream",
     "text": [
      ".Information from URL : http://maps.googleapis.com/maps/api/geocode/json?latlng=42.976935,2.7753408&sensor=false\n",
      ".Warning message in readLines(connect):\n",
      "“cannot open URL 'http://maps.googleapis.com/maps/api/geocode/json?latlng=NA,NA&sensor=false': HTTP status was '400 Bad Request'”"
     ]
    },
    {
     "name": "stdout",
     "output_type": "stream",
     "text": [
      "[1] \"Found a error here\"\n"
     ]
    },
    {
     "name": "stderr",
     "output_type": "stream",
     "text": [
      ".Information from URL : http://maps.googleapis.com/maps/api/geocode/json?latlng=38.9031004,-77.0340315&sensor=false\n",
      ".Information from URL : http://maps.googleapis.com/maps/api/geocode/json?latlng=35.9131996,-79.0558445&sensor=false\n",
      ".Information from URL : http://maps.googleapis.com/maps/api/geocode/json?latlng=41.7203492,-72.6239953&sensor=false\n",
      "Information from URL : http://maps.googleapis.com/maps/api/geocode/json?latlng=49.3199816,-123.0724139&sensor=false\n",
      "Warning message in readLines(connect):\n",
      "“cannot open URL 'http://maps.googleapis.com/maps/api/geocode/json?latlng=NA,NA&sensor=false': HTTP status was '400 Bad Request'”"
     ]
    },
    {
     "name": "stdout",
     "output_type": "stream",
     "text": [
      "[1] \"Found a error here\"\n"
     ]
    },
    {
     "name": "stderr",
     "output_type": "stream",
     "text": [
      ".Warning message in readLines(connect):\n",
      "“cannot open URL 'http://maps.googleapis.com/maps/api/geocode/json?latlng=NA,NA&sensor=false': HTTP status was '400 Bad Request'”"
     ]
    },
    {
     "name": "stdout",
     "output_type": "stream",
     "text": [
      "[1] \"Found a error here\"\n"
     ]
    },
    {
     "name": "stderr",
     "output_type": "stream",
     "text": [
      ".Information from URL : http://maps.googleapis.com/maps/api/geocode/json?latlng=40.7127753,-74.0059728&sensor=false\n",
      ".Warning message in readLines(connect):\n",
      "“cannot open URL 'http://maps.googleapis.com/maps/api/geocode/json?latlng=NA,NA&sensor=false': HTTP status was '400 Bad Request'”"
     ]
    },
    {
     "name": "stdout",
     "output_type": "stream",
     "text": [
      "[1] \"Found a error here\"\n"
     ]
    },
    {
     "name": "stderr",
     "output_type": "stream",
     "text": [
      ".Information from URL : http://maps.googleapis.com/maps/api/geocode/json?latlng=40.2671941,-86.1349019&sensor=false\n",
      ".Information from URL : http://maps.googleapis.com/maps/api/geocode/json?latlng=47.6062095,-122.3320708&sensor=false\n",
      ".Warning message in revgeocode(c(loc_df$lon[i], loc_df$lat[i])):\n",
      "“reverse geocode failed - bad location? location = \"-86.3977735\"reverse geocode failed - bad location? location = \"39.8433769\"”.Information from URL : http://maps.googleapis.com/maps/api/geocode/json?latlng=50.768035,0.290472&sensor=false\n",
      "Information from URL : http://maps.googleapis.com/maps/api/geocode/json?latlng=47.6062095,-122.3320708&sensor=false\n",
      "Information from URL : http://maps.googleapis.com/maps/api/geocode/json?latlng=39.6837226,-75.7496572&sensor=false\n",
      "Information from URL : http://maps.googleapis.com/maps/api/geocode/json?latlng=43.5448048,-80.2481666&sensor=false\n",
      "Information from URL : http://maps.googleapis.com/maps/api/geocode/json?latlng=50.8503463,4.3517211&sensor=false\n",
      ".Information from URL : http://maps.googleapis.com/maps/api/geocode/json?latlng=41.8781136,-87.6297982&sensor=false\n",
      ".Information from URL : http://maps.googleapis.com/maps/api/geocode/json?latlng=52.1561113,5.3878266&sensor=false\n",
      ".Warning message in readLines(connect):\n",
      "“cannot open URL 'http://maps.googleapis.com/maps/api/geocode/json?latlng=NA,NA&sensor=false': HTTP status was '400 Bad Request'”"
     ]
    },
    {
     "name": "stdout",
     "output_type": "stream",
     "text": [
      "[1] \"Found a error here\"\n"
     ]
    },
    {
     "name": "stderr",
     "output_type": "stream",
     "text": [
      ".Warning message in revgeocode(c(loc_df$lon[i], loc_df$lat[i])):\n",
      "“reverse geocode failed - bad location? location = \"-75.6971931\"reverse geocode failed - bad location? location = \"45.4215296\"”.Information from URL : http://maps.googleapis.com/maps/api/geocode/json?latlng=43.2509279,-71.9273024&sensor=false\n",
      ".Information from URL : http://maps.googleapis.com/maps/api/geocode/json?latlng=40.7866883,-80.1448023&sensor=false\n",
      ".Information from URL : http://maps.googleapis.com/maps/api/geocode/json?latlng=36.204824,138.252924&sensor=false\n",
      ".Warning message in revgeocode(c(loc_df$lon[i], loc_df$lat[i])):\n",
      "“reverse geocode failed - bad location? location = \"-77.0368707\"reverse geocode failed - bad location? location = \"38.9071923\"”Information from URL : http://maps.googleapis.com/maps/api/geocode/json?latlng=43.653226,-79.3831843&sensor=false\n",
      "Information from URL : http://maps.googleapis.com/maps/api/geocode/json?latlng=29.7604267,-95.3698028&sensor=false\n",
      ".Warning message in readLines(connect):\n",
      "“cannot open URL 'http://maps.googleapis.com/maps/api/geocode/json?latlng=NA,NA&sensor=false': HTTP status was '400 Bad Request'”"
     ]
    },
    {
     "name": "stdout",
     "output_type": "stream",
     "text": [
      "[1] \"Found a error here\"\n"
     ]
    },
    {
     "name": "stderr",
     "output_type": "stream",
     "text": [
      ".Information from URL : http://maps.googleapis.com/maps/api/geocode/json?latlng=40.2731911,-76.8867008&sensor=false\n",
      ".Warning message in readLines(connect):\n",
      "“cannot open URL 'http://maps.googleapis.com/maps/api/geocode/json?latlng=NA,NA&sensor=false': HTTP status was '400 Bad Request'”"
     ]
    },
    {
     "name": "stdout",
     "output_type": "stream",
     "text": [
      "[1] \"Found a error here\"\n"
     ]
    },
    {
     "name": "stderr",
     "output_type": "stream",
     "text": [
      ".Information from URL : http://maps.googleapis.com/maps/api/geocode/json?latlng=52.9547832,-1.1581086&sensor=false\n",
      ".Warning message in revgeocode(c(loc_df$lon[i], loc_df$lat[i])):\n",
      "“reverse geocode failed - bad location? location = \"-82.1338961\"reverse geocode failed - bad location? location = \"29.2016499\"”.Information from URL : http://maps.googleapis.com/maps/api/geocode/json?latlng=38.3498195,-81.6326234&sensor=false\n",
      "Information from URL : http://maps.googleapis.com/maps/api/geocode/json?latlng=25.2048493,55.2707828&sensor=false\n",
      ".Information from URL : http://maps.googleapis.com/maps/api/geocode/json?latlng=39.1674643,-76.8449341&sensor=false\n",
      "Information from URL : http://maps.googleapis.com/maps/api/geocode/json?latlng=40.8447819,-73.8648268&sensor=false\n",
      "Warning message in readLines(connect):\n",
      "“cannot open URL 'http://maps.googleapis.com/maps/api/geocode/json?latlng=NA,NA&sensor=false': HTTP status was '400 Bad Request'”"
     ]
    },
    {
     "name": "stdout",
     "output_type": "stream",
     "text": [
      "[1] \"Found a error here\"\n"
     ]
    },
    {
     "name": "stderr",
     "output_type": "stream",
     "text": [
      ".Warning message in revgeocode(c(loc_df$lon[i], loc_df$lat[i])):\n",
      "“reverse geocode failed - bad location? location = \"-71.1097335\"reverse geocode failed - bad location? location = \"42.3736158\"”.Information from URL : http://maps.googleapis.com/maps/api/geocode/json?latlng=40.2671941,-86.1349019&sensor=false\n",
      ".Warning message in readLines(connect):\n",
      "“cannot open URL 'http://maps.googleapis.com/maps/api/geocode/json?latlng=NA,NA&sensor=false': HTTP status was '400 Bad Request'”"
     ]
    },
    {
     "name": "stdout",
     "output_type": "stream",
     "text": [
      "[1] \"Found a error here\"\n"
     ]
    },
    {
     "name": "stderr",
     "output_type": "stream",
     "text": [
      ".Information from URL : http://maps.googleapis.com/maps/api/geocode/json?latlng=51.9244201,4.4777326&sensor=false\n",
      ".Warning message in revgeocode(c(loc_df$lon[i], loc_df$lat[i])):\n",
      "“reverse geocode failed - bad location? location = \"-71.0588801\"reverse geocode failed - bad location? location = \"42.3600825\"”.Information from URL : http://maps.googleapis.com/maps/api/geocode/json?latlng=52.586973,-2.12882&sensor=false\n",
      ".Information from URL : http://maps.googleapis.com/maps/api/geocode/json?latlng=46.0036778,8.951052&sensor=false\n",
      "Warning message in revgeocode(c(loc_df$lon[i], loc_df$lat[i])):\n",
      "“reverse geocode failed - bad location? location = \"-95.8002235\"reverse geocode failed - bad location? location = \"36.0687853\"”.Warning message in readLines(connect):\n",
      "“cannot open URL 'http://maps.googleapis.com/maps/api/geocode/json?latlng=NA,NA&sensor=false': HTTP status was '400 Bad Request'”"
     ]
    },
    {
     "name": "stdout",
     "output_type": "stream",
     "text": [
      "[1] \"Found a error here\"\n"
     ]
    },
    {
     "name": "stderr",
     "output_type": "stream",
     "text": [
      "Information from URL : http://maps.googleapis.com/maps/api/geocode/json?latlng=42.2625932,-71.8022934&sensor=false\n",
      ".Warning message in revgeocode(c(loc_df$lon[i], loc_df$lat[i])):\n",
      "“reverse geocode failed - bad location? location = \"-86.2353388\"reverse geocode failed - bad location? location = \"41.7055716\"”.Information from URL : http://maps.googleapis.com/maps/api/geocode/json?latlng=52.132633,5.291266&sensor=false\n",
      ".Information from URL : http://maps.googleapis.com/maps/api/geocode/json?latlng=51.5073509,-0.1277583&sensor=false\n",
      ".Warning message in revgeocode(c(loc_df$lon[i], loc_df$lat[i])):\n",
      "“reverse geocode failed - bad location? location = \"-91.3929348\"reverse geocode failed - bad location? location = \"44.9369054\"”.Warning message in readLines(connect):\n",
      "“cannot open URL 'http://maps.googleapis.com/maps/api/geocode/json?latlng=NA,NA&sensor=false': HTTP status was '400 Bad Request'”"
     ]
    },
    {
     "name": "stdout",
     "output_type": "stream",
     "text": [
      "[1] \"Found a error here\"\n"
     ]
    },
    {
     "name": "stderr",
     "output_type": "stream",
     "text": [
      ".Warning message in readLines(connect):\n",
      "“cannot open URL 'http://maps.googleapis.com/maps/api/geocode/json?latlng=NA,NA&sensor=false': HTTP status was '400 Bad Request'”"
     ]
    },
    {
     "name": "stdout",
     "output_type": "stream",
     "text": [
      "[1] \"Found a error here\"\n"
     ]
    },
    {
     "name": "stderr",
     "output_type": "stream",
     "text": [
      ".Information from URL : http://maps.googleapis.com/maps/api/geocode/json?latlng=44.801485,10.3279036&sensor=false\n",
      "Warning message in revgeocode(c(loc_df$lon[i], loc_df$lat[i])):\n",
      "“reverse geocode failed - bad location? location = \"5.291266\"reverse geocode failed - bad location? location = \"52.132633\"”.Warning message in readLines(connect):\n",
      "“cannot open URL 'http://maps.googleapis.com/maps/api/geocode/json?latlng=NA,NA&sensor=false': HTTP status was '400 Bad Request'”"
     ]
    },
    {
     "name": "stdout",
     "output_type": "stream",
     "text": [
      "[1] \"Found a error here\"\n"
     ]
    },
    {
     "name": "stderr",
     "output_type": "stream",
     "text": [
      "Information from URL : http://maps.googleapis.com/maps/api/geocode/json?latlng=55.953252,-3.188267&sensor=false\n",
      ".Information from URL : http://maps.googleapis.com/maps/api/geocode/json?latlng=36.5987966,-4.5168056&sensor=false\n",
      ".Warning message in revgeocode(c(loc_df$lon[i], loc_df$lat[i])):\n",
      "“reverse geocode failed - bad location? location = \"4.3517211\"reverse geocode failed - bad location? location = \"50.8503463\"”.Information from URL : http://maps.googleapis.com/maps/api/geocode/json?latlng=25.6866142,-100.3161126&sensor=false\n",
      ".Information from URL : http://maps.googleapis.com/maps/api/geocode/json?latlng=33.8847361,-118.4109089&sensor=false\n",
      ".Information from URL : http://maps.googleapis.com/maps/api/geocode/json?latlng=51.5073509,-0.1277583&sensor=false\n",
      ".Warning message in revgeocode(c(loc_df$lon[i], loc_df$lat[i])):\n",
      "“reverse geocode failed - bad location? location = \"4.3517211\"reverse geocode failed - bad location? location = \"50.8503463\"”.Information from URL : http://maps.googleapis.com/maps/api/geocode/json?latlng=52.0907374,5.1214201&sensor=false\n",
      "Information from URL : http://maps.googleapis.com/maps/api/geocode/json?latlng=51.5073509,-0.1277583&sensor=false\n",
      ".Warning message in revgeocode(c(loc_df$lon[i], loc_df$lat[i])):\n",
      "“reverse geocode failed - bad location? location = \"-77.1527578\"reverse geocode failed - bad location? location = \"39.0839973\"”Information from URL : http://maps.googleapis.com/maps/api/geocode/json?latlng=51.165691,10.451526&sensor=false\n",
      ".Information from URL : http://maps.googleapis.com/maps/api/geocode/json?latlng=48.2081743,16.3738189&sensor=false\n",
      "Information from URL : http://maps.googleapis.com/maps/api/geocode/json?latlng=39.0839973,-77.1527578&sensor=false\n",
      ".Warning message in readLines(connect):\n",
      "“cannot open URL 'http://maps.googleapis.com/maps/api/geocode/json?latlng=NA,NA&sensor=false': HTTP status was '400 Bad Request'”"
     ]
    },
    {
     "name": "stdout",
     "output_type": "stream",
     "text": [
      "[1] \"Found a error here\"\n"
     ]
    },
    {
     "name": "stderr",
     "output_type": "stream",
     "text": [
      ".Warning message in revgeocode(c(loc_df$lon[i], loc_df$lat[i])):\n",
      "“reverse geocode failed - bad location? location = \"-95.712891\"reverse geocode failed - bad location? location = \"37.09024\"”.Warning message in revgeocode(c(loc_df$lon[i], loc_df$lat[i])):\n",
      "“reverse geocode failed - bad location? location = \"-77.8600012\"reverse geocode failed - bad location? location = \"40.7933949\"”.Information from URL : http://maps.googleapis.com/maps/api/geocode/json?latlng=-6.17511,106.8650395&sensor=false\n",
      ".Information from URL : http://maps.googleapis.com/maps/api/geocode/json?latlng=41.6032207,-73.087749&sensor=false\n",
      "Information from URL : http://maps.googleapis.com/maps/api/geocode/json?latlng=41.137508,16.765202&sensor=false\n",
      ".Information from URL : http://maps.googleapis.com/maps/api/geocode/json?latlng=27.6648274,-81.5157535&sensor=false\n",
      "Information from URL : http://maps.googleapis.com/maps/api/geocode/json?latlng=8.537981,-80.782127&sensor=false\n",
      ".Information from URL : http://maps.googleapis.com/maps/api/geocode/json?latlng=40.7989473,-81.378447&sensor=false\n",
      ".Information from URL : http://maps.googleapis.com/maps/api/geocode/json?latlng=27.6648274,-81.5157535&sensor=false\n",
      ".Warning message in readLines(connect):\n",
      "“cannot open URL 'http://maps.googleapis.com/maps/api/geocode/json?latlng=NA,NA&sensor=false': HTTP status was '400 Bad Request'”"
     ]
    },
    {
     "name": "stdout",
     "output_type": "stream",
     "text": [
      "[1] \"Found a error here\"\n"
     ]
    },
    {
     "name": "stderr",
     "output_type": "stream",
     "text": [
      ".Information from URL : http://maps.googleapis.com/maps/api/geocode/json?latlng=35.2775488,-80.765361&sensor=false\n",
      "Warning message in readLines(connect):\n",
      "“cannot open URL 'http://maps.googleapis.com/maps/api/geocode/json?latlng=NA,NA&sensor=false': HTTP status was '400 Bad Request'”"
     ]
    },
    {
     "name": "stdout",
     "output_type": "stream",
     "text": [
      "[1] \"Found a error here\"\n"
     ]
    },
    {
     "name": "stderr",
     "output_type": "stream",
     "text": [
      ".Information from URL : http://maps.googleapis.com/maps/api/geocode/json?latlng=36.1699412,-115.1398296&sensor=false\n",
      ".Information from URL : http://maps.googleapis.com/maps/api/geocode/json?latlng=51.5073509,-0.1277583&sensor=false\n",
      ".Information from URL : http://maps.googleapis.com/maps/api/geocode/json?latlng=-3.3869254,36.6829927&sensor=false\n",
      ".Information from URL : http://maps.googleapis.com/maps/api/geocode/json?latlng=36.204824,138.252924&sensor=false\n",
      "Information from URL : http://maps.googleapis.com/maps/api/geocode/json?latlng=62.4113634,-149.0729714&sensor=false\n",
      ".Warning message in readLines(connect):\n",
      "“cannot open URL 'http://maps.googleapis.com/maps/api/geocode/json?latlng=NA,NA&sensor=false': HTTP status was '400 Bad Request'”"
     ]
    },
    {
     "name": "stdout",
     "output_type": "stream",
     "text": [
      "[1] \"Found a error here\"\n"
     ]
    },
    {
     "name": "stderr",
     "output_type": "stream",
     "text": [
      ".Information from URL : http://maps.googleapis.com/maps/api/geocode/json?latlng=44.9406831,-91.3963264&sensor=false\n",
      ".Information from URL : http://maps.googleapis.com/maps/api/geocode/json?latlng=29.592024,106.227305&sensor=false\n",
      ".Warning message in readLines(connect):\n",
      "“cannot open URL 'http://maps.googleapis.com/maps/api/geocode/json?latlng=NA,NA&sensor=false': HTTP status was '400 Bad Request'”"
     ]
    },
    {
     "name": "stdout",
     "output_type": "stream",
     "text": [
      "[1] \"Found a error here\"\n"
     ]
    },
    {
     "name": "stderr",
     "output_type": "stream",
     "text": [
      "Warning message in readLines(connect):\n",
      "“cannot open URL 'http://maps.googleapis.com/maps/api/geocode/json?latlng=NA,NA&sensor=false': HTTP status was '400 Bad Request'”"
     ]
    },
    {
     "name": "stdout",
     "output_type": "stream",
     "text": [
      "[1] \"Found a error here\"\n"
     ]
    },
    {
     "name": "stderr",
     "output_type": "stream",
     "text": [
      ".Information from URL : http://maps.googleapis.com/maps/api/geocode/json?latlng=32.2732024,-89.9859158&sensor=false\n",
      ".Information from URL : http://maps.googleapis.com/maps/api/geocode/json?latlng=37.09024,-95.712891&sensor=false\n",
      ".Warning message in revgeocode(c(loc_df$lon[i], loc_df$lat[i])):\n",
      "“reverse geocode failed - bad location? location = \"-79.8296743\"reverse geocode failed - bad location? location = \"44.4716525\"”.Information from URL : http://maps.googleapis.com/maps/api/geocode/json?latlng=44.6082465,-79.4196783&sensor=false\n",
      "Information from URL : http://maps.googleapis.com/maps/api/geocode/json?latlng=-8.874217,125.727539&sensor=false\n",
      ".Warning message in readLines(connect):\n",
      "“cannot open URL 'http://maps.googleapis.com/maps/api/geocode/json?latlng=NA,NA&sensor=false': HTTP status was '400 Bad Request'”"
     ]
    },
    {
     "name": "stdout",
     "output_type": "stream",
     "text": [
      "[1] \"Found a error here\"\n"
     ]
    },
    {
     "name": "stderr",
     "output_type": "stream",
     "text": [
      ".Warning message in revgeocode(c(loc_df$lon[i], loc_df$lat[i])):\n",
      "“reverse geocode failed - bad location? location = \"-71.102018\"reverse geocode failed - bad location? location = \"42.365854\"”.Information from URL : http://maps.googleapis.com/maps/api/geocode/json?latlng=41.2392227,-81.3459405&sensor=false\n",
      ".Warning message in readLines(connect):\n",
      "“cannot open URL 'http://maps.googleapis.com/maps/api/geocode/json?latlng=NA,NA&sensor=false': HTTP status was '400 Bad Request'”"
     ]
    },
    {
     "name": "stdout",
     "output_type": "stream",
     "text": [
      "[1] \"Found a error here\"\n"
     ]
    },
    {
     "name": "stderr",
     "output_type": "stream",
     "text": [
      "Warning message in revgeocode(c(loc_df$lon[i], loc_df$lat[i])):\n",
      "“reverse geocode failed - bad location? location = \"-74.0059728\"reverse geocode failed - bad location? location = \"40.7127753\"”.Warning message in readLines(connect):\n",
      "“cannot open URL 'http://maps.googleapis.com/maps/api/geocode/json?latlng=NA,NA&sensor=false': HTTP status was '400 Bad Request'”"
     ]
    },
    {
     "name": "stdout",
     "output_type": "stream",
     "text": [
      "[1] \"Found a error here\"\n"
     ]
    },
    {
     "name": "stderr",
     "output_type": "stream",
     "text": [
      ".Information from URL : http://maps.googleapis.com/maps/api/geocode/json?latlng=43.653226,-79.3831843&sensor=false\n",
      ".Information from URL : http://maps.googleapis.com/maps/api/geocode/json?latlng=37.9100783,-122.0651819&sensor=false\n",
      ".Information from URL : http://maps.googleapis.com/maps/api/geocode/json?latlng=53.3498053,-6.2603097&sensor=false\n",
      "Information from URL : http://maps.googleapis.com/maps/api/geocode/json?latlng=40.3025907,-74.511172&sensor=false\n",
      ".Warning message in revgeocode(c(loc_df$lon[i], loc_df$lat[i])):\n",
      "“reverse geocode failed - bad location? location = \"28.2292712\"reverse geocode failed - bad location? location = \"-25.7478676\"”.Warning message in revgeocode(c(loc_df$lon[i], loc_df$lat[i])):\n",
      "“reverse geocode failed - bad location? location = \"7.5885761\"reverse geocode failed - bad location? location = \"47.5595986\"”.Warning message in readLines(connect):\n",
      "“cannot open URL 'http://maps.googleapis.com/maps/api/geocode/json?latlng=NA,NA&sensor=false': HTTP status was '400 Bad Request'”"
     ]
    },
    {
     "name": "stdout",
     "output_type": "stream",
     "text": [
      "[1] \"Found a error here\"\n"
     ]
    },
    {
     "name": "stderr",
     "output_type": "stream",
     "text": [
      ".Information from URL : http://maps.googleapis.com/maps/api/geocode/json?latlng=38.8338816,-104.8213634&sensor=false\n",
      "Information from URL : http://maps.googleapis.com/maps/api/geocode/json?latlng=52.3555177,-1.1743197&sensor=false\n",
      ".Information from URL : http://maps.googleapis.com/maps/api/geocode/json?latlng=55.3477316,9.950687&sensor=false\n",
      ".Information from URL : http://maps.googleapis.com/maps/api/geocode/json?latlng=-32.0807296,115.8078102&sensor=false\n",
      ".Warning message in revgeocode(c(loc_df$lon[i], loc_df$lat[i])):\n",
      "“reverse geocode failed - bad location? location = \"-127.6476205\"reverse geocode failed - bad location? location = \"53.7266683\"”.Information from URL : http://maps.googleapis.com/maps/api/geocode/json?latlng=37.09024,-95.712891&sensor=false\n",
      "Information from URL : http://maps.googleapis.com/maps/api/geocode/json?latlng=45.764043,4.835659&sensor=false\n",
      ".Warning message in readLines(connect):\n",
      "“cannot open URL 'http://maps.googleapis.com/maps/api/geocode/json?latlng=NA,NA&sensor=false': HTTP status was '400 Bad Request'”"
     ]
    },
    {
     "name": "stdout",
     "output_type": "stream",
     "text": [
      "[1] \"Found a error here\"\n"
     ]
    },
    {
     "name": "stderr",
     "output_type": "stream",
     "text": [
      ".Warning message in readLines(connect):\n",
      "“cannot open URL 'http://maps.googleapis.com/maps/api/geocode/json?latlng=NA,NA&sensor=false': HTTP status was '400 Bad Request'”"
     ]
    },
    {
     "name": "stdout",
     "output_type": "stream",
     "text": [
      "[1] \"Found a error here\"\n"
     ]
    },
    {
     "name": "stderr",
     "output_type": "stream",
     "text": [
      ".Warning message in readLines(connect):\n",
      "“cannot open URL 'http://maps.googleapis.com/maps/api/geocode/json?latlng=NA,NA&sensor=false': HTTP status was '400 Bad Request'”"
     ]
    },
    {
     "name": "stdout",
     "output_type": "stream",
     "text": [
      "[1] \"Found a error here\"\n"
     ]
    },
    {
     "name": "stderr",
     "output_type": "stream",
     "text": [
      ".Warning message in revgeocode(c(loc_df$lon[i], loc_df$lat[i])):\n",
      "“reverse geocode failed - bad location? location = \"9.501785\"reverse geocode failed - bad location? location = \"56.26392\"”Information from URL : http://maps.googleapis.com/maps/api/geocode/json?latlng=51.537142,-0.1927892&sensor=false\n",
      ".Information from URL : http://maps.googleapis.com/maps/api/geocode/json?latlng=56.706922,-2.466115&sensor=false\n",
      ".Information from URL : http://maps.googleapis.com/maps/api/geocode/json?latlng=37.9838096,23.7275388&sensor=false\n",
      ".Information from URL : http://maps.googleapis.com/maps/api/geocode/json?latlng=45.4895636,-73.8205567&sensor=false\n",
      "Information from URL : http://maps.googleapis.com/maps/api/geocode/json?latlng=56.130366,-106.346771&sensor=false\n",
      "Information from URL : http://maps.googleapis.com/maps/api/geocode/json?latlng=-23.5505199,-46.6333094&sensor=false\n",
      ".Warning message in revgeocode(c(loc_df$lon[i], loc_df$lat[i])):\n",
      "“reverse geocode failed - bad location? location = \"-81.0228331\"reverse geocode failed - bad location? location = \"29.2108147\"”.Warning message in revgeocode(c(loc_df$lon[i], loc_df$lat[i])):\n",
      "“reverse geocode failed - bad location? location = \"-0.1277583\"reverse geocode failed - bad location? location = \"51.5073509\"”.Warning message in readLines(connect):\n",
      "“cannot open URL 'http://maps.googleapis.com/maps/api/geocode/json?latlng=NA,NA&sensor=false': HTTP status was '400 Bad Request'”"
     ]
    },
    {
     "name": "stdout",
     "output_type": "stream",
     "text": [
      "[1] \"Found a error here\"\n"
     ]
    },
    {
     "name": "stderr",
     "output_type": "stream",
     "text": [
      ".Warning message in readLines(connect):\n",
      "“cannot open URL 'http://maps.googleapis.com/maps/api/geocode/json?latlng=NA,NA&sensor=false': HTTP status was '400 Bad Request'”"
     ]
    },
    {
     "name": "stdout",
     "output_type": "stream",
     "text": [
      "[1] \"Found a error here\"\n"
     ]
    },
    {
     "name": "stderr",
     "output_type": "stream",
     "text": [
      ".Information from URL : http://maps.googleapis.com/maps/api/geocode/json?latlng=-25.274398,133.775136&sensor=false\n",
      ".Information from URL : http://maps.googleapis.com/maps/api/geocode/json?latlng=38.9071923,-77.0368707&sensor=false\n",
      ".Information from URL : http://maps.googleapis.com/maps/api/geocode/json?latlng=41.87194,12.56738&sensor=false\n",
      ".Information from URL : http://maps.googleapis.com/maps/api/geocode/json?latlng=50.7772135,-3.999461&sensor=false\n",
      "Warning message in readLines(connect):\n",
      "“cannot open URL 'http://maps.googleapis.com/maps/api/geocode/json?latlng=NA,NA&sensor=false': HTTP status was '400 Bad Request'”"
     ]
    },
    {
     "name": "stdout",
     "output_type": "stream",
     "text": [
      "[1] \"Found a error here\"\n"
     ]
    },
    {
     "name": "stderr",
     "output_type": "stream",
     "text": [
      "Information from URL : http://maps.googleapis.com/maps/api/geocode/json?latlng=33.4712253,-84.5971524&sensor=false\n",
      ".Information from URL : http://maps.googleapis.com/maps/api/geocode/json?latlng=-26.2041028,28.0473051&sensor=false\n",
      ".Warning message in readLines(connect):\n",
      "“cannot open URL 'http://maps.googleapis.com/maps/api/geocode/json?latlng=NA,NA&sensor=false': HTTP status was '400 Bad Request'”"
     ]
    },
    {
     "name": "stdout",
     "output_type": "stream",
     "text": [
      "[1] \"Found a error here\"\n"
     ]
    },
    {
     "name": "stderr",
     "output_type": "stream",
     "text": [
      ".Information from URL : http://maps.googleapis.com/maps/api/geocode/json?latlng=51.5073509,-0.1277583&sensor=false\n",
      ".Warning message in readLines(connect):\n",
      "“cannot open URL 'http://maps.googleapis.com/maps/api/geocode/json?latlng=NA,NA&sensor=false': HTTP status was '400 Bad Request'”"
     ]
    },
    {
     "name": "stdout",
     "output_type": "stream",
     "text": [
      "[1] \"Found a error here\"\n"
     ]
    },
    {
     "name": "stderr",
     "output_type": "stream",
     "text": [
      ".Information from URL : http://maps.googleapis.com/maps/api/geocode/json?latlng=50.8503463,4.3517211&sensor=false\n",
      ".Information from URL : http://maps.googleapis.com/maps/api/geocode/json?latlng=28.5383355,-81.3792365&sensor=false\n",
      ".Information from URL : http://maps.googleapis.com/maps/api/geocode/json?latlng=50.8503463,4.3517211&sensor=false\n",
      ".Information from URL : http://maps.googleapis.com/maps/api/geocode/json?latlng=52.9451889,-0.1601246&sensor=false\n",
      "Information from URL : http://maps.googleapis.com/maps/api/geocode/json?latlng=53.5510846,9.9936819&sensor=false\n",
      "Information from URL : http://maps.googleapis.com/maps/api/geocode/json?latlng=50.8503463,4.3517211&sensor=false\n",
      ".Warning message in readLines(connect):\n",
      "“cannot open URL 'http://maps.googleapis.com/maps/api/geocode/json?latlng=NA,NA&sensor=false': HTTP status was '400 Bad Request'”"
     ]
    },
    {
     "name": "stdout",
     "output_type": "stream",
     "text": [
      "[1] \"Found a error here\"\n"
     ]
    },
    {
     "name": "stderr",
     "output_type": "stream",
     "text": [
      ".Information from URL : http://maps.googleapis.com/maps/api/geocode/json?latlng=51.253775,-85.323214&sensor=false\n",
      ".Information from URL : http://maps.googleapis.com/maps/api/geocode/json?latlng=52.376491,1.108394&sensor=false\n",
      "Warning message in readLines(connect):\n",
      "“cannot open URL 'http://maps.googleapis.com/maps/api/geocode/json?latlng=NA,NA&sensor=false': HTTP status was '400 Bad Request'”"
     ]
    },
    {
     "name": "stdout",
     "output_type": "stream",
     "text": [
      "[1] \"Found a error here\"\n"
     ]
    },
    {
     "name": "stderr",
     "output_type": "stream",
     "text": [
      ".Information from URL : http://maps.googleapis.com/maps/api/geocode/json?latlng=-33.9248685,18.4240553&sensor=false\n",
      ".Information from URL : http://maps.googleapis.com/maps/api/geocode/json?latlng=51.5073509,-0.1277583&sensor=false\n",
      ".Information from URL : http://maps.googleapis.com/maps/api/geocode/json?latlng=4.570868,-74.297333&sensor=false\n",
      ".Information from URL : http://maps.googleapis.com/maps/api/geocode/json?latlng=19.0759837,72.8776559&sensor=false\n",
      ".Warning message in revgeocode(c(loc_df$lon[i], loc_df$lat[i])):\n",
      "“reverse geocode failed - bad location? location = \"-9.3816495\"reverse geocode failed - bad location? location = \"38.8029127\"”Information from URL : http://maps.googleapis.com/maps/api/geocode/json?latlng=53.2272903,45&sensor=false\n",
      "Warning message in readLines(connect):\n",
      "“cannot open URL 'http://maps.googleapis.com/maps/api/geocode/json?latlng=NA,NA&sensor=false': HTTP status was '400 Bad Request'”"
     ]
    },
    {
     "name": "stdout",
     "output_type": "stream",
     "text": [
      "[1] \"Found a error here\"\n"
     ]
    },
    {
     "name": "stderr",
     "output_type": "stream",
     "text": [
      ".Warning message in revgeocode(c(loc_df$lon[i], loc_df$lat[i])):\n",
      "“reverse geocode failed - bad location? location = \"-71.5723953\"reverse geocode failed - bad location? location = \"43.1938516\"”.Information from URL : http://maps.googleapis.com/maps/api/geocode/json?latlng=40.7206746,-73.8464283&sensor=false\n",
      ".Warning message in revgeocode(c(loc_df$lon[i], loc_df$lat[i])):\n",
      "“reverse geocode failed - bad location? location = \"-111.8872095\"reverse geocode failed - bad location? location = \"40.9805865\"”.Warning message in revgeocode(c(loc_df$lon[i], loc_df$lat[i])):\n",
      "“reverse geocode failed - bad location? location = \"-70.6692655\"reverse geocode failed - bad location? location = \"-33.4488897\"”.Warning message in revgeocode(c(loc_df$lon[i], loc_df$lat[i])):\n",
      "“reverse geocode failed - bad location? location = \"-0.1277583\"reverse geocode failed - bad location? location = \"51.5073509\"”.Information from URL : http://maps.googleapis.com/maps/api/geocode/json?latlng=28.5547102,77.1765277&sensor=false\n",
      "Information from URL : http://maps.googleapis.com/maps/api/geocode/json?latlng=35.4842782,-83.3162087&sensor=false\n",
      ".Warning message in revgeocode(c(loc_df$lon[i], loc_df$lat[i])):\n",
      "“reverse geocode failed - bad location? location = \"100.6196553\"reverse geocode failed - bad location? location = \"34.047863\"”Information from URL : http://maps.googleapis.com/maps/api/geocode/json?latlng=51.5073509,-0.1277583&sensor=false\n",
      ".Warning message in readLines(connect):\n",
      "“cannot open URL 'http://maps.googleapis.com/maps/api/geocode/json?latlng=NA,NA&sensor=false': HTTP status was '400 Bad Request'”"
     ]
    },
    {
     "name": "stdout",
     "output_type": "stream",
     "text": [
      "[1] \"Found a error here\"\n"
     ]
    },
    {
     "name": "stderr",
     "output_type": "stream",
     "text": [
      ".Warning message in readLines(connect):\n",
      "“cannot open URL 'http://maps.googleapis.com/maps/api/geocode/json?latlng=NA,NA&sensor=false': HTTP status was '400 Bad Request'”"
     ]
    },
    {
     "name": "stdout",
     "output_type": "stream",
     "text": [
      "[1] \"Found a error here\"\n"
     ]
    },
    {
     "name": "stderr",
     "output_type": "stream",
     "text": [
      ".Information from URL : http://maps.googleapis.com/maps/api/geocode/json?latlng=50.94209,4.54981&sensor=false\n",
      ".Information from URL : http://maps.googleapis.com/maps/api/geocode/json?latlng=51.3491996,-1.9927105&sensor=false\n",
      ".Information from URL : http://maps.googleapis.com/maps/api/geocode/json?latlng=-34.9011127,-56.1645314&sensor=false\n",
      "Information from URL : http://maps.googleapis.com/maps/api/geocode/json?latlng=32.778651,-108.153234&sensor=false\n",
      ".Warning message in readLines(connect):\n",
      "“cannot open URL 'http://maps.googleapis.com/maps/api/geocode/json?latlng=NA,NA&sensor=false': HTTP status was '400 Bad Request'”"
     ]
    },
    {
     "name": "stdout",
     "output_type": "stream",
     "text": [
      "[1] \"Found a error here\"\n"
     ]
    },
    {
     "name": "stderr",
     "output_type": "stream",
     "text": [
      ".Information from URL : http://maps.googleapis.com/maps/api/geocode/json?latlng=52.1601144,4.4970097&sensor=false\n",
      ".Information from URL : http://maps.googleapis.com/maps/api/geocode/json?latlng=51.2984669,1.0709944&sensor=false\n",
      "Warning message in readLines(connect):\n",
      "“cannot open URL 'http://maps.googleapis.com/maps/api/geocode/json?latlng=NA,NA&sensor=false': HTTP status was '400 Bad Request'”"
     ]
    },
    {
     "name": "stdout",
     "output_type": "stream",
     "text": [
      "[1] \"Found a error here\"\n"
     ]
    },
    {
     "name": "stderr",
     "output_type": "stream",
     "text": [
      ".Information from URL : http://maps.googleapis.com/maps/api/geocode/json?latlng=50.8503463,4.3517211&sensor=false\n",
      ".Information from URL : http://maps.googleapis.com/maps/api/geocode/json?latlng=46.227638,2.213749&sensor=false\n",
      ".Information from URL : http://maps.googleapis.com/maps/api/geocode/json?latlng=40.7970945,-119.2109947&sensor=false\n",
      ".Warning message in revgeocode(c(loc_df$lon[i], loc_df$lat[i])):\n",
      "“reverse geocode failed - bad location? location = \"77.5945627\"reverse geocode failed - bad location? location = \"12.9715987\"”.Information from URL : http://maps.googleapis.com/maps/api/geocode/json?latlng=52.31187,0.38498&sensor=false\n",
      "Information from URL : http://maps.googleapis.com/maps/api/geocode/json?latlng=-31.8226165,115.7718728&sensor=false\n",
      ".Information from URL : http://maps.googleapis.com/maps/api/geocode/json?latlng=-17.8251657,31.03351&sensor=false\n",
      ".Information from URL : http://maps.googleapis.com/maps/api/geocode/json?latlng=-17.8251657,31.03351&sensor=false\n",
      ".Information from URL : http://maps.googleapis.com/maps/api/geocode/json?latlng=-24.3570767,19.5687103&sensor=false\n",
      "Information from URL : http://maps.googleapis.com/maps/api/geocode/json?latlng=26.1224386,-80.1373174&sensor=false\n",
      ".Information from URL : http://maps.googleapis.com/maps/api/geocode/json?latlng=51.5073509,-0.1277583&sensor=false\n",
      ".Information from URL : http://maps.googleapis.com/maps/api/geocode/json?latlng=40.4167754,-3.7037902&sensor=false\n",
      ".Information from URL : http://maps.googleapis.com/maps/api/geocode/json?latlng=-1.2920659,36.8219462&sensor=false\n",
      ".Information from URL : http://maps.googleapis.com/maps/api/geocode/json?latlng=55.378051,-3.435973&sensor=false\n",
      ".Information from URL : http://maps.googleapis.com/maps/api/geocode/json?latlng=49.815273,6.129583&sensor=false\n",
      "Warning message in readLines(connect):\n",
      "“cannot open URL 'http://maps.googleapis.com/maps/api/geocode/json?latlng=NA,NA&sensor=false': HTTP status was '400 Bad Request'”"
     ]
    },
    {
     "name": "stdout",
     "output_type": "stream",
     "text": [
      "[1] \"Found a error here\"\n"
     ]
    },
    {
     "name": "stderr",
     "output_type": "stream",
     "text": [
      ".Information from URL : http://maps.googleapis.com/maps/api/geocode/json?latlng=51.5073509,-0.1277583&sensor=false\n",
      ".Information from URL : http://maps.googleapis.com/maps/api/geocode/json?latlng=-25.274398,133.775136&sensor=false\n",
      ".Information from URL : http://maps.googleapis.com/maps/api/geocode/json?latlng=56.4906712,-4.2026458&sensor=false\n",
      "Information from URL : http://maps.googleapis.com/maps/api/geocode/json?latlng=50.1109221,8.6821267&sensor=false\n",
      "Information from URL : http://maps.googleapis.com/maps/api/geocode/json?latlng=52.0907374,5.1214201&sensor=false\n",
      "Warning message in readLines(connect):\n",
      "“cannot open URL 'http://maps.googleapis.com/maps/api/geocode/json?latlng=NA,NA&sensor=false': HTTP status was '400 Bad Request'”"
     ]
    },
    {
     "name": "stdout",
     "output_type": "stream",
     "text": [
      "[1] \"Found a error here\"\n"
     ]
    },
    {
     "name": "stderr",
     "output_type": "stream",
     "text": [
      ".Warning message in readLines(connect):\n",
      "“cannot open URL 'http://maps.googleapis.com/maps/api/geocode/json?latlng=NA,NA&sensor=false': HTTP status was '400 Bad Request'”"
     ]
    },
    {
     "name": "stdout",
     "output_type": "stream",
     "text": [
      "[1] \"Found a error here\"\n"
     ]
    },
    {
     "name": "stderr",
     "output_type": "stream",
     "text": [
      ".Information from URL : http://maps.googleapis.com/maps/api/geocode/json?latlng=47.162494,19.5033041&sensor=false\n",
      ".Warning message in revgeocode(c(loc_df$lon[i], loc_df$lat[i])):\n",
      "“reverse geocode failed - bad location? location = \"-71.0833898\"reverse geocode failed - bad location? location = \"42.3627038\"”Warning message in readLines(connect):\n",
      "“cannot open URL 'http://maps.googleapis.com/maps/api/geocode/json?latlng=NA,NA&sensor=false': HTTP status was '400 Bad Request'”"
     ]
    },
    {
     "name": "stdout",
     "output_type": "stream",
     "text": [
      "[1] \"Found a error here\"\n"
     ]
    },
    {
     "name": "stderr",
     "output_type": "stream",
     "text": [
      ".Warning message in readLines(connect):\n",
      "“cannot open URL 'http://maps.googleapis.com/maps/api/geocode/json?latlng=NA,NA&sensor=false': HTTP status was '400 Bad Request'”"
     ]
    },
    {
     "name": "stdout",
     "output_type": "stream",
     "text": [
      "[1] \"Found a error here\"\n"
     ]
    },
    {
     "name": "stderr",
     "output_type": "stream",
     "text": [
      ".Information from URL : http://maps.googleapis.com/maps/api/geocode/json?latlng=54.7877149,-6.4923145&sensor=false\n",
      ".Information from URL : http://maps.googleapis.com/maps/api/geocode/json?latlng=42.0264423,-86.1075997&sensor=false\n",
      "Information from URL : http://maps.googleapis.com/maps/api/geocode/json?latlng=51.5234388,-0.114136&sensor=false\n",
      "Information from URL : http://maps.googleapis.com/maps/api/geocode/json?latlng=22.396428,114.109497&sensor=false\n",
      "Information from URL : http://maps.googleapis.com/maps/api/geocode/json?latlng=53.3498053,-6.2603097&sensor=false\n",
      ".Warning message in readLines(connect):\n",
      "“cannot open URL 'http://maps.googleapis.com/maps/api/geocode/json?latlng=NA,NA&sensor=false': HTTP status was '400 Bad Request'”"
     ]
    },
    {
     "name": "stdout",
     "output_type": "stream",
     "text": [
      "[1] \"Found a error here\"\n"
     ]
    },
    {
     "name": "stderr",
     "output_type": "stream",
     "text": [
      ".Warning message in readLines(connect):\n",
      "“cannot open URL 'http://maps.googleapis.com/maps/api/geocode/json?latlng=NA,NA&sensor=false': HTTP status was '400 Bad Request'”"
     ]
    },
    {
     "name": "stdout",
     "output_type": "stream",
     "text": [
      "[1] \"Found a error here\"\n"
     ]
    },
    {
     "name": "stderr",
     "output_type": "stream",
     "text": [
      ".Information from URL : http://maps.googleapis.com/maps/api/geocode/json?latlng=37.2707022,-76.7074571&sensor=false\n",
      "Information from URL : http://maps.googleapis.com/maps/api/geocode/json?latlng=22.396428,114.109497&sensor=false\n",
      ".Warning message in readLines(connect):\n",
      "“cannot open URL 'http://maps.googleapis.com/maps/api/geocode/json?latlng=NA,NA&sensor=false': HTTP status was '400 Bad Request'”"
     ]
    },
    {
     "name": "stdout",
     "output_type": "stream",
     "text": [
      "[1] \"Found a error here\"\n"
     ]
    },
    {
     "name": "stderr",
     "output_type": "stream",
     "text": [
      ".Warning message in revgeocode(c(loc_df$lon[i], loc_df$lat[i])):\n",
      "“reverse geocode failed - bad location? location = \"17.6389267\"reverse geocode failed - bad location? location = \"59.8585638\"”.Information from URL : http://maps.googleapis.com/maps/api/geocode/json?latlng=28.6139391,77.2090212&sensor=false\n",
      ".Information from URL : http://maps.googleapis.com/maps/api/geocode/json?latlng=46.5196535,6.6322734&sensor=false\n",
      ".Information from URL : http://maps.googleapis.com/maps/api/geocode/json?latlng=47.4988196,8.7236889&sensor=false\n",
      "Information from URL : http://maps.googleapis.com/maps/api/geocode/json?latlng=45.5230622,-122.6764815&sensor=false\n",
      ".Warning message in readLines(connect):\n",
      "“cannot open URL 'http://maps.googleapis.com/maps/api/geocode/json?latlng=NA,NA&sensor=false': HTTP status was '400 Bad Request'”"
     ]
    },
    {
     "name": "stdout",
     "output_type": "stream",
     "text": [
      "[1] \"Found a error here\"\n"
     ]
    },
    {
     "name": "stderr",
     "output_type": "stream",
     "text": [
      ".Warning message in revgeocode(c(loc_df$lon[i], loc_df$lat[i])):\n",
      "“reverse geocode failed - bad location? location = \"-3.0025615\"reverse geocode failed - bad location? location = \"16.7665887\"”.Information from URL : http://maps.googleapis.com/maps/api/geocode/json?latlng=45.03676,-79.560562&sensor=false\n",
      "Information from URL : http://maps.googleapis.com/maps/api/geocode/json?latlng=29.7604267,-95.3698028&sensor=false\n",
      ".Warning message in readLines(connect):\n",
      "“cannot open URL 'http://maps.googleapis.com/maps/api/geocode/json?latlng=NA,NA&sensor=false': HTTP status was '400 Bad Request'”"
     ]
    },
    {
     "name": "stdout",
     "output_type": "stream",
     "text": [
      "[1] \"Found a error here\"\n"
     ]
    },
    {
     "name": "stderr",
     "output_type": "stream",
     "text": [
      ".Information from URL : http://maps.googleapis.com/maps/api/geocode/json?latlng=33.6178706,-83.9439397&sensor=false\n",
      ".Information from URL : http://maps.googleapis.com/maps/api/geocode/json?latlng=45.0522366,7.5153885&sensor=false\n",
      ".Information from URL : http://maps.googleapis.com/maps/api/geocode/json?latlng=50.80518,23.8909099&sensor=false\n",
      ".Warning message in readLines(connect):\n",
      "“cannot open URL 'http://maps.googleapis.com/maps/api/geocode/json?latlng=NA,NA&sensor=false': HTTP status was '400 Bad Request'”"
     ]
    },
    {
     "name": "stdout",
     "output_type": "stream",
     "text": [
      "[1] \"Found a error here\"\n"
     ]
    },
    {
     "name": "stderr",
     "output_type": "stream",
     "text": [
      "Information from URL : http://maps.googleapis.com/maps/api/geocode/json?latlng=28.413638,-81.5312701&sensor=false\n",
      ".Information from URL : http://maps.googleapis.com/maps/api/geocode/json?latlng=49.4521018,11.0766654&sensor=false\n",
      ".Warning message in revgeocode(c(loc_df$lon[i], loc_df$lat[i])):\n",
      "“reverse geocode failed - bad location? location = \"144.9630576\"reverse geocode failed - bad location? location = \"-37.8136276\"”.Warning message in readLines(connect):\n",
      "“cannot open URL 'http://maps.googleapis.com/maps/api/geocode/json?latlng=NA,NA&sensor=false': HTTP status was '400 Bad Request'”"
     ]
    },
    {
     "name": "stdout",
     "output_type": "stream",
     "text": [
      "[1] \"Found a error here\"\n"
     ]
    },
    {
     "name": "stderr",
     "output_type": "stream",
     "text": [
      "Information from URL : http://maps.googleapis.com/maps/api/geocode/json?latlng=41.9027835,12.4963655&sensor=false\n",
      ".Warning message in readLines(connect):\n",
      "“cannot open URL 'http://maps.googleapis.com/maps/api/geocode/json?latlng=NA,NA&sensor=false': HTTP status was '400 Bad Request'”"
     ]
    },
    {
     "name": "stdout",
     "output_type": "stream",
     "text": [
      "[1] \"Found a error here\"\n"
     ]
    },
    {
     "name": "stderr",
     "output_type": "stream",
     "text": [
      ".Warning message in revgeocode(c(loc_df$lon[i], loc_df$lat[i])):\n",
      "“reverse geocode failed - bad location? location = \"-122.801094\"reverse geocode failed - bad location? location = \"49.1044302\"”.Warning message in readLines(connect):\n",
      "“cannot open URL 'http://maps.googleapis.com/maps/api/geocode/json?latlng=NA,NA&sensor=false': HTTP status was '400 Bad Request'”"
     ]
    },
    {
     "name": "stdout",
     "output_type": "stream",
     "text": [
      "[1] \"Found a error here\"\n"
     ]
    },
    {
     "name": "stderr",
     "output_type": "stream",
     "text": [
      ".Information from URL : http://maps.googleapis.com/maps/api/geocode/json?latlng=49.2827291,-123.1207375&sensor=false\n",
      ".Warning message in readLines(connect):\n",
      "“cannot open URL 'http://maps.googleapis.com/maps/api/geocode/json?latlng=NA,NA&sensor=false': HTTP status was '400 Bad Request'”"
     ]
    },
    {
     "name": "stdout",
     "output_type": "stream",
     "text": [
      "[1] \"Found a error here\"\n"
     ]
    },
    {
     "name": "stderr",
     "output_type": "stream",
     "text": [
      "Information from URL : http://maps.googleapis.com/maps/api/geocode/json?latlng=51.5073509,-0.1277583&sensor=false\n",
      ".Information from URL : http://maps.googleapis.com/maps/api/geocode/json?latlng=33.7748275,-84.2963123&sensor=false\n",
      ".Warning message in readLines(connect):\n",
      "“cannot open URL 'http://maps.googleapis.com/maps/api/geocode/json?latlng=NA,NA&sensor=false': HTTP status was '400 Bad Request'”"
     ]
    },
    {
     "name": "stdout",
     "output_type": "stream",
     "text": [
      "[1] \"Found a error here\"\n"
     ]
    },
    {
     "name": "stderr",
     "output_type": "stream",
     "text": [
      ".Information from URL : http://maps.googleapis.com/maps/api/geocode/json?latlng=40.6331249,-89.3985283&sensor=false\n",
      "Information from URL : http://maps.googleapis.com/maps/api/geocode/json?latlng=39.4795571,-97.6982272&sensor=false\n",
      ".Information from URL : http://maps.googleapis.com/maps/api/geocode/json?latlng=47.6062095,-122.3320708&sensor=false\n",
      ".Information from URL : http://maps.googleapis.com/maps/api/geocode/json?latlng=49.895136,-97.1383744&sensor=false\n",
      "Information from URL : http://maps.googleapis.com/maps/api/geocode/json?latlng=32.3199396,-106.7636538&sensor=false\n",
      ".Information from URL : http://maps.googleapis.com/maps/api/geocode/json?latlng=38.9071923,-77.0368707&sensor=false\n",
      ".Warning message in revgeocode(c(loc_df$lon[i], loc_df$lat[i])):\n",
      "“reverse geocode failed - bad location? location = \"114.057865\"reverse geocode failed - bad location? location = \"22.543096\"”Warning message in readLines(connect):\n",
      "“cannot open URL 'http://maps.googleapis.com/maps/api/geocode/json?latlng=NA,NA&sensor=false': HTTP status was '400 Bad Request'”"
     ]
    },
    {
     "name": "stdout",
     "output_type": "stream",
     "text": [
      "[1] \"Found a error here\"\n"
     ]
    },
    {
     "name": "stderr",
     "output_type": "stream",
     "text": [
      ".Warning message in readLines(connect):\n",
      "“cannot open URL 'http://maps.googleapis.com/maps/api/geocode/json?latlng=NA,NA&sensor=false': HTTP status was '400 Bad Request'”"
     ]
    },
    {
     "name": "stdout",
     "output_type": "stream",
     "text": [
      "[1] \"Found a error here\"\n"
     ]
    },
    {
     "name": "stderr",
     "output_type": "stream",
     "text": [
      ".Information from URL : http://maps.googleapis.com/maps/api/geocode/json?latlng=60.1698557,24.9383791&sensor=false\n",
      ".Information from URL : http://maps.googleapis.com/maps/api/geocode/json?latlng=43.0508937,-87.9055738&sensor=false\n",
      "Information from URL : http://maps.googleapis.com/maps/api/geocode/json?latlng=40.789142,-73.134961&sensor=false\n",
      ".Information from URL : http://maps.googleapis.com/maps/api/geocode/json?latlng=37.228331,-121.9808531&sensor=false\n",
      ".Warning message in readLines(connect):\n",
      "“cannot open URL 'http://maps.googleapis.com/maps/api/geocode/json?latlng=NA,NA&sensor=false': HTTP status was '400 Bad Request'”"
     ]
    },
    {
     "name": "stdout",
     "output_type": "stream",
     "text": [
      "[1] \"Found a error here\"\n"
     ]
    },
    {
     "name": "stderr",
     "output_type": "stream",
     "text": [
      ".Information from URL : http://maps.googleapis.com/maps/api/geocode/json?latlng=56.302139,9.302777&sensor=false\n",
      ".Information from URL : http://maps.googleapis.com/maps/api/geocode/json?latlng=-41.2864603,174.776236&sensor=false\n",
      ".Information from URL : http://maps.googleapis.com/maps/api/geocode/json?latlng=37.09024,-95.712891&sensor=false\n",
      "Warning message in readLines(connect):\n",
      "“cannot open URL 'http://maps.googleapis.com/maps/api/geocode/json?latlng=NA,NA&sensor=false': HTTP status was '400 Bad Request'”"
     ]
    },
    {
     "name": "stdout",
     "output_type": "stream",
     "text": [
      "[1] \"Found a error here\"\n"
     ]
    },
    {
     "name": "stderr",
     "output_type": "stream",
     "text": [
      ".Information from URL : http://maps.googleapis.com/maps/api/geocode/json?latlng=44.4059902,-69.4672352&sensor=false\n"
     ]
    }
   ],
   "source": [
    "#uo = revgeocode(c(as.integer(dat$lon[i]), as.integer(dat$lat[i])))\n",
    "library(ggplot2)\n",
    "library(ggmap)\n",
    "library(qdapRegex)\n",
    "library(stringr)\n",
    "j= 0\n",
    "US_states = c()\n",
    "for(i in 2:nrow(loc_df))\n",
    "{  \n",
    "  # Print(\"Working...\")\n",
    "  tryCatch({\n",
    "      address = revgeocode(c(loc_df$lon[i], loc_df$lat[i]))\n",
    "  # temp =  str_extract_all(uo, '\\\\b[A-Z]{2,3}\\\\b')\n",
    "  temp =  str_extract_all(address, 'USA') \n",
    "    #ex_postal_code(address)\n",
    "  if (temp == 'USA'){\n",
    "      US_states[j] = ex_postal_code(address)\n",
    "      j = j + 1   \n",
    "  }         \n",
    "      \n",
    "    }  , error=function(e) print(\"Found a error here\"))\n",
    "  \n",
    "}"
   ]
  },
  {
   "cell_type": "code",
   "execution_count": 3,
   "metadata": {},
   "outputs": [
    {
     "data": {
      "text/html": [
       "<ol>\n",
       "\t<li>'CA'</li>\n",
       "\t<li>'CA'</li>\n",
       "\t<li>'TX'</li>\n",
       "\t<li>'KS'</li>\n",
       "\t<li><ol class=list-inline>\n",
       "\t<li>'PA'</li>\n",
       "\t<li>'PA'</li>\n",
       "</ol>\n",
       "</li>\n",
       "\t<li>'FL'</li>\n",
       "\t<li>'MI'</li>\n",
       "\t<li>'TX'</li>\n",
       "\t<li>'FL'</li>\n",
       "\t<li>'NY'</li>\n",
       "\t<li>'NV'</li>\n",
       "\t<li>'MO'</li>\n",
       "\t<li>'CA'</li>\n",
       "\t<li>'KS'</li>\n",
       "\t<li>'TX'</li>\n",
       "\t<li>'KS'</li>\n",
       "\t<li>'MN'</li>\n",
       "\t<li>'WY'</li>\n",
       "\t<li>'TX'</li>\n",
       "\t<li>'KS'</li>\n",
       "\t<li>'PA'</li>\n",
       "\t<li>'NY'</li>\n",
       "\t<li>'CA'</li>\n",
       "\t<li>'SD'</li>\n",
       "\t<li>'PA'</li>\n",
       "\t<li>'OK'</li>\n",
       "\t<li>'KS'</li>\n",
       "\t<li>'KS'</li>\n",
       "\t<li>'MN'</li>\n",
       "\t<li>'CA'</li>\n",
       "\t<li>'MI'</li>\n",
       "\t<li>'ID'</li>\n",
       "\t<li>'ID'</li>\n",
       "\t<li>'MD'</li>\n",
       "\t<li>'NJ'</li>\n",
       "\t<li>'KS'</li>\n",
       "\t<li>'KS'</li>\n",
       "\t<li>'NJ'</li>\n",
       "\t<li>'AZ'</li>\n",
       "\t<li>'DC'</li>\n",
       "\t<li>'MO'</li>\n",
       "\t<li>'KS'</li>\n",
       "\t<li>'PA'</li>\n",
       "\t<li>'NC'</li>\n",
       "\t<li>'CA'</li>\n",
       "\t<li>'MA'</li>\n",
       "\t<li>'DC'</li>\n",
       "\t<li>'KY'</li>\n",
       "\t<li>'CO'</li>\n",
       "\t<li>'CA'</li>\n",
       "\t<li>'TX'</li>\n",
       "\t<li>'CA'</li>\n",
       "\t<li>'DC'</li>\n",
       "\t<li>'GA'</li>\n",
       "\t<li>'KS'</li>\n",
       "\t<li>'NE'</li>\n",
       "\t<li>'TX'</li>\n",
       "\t<li>'CA'</li>\n",
       "\t<li>'KY'</li>\n",
       "\t<li>'CA'</li>\n",
       "\t<li>'NY'</li>\n",
       "\t<li>'IN'</li>\n",
       "\t<li>'GA'</li>\n",
       "\t<li>'NY'</li>\n",
       "\t<li>'MI'</li>\n",
       "\t<li>'KS'</li>\n",
       "\t<li>'FL'</li>\n",
       "\t<li>'AZ'</li>\n",
       "\t<li>'DC'</li>\n",
       "\t<li>'DC'</li>\n",
       "\t<li>'MN'</li>\n",
       "\t<li>'MI'</li>\n",
       "\t<li>'AZ'</li>\n",
       "\t<li>'FL'</li>\n",
       "\t<li>'SC'</li>\n",
       "\t<li>'FL'</li>\n",
       "\t<li>'GA'</li>\n",
       "\t<li>'OH'</li>\n",
       "\t<li>'AZ'</li>\n",
       "\t<li>'AK'</li>\n",
       "\t<li>'WA'</li>\n",
       "\t<li>'TX'</li>\n",
       "\t<li>'KS'</li>\n",
       "\t<li>'OK'</li>\n",
       "\t<li>'CA'</li>\n",
       "\t<li>'NV'</li>\n",
       "\t<li>'NY'</li>\n",
       "\t<li>'AZ'</li>\n",
       "\t<li>'KS'</li>\n",
       "\t<li>'MO'</li>\n",
       "\t<li><ol class=list-inline>\n",
       "\t<li>'GA'</li>\n",
       "\t<li>'GA'</li>\n",
       "</ol>\n",
       "</li>\n",
       "\t<li>'DC'</li>\n",
       "\t<li>'CA'</li>\n",
       "\t<li>'CA'</li>\n",
       "\t<li>'DC'</li>\n",
       "\t<li>'DC'</li>\n",
       "\t<li>'VA'</li>\n",
       "\t<li>'IN'</li>\n",
       "\t<li>'PA'</li>\n",
       "\t<li>'CO'</li>\n",
       "\t<li>'CA'</li>\n",
       "\t<li>'NC'</li>\n",
       "\t<li>'TX'</li>\n",
       "\t<li>'NY'</li>\n",
       "\t<li>'MA'</li>\n",
       "\t<li>'MA'</li>\n",
       "\t<li>'NC'</li>\n",
       "\t<li>'NY'</li>\n",
       "\t<li><ol class=list-inline>\n",
       "\t<li>'GA'</li>\n",
       "\t<li>'GA'</li>\n",
       "</ol>\n",
       "</li>\n",
       "\t<li>'WA'</li>\n",
       "\t<li>'MA'</li>\n",
       "\t<li>'CO'</li>\n",
       "\t<li>'MN'</li>\n",
       "\t<li>'TX'</li>\n",
       "\t<li>'OH'</li>\n",
       "\t<li>'CA'</li>\n",
       "\t<li>'VA'</li>\n",
       "\t<li>'CA'</li>\n",
       "\t<li>'CA'</li>\n",
       "\t<li>'VA'</li>\n",
       "\t<li>'NJ'</li>\n",
       "\t<li>'DC'</li>\n",
       "\t<li>'IN'</li>\n",
       "\t<li>'CA'</li>\n",
       "\t<li>'CA'</li>\n",
       "\t<li>'NY'</li>\n",
       "\t<li>'MA'</li>\n",
       "\t<li>'CA'</li>\n",
       "\t<li>'UT'</li>\n",
       "\t<li>'MA'</li>\n",
       "\t<li>'VA'</li>\n",
       "\t<li>'CA'</li>\n",
       "\t<li>'CA'</li>\n",
       "\t<li>'MS'</li>\n",
       "\t<li>'KS'</li>\n",
       "\t<li>'CA'</li>\n",
       "\t<li>'FL'</li>\n",
       "\t<li>'IL'</li>\n",
       "\t<li>'OK'</li>\n",
       "\t<li>'GA'</li>\n",
       "\t<li>'NY'</li>\n",
       "\t<li>'NC'</li>\n",
       "\t<li>'NY'</li>\n",
       "\t<li>'KS'</li>\n",
       "\t<li>'WA'</li>\n",
       "\t<li>'DC'</li>\n",
       "\t<li>'GA'</li>\n",
       "\t<li>'GA'</li>\n",
       "\t<li><ol class=list-inline>\n",
       "\t<li>'CA'</li>\n",
       "\t<li>'CA'</li>\n",
       "</ol>\n",
       "</li>\n",
       "\t<li>'AZ'</li>\n",
       "\t<li>'MN'</li>\n",
       "\t<li>'NC'</li>\n",
       "\t<li>'WI'</li>\n",
       "\t<li>'VA'</li>\n",
       "\t<li>'NC'</li>\n",
       "\t<li>'CO'</li>\n",
       "\t<li>'WI'</li>\n",
       "\t<li>'CT'</li>\n",
       "\t<li>'IL'</li>\n",
       "\t<li>'NY'</li>\n",
       "\t<li>'CA'</li>\n",
       "\t<li>'MT'</li>\n",
       "\t<li>'PA'</li>\n",
       "\t<li>'MN'</li>\n",
       "\t<li>'DC'</li>\n",
       "\t<li>'NC'</li>\n",
       "\t<li>'CT'</li>\n",
       "\t<li>'NY'</li>\n",
       "\t<li>'IN'</li>\n",
       "\t<li>'WA'</li>\n",
       "\t<li>'WA'</li>\n",
       "\t<li>'DE'</li>\n",
       "\t<li>'IL'</li>\n",
       "\t<li><ol class=list-inline>\n",
       "\t<li>'NH'</li>\n",
       "\t<li>'NH'</li>\n",
       "</ol>\n",
       "</li>\n",
       "\t<li><ol class=list-inline>\n",
       "\t<li>'PA'</li>\n",
       "\t<li>'PA'</li>\n",
       "</ol>\n",
       "</li>\n",
       "\t<li>'TX'</li>\n",
       "\t<li>'PA'</li>\n",
       "\t<li>'WV'</li>\n",
       "\t<li>'MD'</li>\n",
       "\t<li>'NY'</li>\n",
       "\t<li>'IN'</li>\n",
       "\t<li>'MA'</li>\n",
       "\t<li>'CA'</li>\n",
       "\t<li>'MD'</li>\n",
       "\t<li>'CT'</li>\n",
       "\t<li>'FL'</li>\n",
       "\t<li>'OH'</li>\n",
       "\t<li>'FL'</li>\n",
       "\t<li>'NC'</li>\n",
       "\t<li>'NV'</li>\n",
       "\t<li>NA</li>\n",
       "\t<li>'WI'</li>\n",
       "\t<li>'MS'</li>\n",
       "\t<li>'KS'</li>\n",
       "\t<li>'OH'</li>\n",
       "\t<li>'CA'</li>\n",
       "\t<li>'NJ'</li>\n",
       "\t<li>'CO'</li>\n",
       "\t<li>'KS'</li>\n",
       "\t<li>'DC'</li>\n",
       "\t<li>'GA'</li>\n",
       "\t<li>'FL'</li>\n",
       "\t<li>'NY'</li>\n",
       "\t<li>'NC'</li>\n",
       "\t<li>'NM'</li>\n",
       "\t<li>NA</li>\n",
       "\t<li><ol class=list-inline>\n",
       "\t<li>'FL'</li>\n",
       "\t<li>'FL'</li>\n",
       "</ol>\n",
       "</li>\n",
       "\t<li>'MI'</li>\n",
       "\t<li>'VA'</li>\n",
       "\t<li>'OR'</li>\n",
       "\t<li>'TX'</li>\n",
       "\t<li>'GA'</li>\n",
       "\t<li>'FL'</li>\n",
       "\t<li>'GA'</li>\n",
       "\t<li>'IL'</li>\n",
       "\t<li>'KS'</li>\n",
       "\t<li>'WA'</li>\n",
       "\t<li>'NM'</li>\n",
       "\t<li>'DC'</li>\n",
       "\t<li>'WI'</li>\n",
       "\t<li>'NY'</li>\n",
       "\t<li>'CA'</li>\n",
       "\t<li>'KS'</li>\n",
       "\t<li>'ME'</li>\n",
       "</ol>\n"
      ],
      "text/latex": [
       "\\begin{enumerate}\n",
       "\\item 'CA'\n",
       "\\item 'CA'\n",
       "\\item 'TX'\n",
       "\\item 'KS'\n",
       "\\item \\begin{enumerate*}\n",
       "\\item 'PA'\n",
       "\\item 'PA'\n",
       "\\end{enumerate*}\n",
       "\n",
       "\\item 'FL'\n",
       "\\item 'MI'\n",
       "\\item 'TX'\n",
       "\\item 'FL'\n",
       "\\item 'NY'\n",
       "\\item 'NV'\n",
       "\\item 'MO'\n",
       "\\item 'CA'\n",
       "\\item 'KS'\n",
       "\\item 'TX'\n",
       "\\item 'KS'\n",
       "\\item 'MN'\n",
       "\\item 'WY'\n",
       "\\item 'TX'\n",
       "\\item 'KS'\n",
       "\\item 'PA'\n",
       "\\item 'NY'\n",
       "\\item 'CA'\n",
       "\\item 'SD'\n",
       "\\item 'PA'\n",
       "\\item 'OK'\n",
       "\\item 'KS'\n",
       "\\item 'KS'\n",
       "\\item 'MN'\n",
       "\\item 'CA'\n",
       "\\item 'MI'\n",
       "\\item 'ID'\n",
       "\\item 'ID'\n",
       "\\item 'MD'\n",
       "\\item 'NJ'\n",
       "\\item 'KS'\n",
       "\\item 'KS'\n",
       "\\item 'NJ'\n",
       "\\item 'AZ'\n",
       "\\item 'DC'\n",
       "\\item 'MO'\n",
       "\\item 'KS'\n",
       "\\item 'PA'\n",
       "\\item 'NC'\n",
       "\\item 'CA'\n",
       "\\item 'MA'\n",
       "\\item 'DC'\n",
       "\\item 'KY'\n",
       "\\item 'CO'\n",
       "\\item 'CA'\n",
       "\\item 'TX'\n",
       "\\item 'CA'\n",
       "\\item 'DC'\n",
       "\\item 'GA'\n",
       "\\item 'KS'\n",
       "\\item 'NE'\n",
       "\\item 'TX'\n",
       "\\item 'CA'\n",
       "\\item 'KY'\n",
       "\\item 'CA'\n",
       "\\item 'NY'\n",
       "\\item 'IN'\n",
       "\\item 'GA'\n",
       "\\item 'NY'\n",
       "\\item 'MI'\n",
       "\\item 'KS'\n",
       "\\item 'FL'\n",
       "\\item 'AZ'\n",
       "\\item 'DC'\n",
       "\\item 'DC'\n",
       "\\item 'MN'\n",
       "\\item 'MI'\n",
       "\\item 'AZ'\n",
       "\\item 'FL'\n",
       "\\item 'SC'\n",
       "\\item 'FL'\n",
       "\\item 'GA'\n",
       "\\item 'OH'\n",
       "\\item 'AZ'\n",
       "\\item 'AK'\n",
       "\\item 'WA'\n",
       "\\item 'TX'\n",
       "\\item 'KS'\n",
       "\\item 'OK'\n",
       "\\item 'CA'\n",
       "\\item 'NV'\n",
       "\\item 'NY'\n",
       "\\item 'AZ'\n",
       "\\item 'KS'\n",
       "\\item 'MO'\n",
       "\\item \\begin{enumerate*}\n",
       "\\item 'GA'\n",
       "\\item 'GA'\n",
       "\\end{enumerate*}\n",
       "\n",
       "\\item 'DC'\n",
       "\\item 'CA'\n",
       "\\item 'CA'\n",
       "\\item 'DC'\n",
       "\\item 'DC'\n",
       "\\item 'VA'\n",
       "\\item 'IN'\n",
       "\\item 'PA'\n",
       "\\item 'CO'\n",
       "\\item 'CA'\n",
       "\\item 'NC'\n",
       "\\item 'TX'\n",
       "\\item 'NY'\n",
       "\\item 'MA'\n",
       "\\item 'MA'\n",
       "\\item 'NC'\n",
       "\\item 'NY'\n",
       "\\item \\begin{enumerate*}\n",
       "\\item 'GA'\n",
       "\\item 'GA'\n",
       "\\end{enumerate*}\n",
       "\n",
       "\\item 'WA'\n",
       "\\item 'MA'\n",
       "\\item 'CO'\n",
       "\\item 'MN'\n",
       "\\item 'TX'\n",
       "\\item 'OH'\n",
       "\\item 'CA'\n",
       "\\item 'VA'\n",
       "\\item 'CA'\n",
       "\\item 'CA'\n",
       "\\item 'VA'\n",
       "\\item 'NJ'\n",
       "\\item 'DC'\n",
       "\\item 'IN'\n",
       "\\item 'CA'\n",
       "\\item 'CA'\n",
       "\\item 'NY'\n",
       "\\item 'MA'\n",
       "\\item 'CA'\n",
       "\\item 'UT'\n",
       "\\item 'MA'\n",
       "\\item 'VA'\n",
       "\\item 'CA'\n",
       "\\item 'CA'\n",
       "\\item 'MS'\n",
       "\\item 'KS'\n",
       "\\item 'CA'\n",
       "\\item 'FL'\n",
       "\\item 'IL'\n",
       "\\item 'OK'\n",
       "\\item 'GA'\n",
       "\\item 'NY'\n",
       "\\item 'NC'\n",
       "\\item 'NY'\n",
       "\\item 'KS'\n",
       "\\item 'WA'\n",
       "\\item 'DC'\n",
       "\\item 'GA'\n",
       "\\item 'GA'\n",
       "\\item \\begin{enumerate*}\n",
       "\\item 'CA'\n",
       "\\item 'CA'\n",
       "\\end{enumerate*}\n",
       "\n",
       "\\item 'AZ'\n",
       "\\item 'MN'\n",
       "\\item 'NC'\n",
       "\\item 'WI'\n",
       "\\item 'VA'\n",
       "\\item 'NC'\n",
       "\\item 'CO'\n",
       "\\item 'WI'\n",
       "\\item 'CT'\n",
       "\\item 'IL'\n",
       "\\item 'NY'\n",
       "\\item 'CA'\n",
       "\\item 'MT'\n",
       "\\item 'PA'\n",
       "\\item 'MN'\n",
       "\\item 'DC'\n",
       "\\item 'NC'\n",
       "\\item 'CT'\n",
       "\\item 'NY'\n",
       "\\item 'IN'\n",
       "\\item 'WA'\n",
       "\\item 'WA'\n",
       "\\item 'DE'\n",
       "\\item 'IL'\n",
       "\\item \\begin{enumerate*}\n",
       "\\item 'NH'\n",
       "\\item 'NH'\n",
       "\\end{enumerate*}\n",
       "\n",
       "\\item \\begin{enumerate*}\n",
       "\\item 'PA'\n",
       "\\item 'PA'\n",
       "\\end{enumerate*}\n",
       "\n",
       "\\item 'TX'\n",
       "\\item 'PA'\n",
       "\\item 'WV'\n",
       "\\item 'MD'\n",
       "\\item 'NY'\n",
       "\\item 'IN'\n",
       "\\item 'MA'\n",
       "\\item 'CA'\n",
       "\\item 'MD'\n",
       "\\item 'CT'\n",
       "\\item 'FL'\n",
       "\\item 'OH'\n",
       "\\item 'FL'\n",
       "\\item 'NC'\n",
       "\\item 'NV'\n",
       "\\item NA\n",
       "\\item 'WI'\n",
       "\\item 'MS'\n",
       "\\item 'KS'\n",
       "\\item 'OH'\n",
       "\\item 'CA'\n",
       "\\item 'NJ'\n",
       "\\item 'CO'\n",
       "\\item 'KS'\n",
       "\\item 'DC'\n",
       "\\item 'GA'\n",
       "\\item 'FL'\n",
       "\\item 'NY'\n",
       "\\item 'NC'\n",
       "\\item 'NM'\n",
       "\\item NA\n",
       "\\item \\begin{enumerate*}\n",
       "\\item 'FL'\n",
       "\\item 'FL'\n",
       "\\end{enumerate*}\n",
       "\n",
       "\\item 'MI'\n",
       "\\item 'VA'\n",
       "\\item 'OR'\n",
       "\\item 'TX'\n",
       "\\item 'GA'\n",
       "\\item 'FL'\n",
       "\\item 'GA'\n",
       "\\item 'IL'\n",
       "\\item 'KS'\n",
       "\\item 'WA'\n",
       "\\item 'NM'\n",
       "\\item 'DC'\n",
       "\\item 'WI'\n",
       "\\item 'NY'\n",
       "\\item 'CA'\n",
       "\\item 'KS'\n",
       "\\item 'ME'\n",
       "\\end{enumerate}\n"
      ],
      "text/markdown": [
       "1. 'CA'\n",
       "2. 'CA'\n",
       "3. 'TX'\n",
       "4. 'KS'\n",
       "5. 1. 'PA'\n",
       "2. 'PA'\n",
       "\n",
       "\n",
       "\n",
       "6. 'FL'\n",
       "7. 'MI'\n",
       "8. 'TX'\n",
       "9. 'FL'\n",
       "10. 'NY'\n",
       "11. 'NV'\n",
       "12. 'MO'\n",
       "13. 'CA'\n",
       "14. 'KS'\n",
       "15. 'TX'\n",
       "16. 'KS'\n",
       "17. 'MN'\n",
       "18. 'WY'\n",
       "19. 'TX'\n",
       "20. 'KS'\n",
       "21. 'PA'\n",
       "22. 'NY'\n",
       "23. 'CA'\n",
       "24. 'SD'\n",
       "25. 'PA'\n",
       "26. 'OK'\n",
       "27. 'KS'\n",
       "28. 'KS'\n",
       "29. 'MN'\n",
       "30. 'CA'\n",
       "31. 'MI'\n",
       "32. 'ID'\n",
       "33. 'ID'\n",
       "34. 'MD'\n",
       "35. 'NJ'\n",
       "36. 'KS'\n",
       "37. 'KS'\n",
       "38. 'NJ'\n",
       "39. 'AZ'\n",
       "40. 'DC'\n",
       "41. 'MO'\n",
       "42. 'KS'\n",
       "43. 'PA'\n",
       "44. 'NC'\n",
       "45. 'CA'\n",
       "46. 'MA'\n",
       "47. 'DC'\n",
       "48. 'KY'\n",
       "49. 'CO'\n",
       "50. 'CA'\n",
       "51. 'TX'\n",
       "52. 'CA'\n",
       "53. 'DC'\n",
       "54. 'GA'\n",
       "55. 'KS'\n",
       "56. 'NE'\n",
       "57. 'TX'\n",
       "58. 'CA'\n",
       "59. 'KY'\n",
       "60. 'CA'\n",
       "61. 'NY'\n",
       "62. 'IN'\n",
       "63. 'GA'\n",
       "64. 'NY'\n",
       "65. 'MI'\n",
       "66. 'KS'\n",
       "67. 'FL'\n",
       "68. 'AZ'\n",
       "69. 'DC'\n",
       "70. 'DC'\n",
       "71. 'MN'\n",
       "72. 'MI'\n",
       "73. 'AZ'\n",
       "74. 'FL'\n",
       "75. 'SC'\n",
       "76. 'FL'\n",
       "77. 'GA'\n",
       "78. 'OH'\n",
       "79. 'AZ'\n",
       "80. 'AK'\n",
       "81. 'WA'\n",
       "82. 'TX'\n",
       "83. 'KS'\n",
       "84. 'OK'\n",
       "85. 'CA'\n",
       "86. 'NV'\n",
       "87. 'NY'\n",
       "88. 'AZ'\n",
       "89. 'KS'\n",
       "90. 'MO'\n",
       "91. 1. 'GA'\n",
       "2. 'GA'\n",
       "\n",
       "\n",
       "\n",
       "92. 'DC'\n",
       "93. 'CA'\n",
       "94. 'CA'\n",
       "95. 'DC'\n",
       "96. 'DC'\n",
       "97. 'VA'\n",
       "98. 'IN'\n",
       "99. 'PA'\n",
       "100. 'CO'\n",
       "101. 'CA'\n",
       "102. 'NC'\n",
       "103. 'TX'\n",
       "104. 'NY'\n",
       "105. 'MA'\n",
       "106. 'MA'\n",
       "107. 'NC'\n",
       "108. 'NY'\n",
       "109. 1. 'GA'\n",
       "2. 'GA'\n",
       "\n",
       "\n",
       "\n",
       "110. 'WA'\n",
       "111. 'MA'\n",
       "112. 'CO'\n",
       "113. 'MN'\n",
       "114. 'TX'\n",
       "115. 'OH'\n",
       "116. 'CA'\n",
       "117. 'VA'\n",
       "118. 'CA'\n",
       "119. 'CA'\n",
       "120. 'VA'\n",
       "121. 'NJ'\n",
       "122. 'DC'\n",
       "123. 'IN'\n",
       "124. 'CA'\n",
       "125. 'CA'\n",
       "126. 'NY'\n",
       "127. 'MA'\n",
       "128. 'CA'\n",
       "129. 'UT'\n",
       "130. 'MA'\n",
       "131. 'VA'\n",
       "132. 'CA'\n",
       "133. 'CA'\n",
       "134. 'MS'\n",
       "135. 'KS'\n",
       "136. 'CA'\n",
       "137. 'FL'\n",
       "138. 'IL'\n",
       "139. 'OK'\n",
       "140. 'GA'\n",
       "141. 'NY'\n",
       "142. 'NC'\n",
       "143. 'NY'\n",
       "144. 'KS'\n",
       "145. 'WA'\n",
       "146. 'DC'\n",
       "147. 'GA'\n",
       "148. 'GA'\n",
       "149. 1. 'CA'\n",
       "2. 'CA'\n",
       "\n",
       "\n",
       "\n",
       "150. 'AZ'\n",
       "151. 'MN'\n",
       "152. 'NC'\n",
       "153. 'WI'\n",
       "154. 'VA'\n",
       "155. 'NC'\n",
       "156. 'CO'\n",
       "157. 'WI'\n",
       "158. 'CT'\n",
       "159. 'IL'\n",
       "160. 'NY'\n",
       "161. 'CA'\n",
       "162. 'MT'\n",
       "163. 'PA'\n",
       "164. 'MN'\n",
       "165. 'DC'\n",
       "166. 'NC'\n",
       "167. 'CT'\n",
       "168. 'NY'\n",
       "169. 'IN'\n",
       "170. 'WA'\n",
       "171. 'WA'\n",
       "172. 'DE'\n",
       "173. 'IL'\n",
       "174. 1. 'NH'\n",
       "2. 'NH'\n",
       "\n",
       "\n",
       "\n",
       "175. 1. 'PA'\n",
       "2. 'PA'\n",
       "\n",
       "\n",
       "\n",
       "176. 'TX'\n",
       "177. 'PA'\n",
       "178. 'WV'\n",
       "179. 'MD'\n",
       "180. 'NY'\n",
       "181. 'IN'\n",
       "182. 'MA'\n",
       "183. 'CA'\n",
       "184. 'MD'\n",
       "185. 'CT'\n",
       "186. 'FL'\n",
       "187. 'OH'\n",
       "188. 'FL'\n",
       "189. 'NC'\n",
       "190. 'NV'\n",
       "191. NA\n",
       "192. 'WI'\n",
       "193. 'MS'\n",
       "194. 'KS'\n",
       "195. 'OH'\n",
       "196. 'CA'\n",
       "197. 'NJ'\n",
       "198. 'CO'\n",
       "199. 'KS'\n",
       "200. 'DC'\n",
       "201. 'GA'\n",
       "202. 'FL'\n",
       "203. 'NY'\n",
       "204. 'NC'\n",
       "205. 'NM'\n",
       "206. NA\n",
       "207. 1. 'FL'\n",
       "2. 'FL'\n",
       "\n",
       "\n",
       "\n",
       "208. 'MI'\n",
       "209. 'VA'\n",
       "210. 'OR'\n",
       "211. 'TX'\n",
       "212. 'GA'\n",
       "213. 'FL'\n",
       "214. 'GA'\n",
       "215. 'IL'\n",
       "216. 'KS'\n",
       "217. 'WA'\n",
       "218. 'NM'\n",
       "219. 'DC'\n",
       "220. 'WI'\n",
       "221. 'NY'\n",
       "222. 'CA'\n",
       "223. 'KS'\n",
       "224. 'ME'\n",
       "\n",
       "\n"
      ],
      "text/plain": [
       "[[1]]\n",
       "[1] \"CA\"\n",
       "\n",
       "[[2]]\n",
       "[1] \"CA\"\n",
       "\n",
       "[[3]]\n",
       "[1] \"TX\"\n",
       "\n",
       "[[4]]\n",
       "[1] \"KS\"\n",
       "\n",
       "[[5]]\n",
       "[1] \"PA\" \"PA\"\n",
       "\n",
       "[[6]]\n",
       "[1] \"FL\"\n",
       "\n",
       "[[7]]\n",
       "[1] \"MI\"\n",
       "\n",
       "[[8]]\n",
       "[1] \"TX\"\n",
       "\n",
       "[[9]]\n",
       "[1] \"FL\"\n",
       "\n",
       "[[10]]\n",
       "[1] \"NY\"\n",
       "\n",
       "[[11]]\n",
       "[1] \"NV\"\n",
       "\n",
       "[[12]]\n",
       "[1] \"MO\"\n",
       "\n",
       "[[13]]\n",
       "[1] \"CA\"\n",
       "\n",
       "[[14]]\n",
       "[1] \"KS\"\n",
       "\n",
       "[[15]]\n",
       "[1] \"TX\"\n",
       "\n",
       "[[16]]\n",
       "[1] \"KS\"\n",
       "\n",
       "[[17]]\n",
       "[1] \"MN\"\n",
       "\n",
       "[[18]]\n",
       "[1] \"WY\"\n",
       "\n",
       "[[19]]\n",
       "[1] \"TX\"\n",
       "\n",
       "[[20]]\n",
       "[1] \"KS\"\n",
       "\n",
       "[[21]]\n",
       "[1] \"PA\"\n",
       "\n",
       "[[22]]\n",
       "[1] \"NY\"\n",
       "\n",
       "[[23]]\n",
       "[1] \"CA\"\n",
       "\n",
       "[[24]]\n",
       "[1] \"SD\"\n",
       "\n",
       "[[25]]\n",
       "[1] \"PA\"\n",
       "\n",
       "[[26]]\n",
       "[1] \"OK\"\n",
       "\n",
       "[[27]]\n",
       "[1] \"KS\"\n",
       "\n",
       "[[28]]\n",
       "[1] \"KS\"\n",
       "\n",
       "[[29]]\n",
       "[1] \"MN\"\n",
       "\n",
       "[[30]]\n",
       "[1] \"CA\"\n",
       "\n",
       "[[31]]\n",
       "[1] \"MI\"\n",
       "\n",
       "[[32]]\n",
       "[1] \"ID\"\n",
       "\n",
       "[[33]]\n",
       "[1] \"ID\"\n",
       "\n",
       "[[34]]\n",
       "[1] \"MD\"\n",
       "\n",
       "[[35]]\n",
       "[1] \"NJ\"\n",
       "\n",
       "[[36]]\n",
       "[1] \"KS\"\n",
       "\n",
       "[[37]]\n",
       "[1] \"KS\"\n",
       "\n",
       "[[38]]\n",
       "[1] \"NJ\"\n",
       "\n",
       "[[39]]\n",
       "[1] \"AZ\"\n",
       "\n",
       "[[40]]\n",
       "[1] \"DC\"\n",
       "\n",
       "[[41]]\n",
       "[1] \"MO\"\n",
       "\n",
       "[[42]]\n",
       "[1] \"KS\"\n",
       "\n",
       "[[43]]\n",
       "[1] \"PA\"\n",
       "\n",
       "[[44]]\n",
       "[1] \"NC\"\n",
       "\n",
       "[[45]]\n",
       "[1] \"CA\"\n",
       "\n",
       "[[46]]\n",
       "[1] \"MA\"\n",
       "\n",
       "[[47]]\n",
       "[1] \"DC\"\n",
       "\n",
       "[[48]]\n",
       "[1] \"KY\"\n",
       "\n",
       "[[49]]\n",
       "[1] \"CO\"\n",
       "\n",
       "[[50]]\n",
       "[1] \"CA\"\n",
       "\n",
       "[[51]]\n",
       "[1] \"TX\"\n",
       "\n",
       "[[52]]\n",
       "[1] \"CA\"\n",
       "\n",
       "[[53]]\n",
       "[1] \"DC\"\n",
       "\n",
       "[[54]]\n",
       "[1] \"GA\"\n",
       "\n",
       "[[55]]\n",
       "[1] \"KS\"\n",
       "\n",
       "[[56]]\n",
       "[1] \"NE\"\n",
       "\n",
       "[[57]]\n",
       "[1] \"TX\"\n",
       "\n",
       "[[58]]\n",
       "[1] \"CA\"\n",
       "\n",
       "[[59]]\n",
       "[1] \"KY\"\n",
       "\n",
       "[[60]]\n",
       "[1] \"CA\"\n",
       "\n",
       "[[61]]\n",
       "[1] \"NY\"\n",
       "\n",
       "[[62]]\n",
       "[1] \"IN\"\n",
       "\n",
       "[[63]]\n",
       "[1] \"GA\"\n",
       "\n",
       "[[64]]\n",
       "[1] \"NY\"\n",
       "\n",
       "[[65]]\n",
       "[1] \"MI\"\n",
       "\n",
       "[[66]]\n",
       "[1] \"KS\"\n",
       "\n",
       "[[67]]\n",
       "[1] \"FL\"\n",
       "\n",
       "[[68]]\n",
       "[1] \"AZ\"\n",
       "\n",
       "[[69]]\n",
       "[1] \"DC\"\n",
       "\n",
       "[[70]]\n",
       "[1] \"DC\"\n",
       "\n",
       "[[71]]\n",
       "[1] \"MN\"\n",
       "\n",
       "[[72]]\n",
       "[1] \"MI\"\n",
       "\n",
       "[[73]]\n",
       "[1] \"AZ\"\n",
       "\n",
       "[[74]]\n",
       "[1] \"FL\"\n",
       "\n",
       "[[75]]\n",
       "[1] \"SC\"\n",
       "\n",
       "[[76]]\n",
       "[1] \"FL\"\n",
       "\n",
       "[[77]]\n",
       "[1] \"GA\"\n",
       "\n",
       "[[78]]\n",
       "[1] \"OH\"\n",
       "\n",
       "[[79]]\n",
       "[1] \"AZ\"\n",
       "\n",
       "[[80]]\n",
       "[1] \"AK\"\n",
       "\n",
       "[[81]]\n",
       "[1] \"WA\"\n",
       "\n",
       "[[82]]\n",
       "[1] \"TX\"\n",
       "\n",
       "[[83]]\n",
       "[1] \"KS\"\n",
       "\n",
       "[[84]]\n",
       "[1] \"OK\"\n",
       "\n",
       "[[85]]\n",
       "[1] \"CA\"\n",
       "\n",
       "[[86]]\n",
       "[1] \"NV\"\n",
       "\n",
       "[[87]]\n",
       "[1] \"NY\"\n",
       "\n",
       "[[88]]\n",
       "[1] \"AZ\"\n",
       "\n",
       "[[89]]\n",
       "[1] \"KS\"\n",
       "\n",
       "[[90]]\n",
       "[1] \"MO\"\n",
       "\n",
       "[[91]]\n",
       "[1] \"GA\" \"GA\"\n",
       "\n",
       "[[92]]\n",
       "[1] \"DC\"\n",
       "\n",
       "[[93]]\n",
       "[1] \"CA\"\n",
       "\n",
       "[[94]]\n",
       "[1] \"CA\"\n",
       "\n",
       "[[95]]\n",
       "[1] \"DC\"\n",
       "\n",
       "[[96]]\n",
       "[1] \"DC\"\n",
       "\n",
       "[[97]]\n",
       "[1] \"VA\"\n",
       "\n",
       "[[98]]\n",
       "[1] \"IN\"\n",
       "\n",
       "[[99]]\n",
       "[1] \"PA\"\n",
       "\n",
       "[[100]]\n",
       "[1] \"CO\"\n",
       "\n",
       "[[101]]\n",
       "[1] \"CA\"\n",
       "\n",
       "[[102]]\n",
       "[1] \"NC\"\n",
       "\n",
       "[[103]]\n",
       "[1] \"TX\"\n",
       "\n",
       "[[104]]\n",
       "[1] \"NY\"\n",
       "\n",
       "[[105]]\n",
       "[1] \"MA\"\n",
       "\n",
       "[[106]]\n",
       "[1] \"MA\"\n",
       "\n",
       "[[107]]\n",
       "[1] \"NC\"\n",
       "\n",
       "[[108]]\n",
       "[1] \"NY\"\n",
       "\n",
       "[[109]]\n",
       "[1] \"GA\" \"GA\"\n",
       "\n",
       "[[110]]\n",
       "[1] \"WA\"\n",
       "\n",
       "[[111]]\n",
       "[1] \"MA\"\n",
       "\n",
       "[[112]]\n",
       "[1] \"CO\"\n",
       "\n",
       "[[113]]\n",
       "[1] \"MN\"\n",
       "\n",
       "[[114]]\n",
       "[1] \"TX\"\n",
       "\n",
       "[[115]]\n",
       "[1] \"OH\"\n",
       "\n",
       "[[116]]\n",
       "[1] \"CA\"\n",
       "\n",
       "[[117]]\n",
       "[1] \"VA\"\n",
       "\n",
       "[[118]]\n",
       "[1] \"CA\"\n",
       "\n",
       "[[119]]\n",
       "[1] \"CA\"\n",
       "\n",
       "[[120]]\n",
       "[1] \"VA\"\n",
       "\n",
       "[[121]]\n",
       "[1] \"NJ\"\n",
       "\n",
       "[[122]]\n",
       "[1] \"DC\"\n",
       "\n",
       "[[123]]\n",
       "[1] \"IN\"\n",
       "\n",
       "[[124]]\n",
       "[1] \"CA\"\n",
       "\n",
       "[[125]]\n",
       "[1] \"CA\"\n",
       "\n",
       "[[126]]\n",
       "[1] \"NY\"\n",
       "\n",
       "[[127]]\n",
       "[1] \"MA\"\n",
       "\n",
       "[[128]]\n",
       "[1] \"CA\"\n",
       "\n",
       "[[129]]\n",
       "[1] \"UT\"\n",
       "\n",
       "[[130]]\n",
       "[1] \"MA\"\n",
       "\n",
       "[[131]]\n",
       "[1] \"VA\"\n",
       "\n",
       "[[132]]\n",
       "[1] \"CA\"\n",
       "\n",
       "[[133]]\n",
       "[1] \"CA\"\n",
       "\n",
       "[[134]]\n",
       "[1] \"MS\"\n",
       "\n",
       "[[135]]\n",
       "[1] \"KS\"\n",
       "\n",
       "[[136]]\n",
       "[1] \"CA\"\n",
       "\n",
       "[[137]]\n",
       "[1] \"FL\"\n",
       "\n",
       "[[138]]\n",
       "[1] \"IL\"\n",
       "\n",
       "[[139]]\n",
       "[1] \"OK\"\n",
       "\n",
       "[[140]]\n",
       "[1] \"GA\"\n",
       "\n",
       "[[141]]\n",
       "[1] \"NY\"\n",
       "\n",
       "[[142]]\n",
       "[1] \"NC\"\n",
       "\n",
       "[[143]]\n",
       "[1] \"NY\"\n",
       "\n",
       "[[144]]\n",
       "[1] \"KS\"\n",
       "\n",
       "[[145]]\n",
       "[1] \"WA\"\n",
       "\n",
       "[[146]]\n",
       "[1] \"DC\"\n",
       "\n",
       "[[147]]\n",
       "[1] \"GA\"\n",
       "\n",
       "[[148]]\n",
       "[1] \"GA\"\n",
       "\n",
       "[[149]]\n",
       "[1] \"CA\" \"CA\"\n",
       "\n",
       "[[150]]\n",
       "[1] \"AZ\"\n",
       "\n",
       "[[151]]\n",
       "[1] \"MN\"\n",
       "\n",
       "[[152]]\n",
       "[1] \"NC\"\n",
       "\n",
       "[[153]]\n",
       "[1] \"WI\"\n",
       "\n",
       "[[154]]\n",
       "[1] \"VA\"\n",
       "\n",
       "[[155]]\n",
       "[1] \"NC\"\n",
       "\n",
       "[[156]]\n",
       "[1] \"CO\"\n",
       "\n",
       "[[157]]\n",
       "[1] \"WI\"\n",
       "\n",
       "[[158]]\n",
       "[1] \"CT\"\n",
       "\n",
       "[[159]]\n",
       "[1] \"IL\"\n",
       "\n",
       "[[160]]\n",
       "[1] \"NY\"\n",
       "\n",
       "[[161]]\n",
       "[1] \"CA\"\n",
       "\n",
       "[[162]]\n",
       "[1] \"MT\"\n",
       "\n",
       "[[163]]\n",
       "[1] \"PA\"\n",
       "\n",
       "[[164]]\n",
       "[1] \"MN\"\n",
       "\n",
       "[[165]]\n",
       "[1] \"DC\"\n",
       "\n",
       "[[166]]\n",
       "[1] \"NC\"\n",
       "\n",
       "[[167]]\n",
       "[1] \"CT\"\n",
       "\n",
       "[[168]]\n",
       "[1] \"NY\"\n",
       "\n",
       "[[169]]\n",
       "[1] \"IN\"\n",
       "\n",
       "[[170]]\n",
       "[1] \"WA\"\n",
       "\n",
       "[[171]]\n",
       "[1] \"WA\"\n",
       "\n",
       "[[172]]\n",
       "[1] \"DE\"\n",
       "\n",
       "[[173]]\n",
       "[1] \"IL\"\n",
       "\n",
       "[[174]]\n",
       "[1] \"NH\" \"NH\"\n",
       "\n",
       "[[175]]\n",
       "[1] \"PA\" \"PA\"\n",
       "\n",
       "[[176]]\n",
       "[1] \"TX\"\n",
       "\n",
       "[[177]]\n",
       "[1] \"PA\"\n",
       "\n",
       "[[178]]\n",
       "[1] \"WV\"\n",
       "\n",
       "[[179]]\n",
       "[1] \"MD\"\n",
       "\n",
       "[[180]]\n",
       "[1] \"NY\"\n",
       "\n",
       "[[181]]\n",
       "[1] \"IN\"\n",
       "\n",
       "[[182]]\n",
       "[1] \"MA\"\n",
       "\n",
       "[[183]]\n",
       "[1] \"CA\"\n",
       "\n",
       "[[184]]\n",
       "[1] \"MD\"\n",
       "\n",
       "[[185]]\n",
       "[1] \"CT\"\n",
       "\n",
       "[[186]]\n",
       "[1] \"FL\"\n",
       "\n",
       "[[187]]\n",
       "[1] \"OH\"\n",
       "\n",
       "[[188]]\n",
       "[1] \"FL\"\n",
       "\n",
       "[[189]]\n",
       "[1] \"NC\"\n",
       "\n",
       "[[190]]\n",
       "[1] \"NV\"\n",
       "\n",
       "[[191]]\n",
       "[1] NA\n",
       "\n",
       "[[192]]\n",
       "[1] \"WI\"\n",
       "\n",
       "[[193]]\n",
       "[1] \"MS\"\n",
       "\n",
       "[[194]]\n",
       "[1] \"KS\"\n",
       "\n",
       "[[195]]\n",
       "[1] \"OH\"\n",
       "\n",
       "[[196]]\n",
       "[1] \"CA\"\n",
       "\n",
       "[[197]]\n",
       "[1] \"NJ\"\n",
       "\n",
       "[[198]]\n",
       "[1] \"CO\"\n",
       "\n",
       "[[199]]\n",
       "[1] \"KS\"\n",
       "\n",
       "[[200]]\n",
       "[1] \"DC\"\n",
       "\n",
       "[[201]]\n",
       "[1] \"GA\"\n",
       "\n",
       "[[202]]\n",
       "[1] \"FL\"\n",
       "\n",
       "[[203]]\n",
       "[1] \"NY\"\n",
       "\n",
       "[[204]]\n",
       "[1] \"NC\"\n",
       "\n",
       "[[205]]\n",
       "[1] \"NM\"\n",
       "\n",
       "[[206]]\n",
       "[1] NA\n",
       "\n",
       "[[207]]\n",
       "[1] \"FL\" \"FL\"\n",
       "\n",
       "[[208]]\n",
       "[1] \"MI\"\n",
       "\n",
       "[[209]]\n",
       "[1] \"VA\"\n",
       "\n",
       "[[210]]\n",
       "[1] \"OR\"\n",
       "\n",
       "[[211]]\n",
       "[1] \"TX\"\n",
       "\n",
       "[[212]]\n",
       "[1] \"GA\"\n",
       "\n",
       "[[213]]\n",
       "[1] \"FL\"\n",
       "\n",
       "[[214]]\n",
       "[1] \"GA\"\n",
       "\n",
       "[[215]]\n",
       "[1] \"IL\"\n",
       "\n",
       "[[216]]\n",
       "[1] \"KS\"\n",
       "\n",
       "[[217]]\n",
       "[1] \"WA\"\n",
       "\n",
       "[[218]]\n",
       "[1] \"NM\"\n",
       "\n",
       "[[219]]\n",
       "[1] \"DC\"\n",
       "\n",
       "[[220]]\n",
       "[1] \"WI\"\n",
       "\n",
       "[[221]]\n",
       "[1] \"NY\"\n",
       "\n",
       "[[222]]\n",
       "[1] \"CA\"\n",
       "\n",
       "[[223]]\n",
       "[1] \"KS\"\n",
       "\n",
       "[[224]]\n",
       "[1] \"ME\"\n"
      ]
     },
     "metadata": {},
     "output_type": "display_data"
    }
   ],
   "source": [
    "US_states"
   ]
  },
  {
   "cell_type": "code",
   "execution_count": 40,
   "metadata": {
    "collapsed": true,
    "scrolled": true
   },
   "outputs": [],
   "source": [
    "#write.csv(US_states,'./US_states.csv')"
   ]
  },
  {
   "cell_type": "code",
   "execution_count": 8,
   "metadata": {
    "collapsed": true
   },
   "outputs": [],
   "source": [
    "# US_states[5] = 'PA'\n",
    "# US_states[91]= 'GA'\n",
    "# US_states[109] = 'GA'\n",
    "# US_states[149] = 'CA'\n",
    "# US_states[174] = 'NH'\n",
    "# US_states[175] = 'PA'\n",
    "# US_states[191] = 'NE'\n",
    "# US_states[207] = 'FL'\n",
    "# US_states[206] = 'NE'\n"
   ]
  },
  {
   "cell_type": "code",
   "execution_count": 9,
   "metadata": {
    "collapsed": true
   },
   "outputs": [],
   "source": [
    "library(openintro)\n",
    "state_list = c()\n",
    "\n",
    "for (i in 1:length(US_states)){\n",
    "    state_list[i] = abbr2state(US_states[i])\n",
    "    state_list[i] = tolower(state_list[i])\n",
    "}"
   ]
  },
  {
   "cell_type": "code",
   "execution_count": 58,
   "metadata": {
    "collapsed": true
   },
   "outputs": [],
   "source": [
    "# state_list[i+1] = 'arkansas'\n",
    "# state_list[i+3] = 'louisiana'\n",
    "# state_list[i+5] = 'new hampshire'\n",
    "# state_list[i+6] = 'rhode island'\n",
    "# state_list[i+7] = 'dakota'\n",
    "# state_list[i+8] = 'tennessee'\n",
    "# state_list[i+9] = 'vermont'\n",
    "# state_list[i+10] = 'wyoming'\n",
    "# state_list[i+11] = 'alabama'\n",
    "# state_list[i+12] ='hawaii'\n",
    "# state_list[i+13] = 'iowa'\n",
    "# state_list[i+14] = 'north dakota'\n",
    "# state_list[i+15] = 'puerto rico'\n",
    "# state_list[i+16] = 'virgin islands'\n",
    "# state_list[i+17] = 'new york city'\n",
    "# without these extra mentions the graph does look pretty"
   ]
  },
  {
   "cell_type": "code",
   "execution_count": 59,
   "metadata": {
    "collapsed": true
   },
   "outputs": [],
   "source": [
    "write.csv(state_list, './state_list.csv')"
   ]
  },
  {
   "cell_type": "code",
   "execution_count": 60,
   "metadata": {
    "collapsed": true
   },
   "outputs": [],
   "source": [
    "state_list1 = read.csv('./state_list.csv')"
   ]
  },
  {
   "cell_type": "code",
   "execution_count": 61,
   "metadata": {
    "collapsed": true
   },
   "outputs": [],
   "source": [
    "freq = as.data.frame(table(state_list))"
   ]
  },
  {
   "cell_type": "code",
   "execution_count": 62,
   "metadata": {
    "collapsed": true
   },
   "outputs": [],
   "source": [
    "colnames(freq) = c('region','Freq')"
   ]
  },
  {
   "cell_type": "code",
   "execution_count": 63,
   "metadata": {
    "collapsed": true
   },
   "outputs": [],
   "source": [
    "write.csv(freq, './freq.csv')"
   ]
  },
  {
   "cell_type": "code",
   "execution_count": 64,
   "metadata": {
    "collapsed": true
   },
   "outputs": [],
   "source": [
    "freq1 = read.csv('./freq.csv')"
   ]
  },
  {
   "cell_type": "code",
   "execution_count": 65,
   "metadata": {
    "collapsed": true
   },
   "outputs": [],
   "source": [
    "for (i in 1:nrow(freq1)){\n",
    "    if (freq1$Freq[i] <= 5){\n",
    "    freq1$level[i] = 1\n",
    "    } else if(freq1$Freq[i] > 5 && freq1$Freq[i] <=10){\n",
    "    freq1$level[i] = 2\n",
    "    } else if(freq1$Freq[i] > 10 && freq1$Freq[i] <=15){\n",
    "    freq1$level[i] = 3\n",
    "    } else if(freq1$Freq[i] >15 && freq1$Freq[i] <= 20){\n",
    "    freq1$level[i] = 4\n",
    "    } else if(freq1$Freq[i] > 20){\n",
    "        freq1$level[i] = 5\n",
    "    }\n",
    "}"
   ]
  },
  {
   "cell_type": "code",
   "execution_count": 66,
   "metadata": {},
   "outputs": [
    {
     "data": {
      "text/html": [
       "<table>\n",
       "<thead><tr><th scope=col>X</th><th scope=col>region</th><th scope=col>Freq</th><th scope=col>level</th></tr></thead>\n",
       "<tbody>\n",
       "\t<tr><td> 1                  </td><td>alabama             </td><td> 2                  </td><td>1                   </td></tr>\n",
       "\t<tr><td> 2                  </td><td>alaska              </td><td> 1                  </td><td>1                   </td></tr>\n",
       "\t<tr><td> 3                  </td><td>arizona             </td><td> 6                  </td><td>2                   </td></tr>\n",
       "\t<tr><td> 4                  </td><td>arkansas            </td><td> 4                  </td><td>1                   </td></tr>\n",
       "\t<tr><td> 5                  </td><td>california          </td><td>24                  </td><td>5                   </td></tr>\n",
       "\t<tr><td> 6                  </td><td>colorado            </td><td> 4                  </td><td>1                   </td></tr>\n",
       "\t<tr><td> 7                  </td><td>connecticut         </td><td> 3                  </td><td>1                   </td></tr>\n",
       "\t<tr><td> 8                  </td><td>dakota              </td><td> 2                  </td><td>1                   </td></tr>\n",
       "\t<tr><td> 9                  </td><td>delaware            </td><td> 1                  </td><td>1                   </td></tr>\n",
       "\t<tr><td>10                  </td><td>district of columbia</td><td>12                  </td><td>3                   </td></tr>\n",
       "\t<tr><td>11                  </td><td>florida             </td><td>10                  </td><td>2                   </td></tr>\n",
       "\t<tr><td>12                  </td><td>georgia             </td><td> 9                  </td><td>2                   </td></tr>\n",
       "\t<tr><td>13                  </td><td>hawaii              </td><td> 1                  </td><td>1                   </td></tr>\n",
       "\t<tr><td>14                  </td><td>idaho               </td><td> 2                  </td><td>1                   </td></tr>\n",
       "\t<tr><td>15                  </td><td>illinois            </td><td> 4                  </td><td>1                   </td></tr>\n",
       "\t<tr><td>16                  </td><td>indiana             </td><td> 4                  </td><td>1                   </td></tr>\n",
       "\t<tr><td>17                  </td><td>iowa                </td><td> 1                  </td><td>1                   </td></tr>\n",
       "\t<tr><td>18                  </td><td>kansas              </td><td>17                  </td><td>4                   </td></tr>\n",
       "\t<tr><td>19                  </td><td>kentucky            </td><td> 1                  </td><td>1                   </td></tr>\n",
       "\t<tr><td>20                  </td><td>louisiana           </td><td> 3                  </td><td>1                   </td></tr>\n",
       "\t<tr><td>21                  </td><td>maine               </td><td> 1                  </td><td>1                   </td></tr>\n",
       "\t<tr><td>22                  </td><td>maryland            </td><td> 3                  </td><td>1                   </td></tr>\n",
       "\t<tr><td>23                  </td><td>massachusetts       </td><td> 7                  </td><td>2                   </td></tr>\n",
       "\t<tr><td>24                  </td><td>michigan            </td><td> 4                  </td><td>1                   </td></tr>\n",
       "\t<tr><td>25                  </td><td>minnesota           </td><td> 6                  </td><td>2                   </td></tr>\n",
       "\t<tr><td>26                  </td><td>mississippi         </td><td> 2                  </td><td>1                   </td></tr>\n",
       "\t<tr><td>27                  </td><td>missouri            </td><td> 2                  </td><td>1                   </td></tr>\n",
       "\t<tr><td>28                  </td><td>montana             </td><td> 1                  </td><td>1                   </td></tr>\n",
       "\t<tr><td>29                  </td><td>nebraska            </td><td> 2                  </td><td>1                   </td></tr>\n",
       "\t<tr><td>30                  </td><td>nevada              </td><td> 3                  </td><td>1                   </td></tr>\n",
       "\t<tr><td>31                  </td><td>new hampshire       </td><td> 4                  </td><td>1                   </td></tr>\n",
       "\t<tr><td>32                  </td><td>new jersey          </td><td> 4                  </td><td>1                   </td></tr>\n",
       "\t<tr><td>33                  </td><td>new mexico          </td><td> 2                  </td><td>1                   </td></tr>\n",
       "\t<tr><td>34                  </td><td>new york            </td><td>13                  </td><td>3                   </td></tr>\n",
       "\t<tr><td>35                  </td><td>new york city       </td><td> 1                  </td><td>1                   </td></tr>\n",
       "\t<tr><td>36                  </td><td>north carolina      </td><td> 9                  </td><td>2                   </td></tr>\n",
       "\t<tr><td>37                  </td><td>north dakota        </td><td> 1                  </td><td>1                   </td></tr>\n",
       "\t<tr><td>38                  </td><td>ohio                </td><td> 4                  </td><td>1                   </td></tr>\n",
       "\t<tr><td>39                  </td><td>oklahoma            </td><td> 3                  </td><td>1                   </td></tr>\n",
       "\t<tr><td>40                  </td><td>oregon              </td><td> 1                  </td><td>1                   </td></tr>\n",
       "\t<tr><td>41                  </td><td>pennsylvania        </td><td> 8                  </td><td>2                   </td></tr>\n",
       "\t<tr><td>42                  </td><td>puerto rico         </td><td> 1                  </td><td>1                   </td></tr>\n",
       "\t<tr><td>43                  </td><td>rhode island        </td><td> 2                  </td><td>1                   </td></tr>\n",
       "\t<tr><td>44                  </td><td>south carolina      </td><td> 1                  </td><td>1                   </td></tr>\n",
       "\t<tr><td>45                  </td><td>south dakota        </td><td> 1                  </td><td>1                   </td></tr>\n",
       "\t<tr><td>46                  </td><td>tennessee           </td><td> 2                  </td><td>1                   </td></tr>\n",
       "\t<tr><td>47                  </td><td>texas               </td><td> 9                  </td><td>2                   </td></tr>\n",
       "\t<tr><td>48                  </td><td>utah                </td><td> 1                  </td><td>1                   </td></tr>\n",
       "\t<tr><td>49                  </td><td>vermont             </td><td> 2                  </td><td>1                   </td></tr>\n",
       "\t<tr><td>50                  </td><td>virgin islands      </td><td> 1                  </td><td>1                   </td></tr>\n",
       "\t<tr><td>51                  </td><td>virginia            </td><td> 6                  </td><td>2                   </td></tr>\n",
       "\t<tr><td>52                  </td><td>washington          </td><td> 6                  </td><td>2                   </td></tr>\n",
       "\t<tr><td>53                  </td><td>west virginia       </td><td> 1                  </td><td>1                   </td></tr>\n",
       "\t<tr><td>54                  </td><td>wisconsin           </td><td> 4                  </td><td>1                   </td></tr>\n",
       "\t<tr><td>55                  </td><td>wyoming             </td><td> 3                  </td><td>1                   </td></tr>\n",
       "</tbody>\n",
       "</table>\n"
      ],
      "text/latex": [
       "\\begin{tabular}{r|llll}\n",
       " X & region & Freq & level\\\\\n",
       "\\hline\n",
       "\t  1                   & alabama              &  2                   & 1                   \\\\\n",
       "\t  2                   & alaska               &  1                   & 1                   \\\\\n",
       "\t  3                   & arizona              &  6                   & 2                   \\\\\n",
       "\t  4                   & arkansas             &  4                   & 1                   \\\\\n",
       "\t  5                   & california           & 24                   & 5                   \\\\\n",
       "\t  6                   & colorado             &  4                   & 1                   \\\\\n",
       "\t  7                   & connecticut          &  3                   & 1                   \\\\\n",
       "\t  8                   & dakota               &  2                   & 1                   \\\\\n",
       "\t  9                   & delaware             &  1                   & 1                   \\\\\n",
       "\t 10                   & district of columbia & 12                   & 3                   \\\\\n",
       "\t 11                   & florida              & 10                   & 2                   \\\\\n",
       "\t 12                   & georgia              &  9                   & 2                   \\\\\n",
       "\t 13                   & hawaii               &  1                   & 1                   \\\\\n",
       "\t 14                   & idaho                &  2                   & 1                   \\\\\n",
       "\t 15                   & illinois             &  4                   & 1                   \\\\\n",
       "\t 16                   & indiana              &  4                   & 1                   \\\\\n",
       "\t 17                   & iowa                 &  1                   & 1                   \\\\\n",
       "\t 18                   & kansas               & 17                   & 4                   \\\\\n",
       "\t 19                   & kentucky             &  1                   & 1                   \\\\\n",
       "\t 20                   & louisiana            &  3                   & 1                   \\\\\n",
       "\t 21                   & maine                &  1                   & 1                   \\\\\n",
       "\t 22                   & maryland             &  3                   & 1                   \\\\\n",
       "\t 23                   & massachusetts        &  7                   & 2                   \\\\\n",
       "\t 24                   & michigan             &  4                   & 1                   \\\\\n",
       "\t 25                   & minnesota            &  6                   & 2                   \\\\\n",
       "\t 26                   & mississippi          &  2                   & 1                   \\\\\n",
       "\t 27                   & missouri             &  2                   & 1                   \\\\\n",
       "\t 28                   & montana              &  1                   & 1                   \\\\\n",
       "\t 29                   & nebraska             &  2                   & 1                   \\\\\n",
       "\t 30                   & nevada               &  3                   & 1                   \\\\\n",
       "\t 31                   & new hampshire        &  4                   & 1                   \\\\\n",
       "\t 32                   & new jersey           &  4                   & 1                   \\\\\n",
       "\t 33                   & new mexico           &  2                   & 1                   \\\\\n",
       "\t 34                   & new york             & 13                   & 3                   \\\\\n",
       "\t 35                   & new york city        &  1                   & 1                   \\\\\n",
       "\t 36                   & north carolina       &  9                   & 2                   \\\\\n",
       "\t 37                   & north dakota         &  1                   & 1                   \\\\\n",
       "\t 38                   & ohio                 &  4                   & 1                   \\\\\n",
       "\t 39                   & oklahoma             &  3                   & 1                   \\\\\n",
       "\t 40                   & oregon               &  1                   & 1                   \\\\\n",
       "\t 41                   & pennsylvania         &  8                   & 2                   \\\\\n",
       "\t 42                   & puerto rico          &  1                   & 1                   \\\\\n",
       "\t 43                   & rhode island         &  2                   & 1                   \\\\\n",
       "\t 44                   & south carolina       &  1                   & 1                   \\\\\n",
       "\t 45                   & south dakota         &  1                   & 1                   \\\\\n",
       "\t 46                   & tennessee            &  2                   & 1                   \\\\\n",
       "\t 47                   & texas                &  9                   & 2                   \\\\\n",
       "\t 48                   & utah                 &  1                   & 1                   \\\\\n",
       "\t 49                   & vermont              &  2                   & 1                   \\\\\n",
       "\t 50                   & virgin islands       &  1                   & 1                   \\\\\n",
       "\t 51                   & virginia             &  6                   & 2                   \\\\\n",
       "\t 52                   & washington           &  6                   & 2                   \\\\\n",
       "\t 53                   & west virginia        &  1                   & 1                   \\\\\n",
       "\t 54                   & wisconsin            &  4                   & 1                   \\\\\n",
       "\t 55                   & wyoming              &  3                   & 1                   \\\\\n",
       "\\end{tabular}\n"
      ],
      "text/markdown": [
       "\n",
       "X | region | Freq | level | \n",
       "|---|---|---|---|---|---|---|---|---|---|---|---|---|---|---|---|---|---|---|---|---|---|---|---|---|---|---|---|---|---|---|---|---|---|---|---|---|---|---|---|---|---|---|---|---|---|---|---|---|---|---|---|---|---|---|\n",
       "|  1                   | alabama              |  2                   | 1                    | \n",
       "|  2                   | alaska               |  1                   | 1                    | \n",
       "|  3                   | arizona              |  6                   | 2                    | \n",
       "|  4                   | arkansas             |  4                   | 1                    | \n",
       "|  5                   | california           | 24                   | 5                    | \n",
       "|  6                   | colorado             |  4                   | 1                    | \n",
       "|  7                   | connecticut          |  3                   | 1                    | \n",
       "|  8                   | dakota               |  2                   | 1                    | \n",
       "|  9                   | delaware             |  1                   | 1                    | \n",
       "| 10                   | district of columbia | 12                   | 3                    | \n",
       "| 11                   | florida              | 10                   | 2                    | \n",
       "| 12                   | georgia              |  9                   | 2                    | \n",
       "| 13                   | hawaii               |  1                   | 1                    | \n",
       "| 14                   | idaho                |  2                   | 1                    | \n",
       "| 15                   | illinois             |  4                   | 1                    | \n",
       "| 16                   | indiana              |  4                   | 1                    | \n",
       "| 17                   | iowa                 |  1                   | 1                    | \n",
       "| 18                   | kansas               | 17                   | 4                    | \n",
       "| 19                   | kentucky             |  1                   | 1                    | \n",
       "| 20                   | louisiana            |  3                   | 1                    | \n",
       "| 21                   | maine                |  1                   | 1                    | \n",
       "| 22                   | maryland             |  3                   | 1                    | \n",
       "| 23                   | massachusetts        |  7                   | 2                    | \n",
       "| 24                   | michigan             |  4                   | 1                    | \n",
       "| 25                   | minnesota            |  6                   | 2                    | \n",
       "| 26                   | mississippi          |  2                   | 1                    | \n",
       "| 27                   | missouri             |  2                   | 1                    | \n",
       "| 28                   | montana              |  1                   | 1                    | \n",
       "| 29                   | nebraska             |  2                   | 1                    | \n",
       "| 30                   | nevada               |  3                   | 1                    | \n",
       "| 31                   | new hampshire        |  4                   | 1                    | \n",
       "| 32                   | new jersey           |  4                   | 1                    | \n",
       "| 33                   | new mexico           |  2                   | 1                    | \n",
       "| 34                   | new york             | 13                   | 3                    | \n",
       "| 35                   | new york city        |  1                   | 1                    | \n",
       "| 36                   | north carolina       |  9                   | 2                    | \n",
       "| 37                   | north dakota         |  1                   | 1                    | \n",
       "| 38                   | ohio                 |  4                   | 1                    | \n",
       "| 39                   | oklahoma             |  3                   | 1                    | \n",
       "| 40                   | oregon               |  1                   | 1                    | \n",
       "| 41                   | pennsylvania         |  8                   | 2                    | \n",
       "| 42                   | puerto rico          |  1                   | 1                    | \n",
       "| 43                   | rhode island         |  2                   | 1                    | \n",
       "| 44                   | south carolina       |  1                   | 1                    | \n",
       "| 45                   | south dakota         |  1                   | 1                    | \n",
       "| 46                   | tennessee            |  2                   | 1                    | \n",
       "| 47                   | texas                |  9                   | 2                    | \n",
       "| 48                   | utah                 |  1                   | 1                    | \n",
       "| 49                   | vermont              |  2                   | 1                    | \n",
       "| 50                   | virgin islands       |  1                   | 1                    | \n",
       "| 51                   | virginia             |  6                   | 2                    | \n",
       "| 52                   | washington           |  6                   | 2                    | \n",
       "| 53                   | west virginia        |  1                   | 1                    | \n",
       "| 54                   | wisconsin            |  4                   | 1                    | \n",
       "| 55                   | wyoming              |  3                   | 1                    | \n",
       "\n",
       "\n"
      ],
      "text/plain": [
       "   X  region               Freq level\n",
       "1   1 alabama               2   1    \n",
       "2   2 alaska                1   1    \n",
       "3   3 arizona               6   2    \n",
       "4   4 arkansas              4   1    \n",
       "5   5 california           24   5    \n",
       "6   6 colorado              4   1    \n",
       "7   7 connecticut           3   1    \n",
       "8   8 dakota                2   1    \n",
       "9   9 delaware              1   1    \n",
       "10 10 district of columbia 12   3    \n",
       "11 11 florida              10   2    \n",
       "12 12 georgia               9   2    \n",
       "13 13 hawaii                1   1    \n",
       "14 14 idaho                 2   1    \n",
       "15 15 illinois              4   1    \n",
       "16 16 indiana               4   1    \n",
       "17 17 iowa                  1   1    \n",
       "18 18 kansas               17   4    \n",
       "19 19 kentucky              1   1    \n",
       "20 20 louisiana             3   1    \n",
       "21 21 maine                 1   1    \n",
       "22 22 maryland              3   1    \n",
       "23 23 massachusetts         7   2    \n",
       "24 24 michigan              4   1    \n",
       "25 25 minnesota             6   2    \n",
       "26 26 mississippi           2   1    \n",
       "27 27 missouri              2   1    \n",
       "28 28 montana               1   1    \n",
       "29 29 nebraska              2   1    \n",
       "30 30 nevada                3   1    \n",
       "31 31 new hampshire         4   1    \n",
       "32 32 new jersey            4   1    \n",
       "33 33 new mexico            2   1    \n",
       "34 34 new york             13   3    \n",
       "35 35 new york city         1   1    \n",
       "36 36 north carolina        9   2    \n",
       "37 37 north dakota          1   1    \n",
       "38 38 ohio                  4   1    \n",
       "39 39 oklahoma              3   1    \n",
       "40 40 oregon                1   1    \n",
       "41 41 pennsylvania          8   2    \n",
       "42 42 puerto rico           1   1    \n",
       "43 43 rhode island          2   1    \n",
       "44 44 south carolina        1   1    \n",
       "45 45 south dakota          1   1    \n",
       "46 46 tennessee             2   1    \n",
       "47 47 texas                 9   2    \n",
       "48 48 utah                  1   1    \n",
       "49 49 vermont               2   1    \n",
       "50 50 virgin islands        1   1    \n",
       "51 51 virginia              6   2    \n",
       "52 52 washington            6   2    \n",
       "53 53 west virginia         1   1    \n",
       "54 54 wisconsin             4   1    \n",
       "55 55 wyoming               3   1    "
      ]
     },
     "metadata": {},
     "output_type": "display_data"
    }
   ],
   "source": [
    "freq1"
   ]
  },
  {
   "cell_type": "code",
   "execution_count": 67,
   "metadata": {},
   "outputs": [
    {
     "data": {},
     "metadata": {},
     "output_type": "display_data"
    },
    {
     "data": {
      "image/png": "[encoded data removed]",
      "text/plain": [
       "plot without title"
      ]
     },
     "metadata": {},
     "output_type": "display_data"
    }
   ],
   "source": [
    "library(maps)\n",
    "library(ggplot2)\n",
    "\n",
    "states <- map_data(\"state\")\n",
    "heat_map_data <- merge(states, freq1, by=\"region\")\n",
    "qplot(long, lat, data=heat_map_data, geom=\"polygon\", fill=level, group=group)+\n",
    "# c_array = c(\"green\",\"olivedrab3\",\"yellow\",\"orange\",\"red\")\n",
    "# ggplot(heat_map_data, aes(x=long,y=lat,group=group,)) + \n",
    " geom_polygon(aes(fill=level)) + \n",
    "# scale_fill_manual(values = c_array) + \n",
    "coord_map()"
   ]
  },
  {
   "cell_type": "code",
   "execution_count": null,
   "metadata": {
    "collapsed": true
   },
   "outputs": [],
   "source": []
  }
 ],
 "metadata": {
  "kernelspec": {
   "display_name": "R",
   "language": "R",
   "name": "ir"
  },
  "language_info": {
   "codemirror_mode": "r",
   "file_extension": ".r",
   "mimetype": "text/x-r-source",
   "name": "R",
   "pygments_lexer": "r",
   "version": "3.4.2"
  }
 },
 "nbformat": 4,
 "nbformat_minor": 2
}
