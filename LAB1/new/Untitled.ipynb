{
 "cells": [
  {
   "cell_type": "code",
   "execution_count": 12,
   "metadata": {},
   "outputs": [
    {
     "name": "stdout",
     "output_type": "stream",
     "text": [
      "[1] \"Using direct authentication\"\n"
     ]
    }
   ],
   "source": [
    "require(twitteR)\n",
    "require(RCurl)\n",
    "consumer_key = \"Gsf3MdvIsgx2X9ZSNuVYM2wHA\"\n",
    "consumer_secret = \"tK2OgGAM5jXLhkDELJ2LOP6RupdN93utvakGOeJIt5owdZFChA\"\n",
    "access_token = \"963131506880368640-TvnbAHKGfES3kc01Rvc0cbH2DW7t5DY\"\n",
    "access_secret = \"MgTHUyl3ikL7w6Vf5RSn9HiV7SuRn3LmAW9nBKRvpziab\"\n",
    "setup_twitter_oauth(consumer_key, consumer_secret, access_token, access_secret)"
   ]
  },
  {
   "cell_type": "code",
   "execution_count": 13,
   "metadata": {},
   "outputs": [],
   "source": [
    "temp = as.data.frame(read.csv('/Users/pranavsankhe/Downloads/data.csv'))\n",
    "usernames = temp$screenName\n",
    "usernames = unique(usernames)"
   ]
  },
  {
   "cell_type": "code",
   "execution_count": 9,
   "metadata": {},
   "outputs": [],
   "source": []
  },
  {
   "cell_type": "code",
   "execution_count": 15,
   "metadata": {},
   "outputs": [
    {
     "name": "stderr",
     "output_type": "stream",
     "text": [
      "Warning message in twInterfaceObj$doAPICall(paste(\"users\", \"show\", sep = \"/\"), params = params, :\n",
      "“Rate limit encountered & retry limit reached - returning partial results”"
     ]
    },
    {
     "ename": "ERROR",
     "evalue": "Error in if (users$location != \"\") {: argument is of length zero\n",
     "output_type": "error",
     "traceback": [
      "Error in if (users$location != \"\") {: argument is of length zero\nTraceback:\n"
     ]
    }
   ],
   "source": [
    "locations = c()\n",
    "j = 0\n",
    "for(i in 1:900){\n",
    "    users = getUser(usernames[i])\n",
    "    if(users$location != \"\"){\n",
    "        locations[j] = users$location\n",
    "        j = j+1\n",
    "    }\n",
    "    } "
   ]
  },
  {
   "cell_type": "code",
   "execution_count": null,
   "metadata": {},
   "outputs": [],
   "source": []
  },
  {
   "cell_type": "code",
   "execution_count": null,
   "metadata": {},
   "outputs": [],
   "source": []
  },
  {
   "cell_type": "code",
   "execution_count": null,
   "metadata": {},
   "outputs": [],
   "source": []
  },
  {
   "cell_type": "code",
   "execution_count": null,
   "metadata": {},
   "outputs": [],
   "source": []
  },
  {
   "cell_type": "code",
   "execution_count": null,
   "metadata": {},
   "outputs": [],
   "source": []
  },
  {
   "cell_type": "code",
   "execution_count": null,
   "metadata": {},
   "outputs": [],
   "source": []
  },
  {
   "cell_type": "code",
   "execution_count": null,
   "metadata": {},
   "outputs": [],
   "source": [
    "library(maps)\n",
    "library(ggplot2)\n",
    "states <- map_data(\"state\")\n",
    "heat_map_data <- merge(states, freq, by=\"region\")\n",
    "c_array = c(\"green\",\"firebrick4\",\"olivedrab3\",\"yellow\",\"goldenrod3\",\"goldenrod4\",\"orange\",\"red\", \"firebrick3\")\n",
    "ggplot(heat_map_data, aes(x=long,y=lat,group=group)) + geom_polygon(aes(fill=level))  # using polygon fill for each states depending on ACTIVITY.LEVEL\n",
    "scale_fill_manual(values = c_array) + \n",
    "coord_map() +\n",
    "ggtitle(\"Influenza Spread for the Jan 27 Week\")"
   ]
  }
 ],
 "metadata": {
  "kernelspec": {
   "display_name": "R",
   "language": "R",
   "name": "ir"
  },
  "language_info": {
   "codemirror_mode": "r",
   "file_extension": ".r",
   "mimetype": "text/x-r-source",
   "name": "R",
   "pygments_lexer": "r",
   "version": "3.4.3"
  }
 },
 "nbformat": 4,
 "nbformat_minor": 2
}
